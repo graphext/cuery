{
 "cells": [
  {
   "cell_type": "code",
   "execution_count": null,
   "metadata": {},
   "outputs": [],
   "source": [
    "import importlib\n",
    "from pathlib import Path\n",
    "\n",
    "import instructor\n",
    "import openai\n",
    "import pandas as pd\n",
    "\n",
    "from cuery import pprint, response, task, utils\n",
    "from cuery.work import CountrySectors, DirceJobs, DirceTasks, SpanishSectors\n",
    "\n",
    "GDRIVE = Path(\"~/Google Drive/Shared drives/Solutions\").expanduser()\n",
    "task.Task.registry"
   ]
  },
  {
   "cell_type": "code",
   "execution_count": null,
   "metadata": {},
   "outputs": [],
   "source": [
    "from pydantic import Field\n",
    "from enum import Enum\n",
    "from cuery.prompt import Prompt\n",
    "from cuery.task import Task\n",
    "\n",
    "from cuery.response import ResponseModel\n",
    "\n",
    "class SimpleSectors(ResponseModel):\n",
    "    sectors: list[str] = Field(\n",
    "        description=\"A list of 5 NAIC industrial sectors with their AI automation potential\",\n",
    "        min_length=5,\n",
    "        max_length=5,\n",
    "    )\n",
    "\n",
    "prompt = Prompt(messages=[\n",
    "    {\"role\": \"user\", \"content\": \"\"\" Please identify sectors of industries/companies in {{country}} that have great potential to be disrupted\n",
    "        by AI (using AI software automation). Use the North American Industry Classification System (NAICS) to identify\n",
    "        the NAMES of sector and subsector (not IDs). Focus on sectors with the biggest potential for disruption, employing a large\n",
    "        number of jobs, and having the biggest number of companies.\"\"\"}],\n",
    "    required=[\"country\"]\n",
    ")\n",
    "\n",
    "CountrySectors = Task(\n",
    "    name=\"CountrySectors\", prompt=prompt, response=SimpleSectors\n",
    ")"
   ]
  }
 ],
 "metadata": {
  "kernelspec": {
   "display_name": ".venv",
   "language": "python",
   "name": "python3"
  },
  "language_info": {
   "name": "python",
   "version": "3.11.11"
  }
 },
 "nbformat": 4,
 "nbformat_minor": 2
}
