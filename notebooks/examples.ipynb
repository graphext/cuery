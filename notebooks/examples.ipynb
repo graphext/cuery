{
 "cells": [
  {
   "cell_type": "code",
   "execution_count": null,
   "id": "612a6447-6d7c-47ed-8a10-f8fed6fbb252",
   "metadata": {
    "execution": {
     "iopub.execute_input": "2025-05-13T16:06:53.801722Z",
     "iopub.status.busy": "2025-05-13T16:06:53.800950Z",
     "iopub.status.idle": "2025-05-13T16:06:53.828817Z",
     "shell.execute_reply": "2025-05-13T16:06:53.827747Z",
     "shell.execute_reply.started": "2025-05-13T16:06:53.801692Z"
    }
   },
   "outputs": [
    {
     "data": {
      "text/plain": [
       "<module 'cellmagic.utils' from '/Users/thomas/code/cellmagic/src/cellmagic/utils.py'>"
      ]
     },
     "execution_count": 1,
     "metadata": {},
     "output_type": "execute_result"
    }
   ],
   "source": [
    "import asyncio\n",
    "import importlib\n",
    "from pathlib import Path\n",
    "from pprint import pprint\n",
    "\n",
    "import instructor\n",
    "import pandas as pd\n",
    "from openai import OpenAI\n",
    "\n",
    "from cuery import utils\n",
    "\n",
    "importlib.reload(utils)"
   ]
  },
  {
   "cell_type": "markdown",
   "id": "f4355a5f",
   "metadata": {},
   "source": [
    "# Bugs"
   ]
  },
  {
   "cell_type": "code",
   "execution_count": null,
   "id": "b2a324df",
   "metadata": {},
   "outputs": [
    {
     "data": {
      "text/plain": [
       "Person(name='John Doe', age=30)"
      ]
     },
     "execution_count": 22,
     "metadata": {},
     "output_type": "execute_result"
    }
   ],
   "source": [
    "import instructor\n",
    "from pydantic import BaseModel\n",
    "from openai import AsyncOpenAI, OpenAI\n",
    "\n",
    "# Enables `response_model` in `create` method\n",
    "client = instructor.from_openai(AsyncOpenAI())\n",
    "\n",
    "\n",
    "class Person(BaseModel):\n",
    "    name: str\n",
    "    age: int\n",
    "\n",
    "\n",
    "async def extract_person(text: str) -> Person:\n",
    "    return await client.chat.completions.create(\n",
    "        model=\"gpt-3.5-turbo\",\n",
    "        messages=[\n",
    "            {\"role\": \"user\", \"content\": text},\n",
    "        ],\n",
    "        response_model=Person,\n",
    "    )\n",
    "\n",
    "\n",
    "result = await extract_person(\"My name is John Doe and I am 30 years old.\")\n",
    "result"
   ]
  },
  {
   "cell_type": "markdown",
   "id": "3e2bb601-ffec-481f-a88e-19ad3b87c044",
   "metadata": {},
   "source": [
    "# Litellm"
   ]
  },
  {
   "cell_type": "code",
   "execution_count": 16,
   "id": "79cbc28d-06a6-4a8f-91e6-9654da93dbe9",
   "metadata": {
    "execution": {
     "iopub.execute_input": "2025-05-13T16:07:59.343336Z",
     "iopub.status.busy": "2025-05-13T16:07:59.342163Z",
     "iopub.status.idle": "2025-05-13T16:07:59.524405Z",
     "shell.execute_reply": "2025-05-13T16:07:59.523908Z",
     "shell.execute_reply.started": "2025-05-13T16:07:59.343285Z"
    }
   },
   "outputs": [
    {
     "ename": "AttributeError",
     "evalue": "module 'cellmagic.utils' has no attribute 'set_litellm_api_keys'",
     "output_type": "error",
     "traceback": [
      "\u001b[31m---------------------------------------------------------------------------\u001b[39m",
      "\u001b[31mAttributeError\u001b[39m                            Traceback (most recent call last)",
      "\u001b[36mCell\u001b[39m\u001b[36m \u001b[39m\u001b[32mIn[16]\u001b[39m\u001b[32m, line 3\u001b[39m\n\u001b[32m      1\u001b[39m \u001b[38;5;28;01mfrom\u001b[39;00m\u001b[38;5;250m \u001b[39m\u001b[34;01mlitellm\u001b[39;00m\u001b[38;5;250m \u001b[39m\u001b[38;5;28;01mimport\u001b[39;00m completion\n\u001b[32m----> \u001b[39m\u001b[32m3\u001b[39m \u001b[43mutils\u001b[49m\u001b[43m.\u001b[49m\u001b[43mset_litellm_api_keys\u001b[49m()\n\u001b[32m      4\u001b[39m response = completion(\n\u001b[32m      5\u001b[39m     model=\u001b[33m\"\u001b[39m\u001b[33mopenai/gpt-4o\u001b[39m\u001b[33m\"\u001b[39m,\n\u001b[32m      6\u001b[39m     messages=[{\u001b[33m\"\u001b[39m\u001b[33mcontent\u001b[39m\u001b[33m\"\u001b[39m: \u001b[33m\"\u001b[39m\u001b[33mHello, how are you?\u001b[39m\u001b[33m\"\u001b[39m, \u001b[33m\"\u001b[39m\u001b[33mrole\u001b[39m\u001b[33m\"\u001b[39m: \u001b[33m\"\u001b[39m\u001b[33muser\u001b[39m\u001b[33m\"\u001b[39m}],\n\u001b[32m      7\u001b[39m )\n\u001b[32m      8\u001b[39m \u001b[38;5;28mprint\u001b[39m(response.choices[\u001b[32m0\u001b[39m].message.content)\n",
      "\u001b[31mAttributeError\u001b[39m: module 'cellmagic.utils' has no attribute 'set_litellm_api_keys'"
     ]
    }
   ],
   "source": [
    "from litellm import completion\n",
    "\n",
    "utils.set_litellm_api_keys()\n",
    "response = completion(\n",
    "    model=\"openai/gpt-4o\",\n",
    "    messages=[{\"content\": \"Hello, how are you?\", \"role\": \"user\"}],\n",
    ")\n",
    "print(response.choices[0].message.content)"
   ]
  },
  {
   "cell_type": "code",
   "execution_count": null,
   "id": "329ac2e1",
   "metadata": {},
   "outputs": [
    {
     "name": "stdout",
     "output_type": "stream",
     "text": [
      "Hello! Thanks for asking—I'm here and ready to help you with any questions or information you need. If you're inspired by the cheerful greeting from Super Simple Songs, I'd say:\n",
      "\n",
      "\"I'm good! I'm great! I'm wonderful!\"[1][3] \n",
      "\n",
      "How can I assist you today?\n"
     ]
    }
   ],
   "source": [
    "utils.set_litellm_api_keys()\n",
    "response = completion(\n",
    "    model=\"perplexity/sonar-pro\",\n",
    "    messages=[{\"content\": \"Hello, how are you?\", \"role\": \"user\"}],\n",
    ")\n",
    "print(response.choices[0].message.content)"
   ]
  },
  {
   "cell_type": "markdown",
   "id": "38ff5f6e",
   "metadata": {},
   "source": [
    "# Instructor"
   ]
  },
  {
   "cell_type": "code",
   "execution_count": null,
   "id": "3e38dcda",
   "metadata": {},
   "outputs": [],
   "source": [
    "import instructor\n",
    "from litellm import completion\n",
    "from pydantic import BaseModel\n",
    "\n",
    "\n",
    "class ExtractUser(BaseModel):\n",
    "    name: str\n",
    "    age: int\n",
    "\n",
    "\n",
    "client = instructor.from_litellm(completion)\n",
    "\n",
    "resp = client.chat.completions.create(\n",
    "    model=\"openai/gpt-4o\",\n",
    "    messages=[\n",
    "        {\n",
    "            \"role\": \"user\",\n",
    "            \"content\": \"Extract Users from the following text: Jason is 25 years old.\",\n",
    "        }\n",
    "    ],\n",
    "    response_model=ExtractUser,\n",
    ")\n",
    "\n",
    "assert isinstance(resp, ExtractUser)\n",
    "assert resp.name == \"Jason\"\n",
    "assert resp.age == 25"
   ]
  },
  {
   "cell_type": "code",
   "execution_count": null,
   "id": "6d213634",
   "metadata": {},
   "outputs": [
    {
     "data": {
      "text/plain": [
       "ExtractUser(name='Jason', age=25)"
      ]
     },
     "execution_count": 8,
     "metadata": {},
     "output_type": "execute_result"
    }
   ],
   "source": [
    "resp"
   ]
  },
  {
   "cell_type": "markdown",
   "id": "4af2a2a0",
   "metadata": {},
   "source": [
    "# Tasks"
   ]
  },
  {
   "cell_type": "code",
   "execution_count": 2,
   "id": "4a1ef672",
   "metadata": {},
   "outputs": [],
   "source": [
    "GDRIVE = Path(\"~/Google Drive/Shared drives/Solutions\").expanduser()\n",
    "DATA_DIR = GDRIVE / \"Research/future_of_work/inputs/ine_dirce_aggregated_by_activity.csv\""
   ]
  },
  {
   "cell_type": "code",
   "execution_count": 7,
   "id": "0241587b",
   "metadata": {},
   "outputs": [
    {
     "data": {
      "application/vnd.microsoft.datawrangler.viewer.v0+json": {
       "columns": [
        {
         "name": "index",
         "rawType": "int64",
         "type": "integer"
        },
        {
         "name": "Division",
         "rawType": "object",
         "type": "string"
        },
        {
         "name": "Actividad principal",
         "rawType": "object",
         "type": "string"
        },
        {
         "name": "Estimated_Employees_2024",
         "rawType": "int64",
         "type": "integer"
        },
        {
         "name": "Median_YoY_Growth_pct",
         "rawType": "float64",
         "type": "float"
        }
       ],
       "conversionMethod": "pd.DataFrame",
       "ref": "7d22bef0-fae4-49a6-a3a2-e0c6d9485da9",
       "rows": [
        [
         "0",
         "10 Industria de la alimentación",
         "101 Procesado y conservación de carne y elaboración de productos cárnicos",
         "134055",
         "-2.4"
        ],
        [
         "1",
         "29 Fabricación de vehículos de motor, remolques y semirremolques",
         "293 Fabricación de componentes, piezas y accesorios para vehículos de motor",
         "97484",
         "-0.2"
        ],
        [
         "2",
         "43 Actividades de construcción especializada",
         "432 Instalaciones eléctricas, de fontanería y otras instalaciones en obras de construcción",
         "303430",
         "0.5"
        ],
        [
         "3",
         "45 Venta y reparación de vehículos de motor y motocicletas",
         "451 Venta de vehículos de motor",
         "102172",
         "-0.5"
        ],
        [
         "4",
         "46 Comercio al por mayor e intermediarios del comercio, excepto de vehículos de motor y motocicletas",
         "463 Comercio al por mayor de productos alimenticios, bebidas y tabaco",
         "325970",
         "-0.9"
        ],
        [
         "5",
         "46 Comercio al por mayor e intermediarios del comercio, excepto de vehículos de motor y motocicletas",
         "464 Comercio al por mayor de artículos de uso doméstico",
         "228324",
         "-2.0"
        ],
        [
         "6",
         "47 Comercio al por menor, excepto de vehículos de motor y motocicletas",
         "471 Comercio al por menor en establecimientos no especializados",
         "233708",
         "1.3"
        ],
        [
         "7",
         "47 Comercio al por menor, excepto de vehículos de motor y motocicletas",
         "477 Comercio al por menor de otros artículos en establecimientos especializados",
         "242341",
         "-1.3"
        ],
        [
         "8",
         "49 Transporte terrestre y por tubería",
         "493 Otro transporte terrestre de pasajeros",
         "142413",
         "0.5"
        ],
        [
         "9",
         "49 Transporte terrestre y por tubería",
         "494 Transporte de mercancías por carretera y servicios de mudanza",
         "273002",
         "-1.5"
        ],
        [
         "10",
         "52 Almacenamiento y actividades anexas al transporte",
         "522 Actividades anexas al transporte",
         "195192",
         "-2.3"
        ],
        [
         "11",
         "55 Servicios de alojamiento",
         "551 Hoteles y alojamientos similares",
         "250565",
         "1.5"
        ],
        [
         "12",
         "56 Servicios de comidas y bebidas",
         "561 Restaurantes y puestos de comidas",
         "375244",
         "2.3"
        ],
        [
         "13",
         "56 Servicios de comidas y bebidas",
         "562 Provisión de comidas preparadas para eventos y otros servicios de comidas",
         "139236",
         "1.4"
        ],
        [
         "14",
         "62 Programación, consultoría y otras actividades relacionadas con la informática",
         "620 Programación, consultoría y otras actividades relacionadas con la informática",
         "406064",
         "3.6"
        ],
        [
         "15",
         "70 Actividades de las sedes centrales, actividades de consultoría de gestión empresarial",
         "701 Actividades de las sedes centrales",
         "96939",
         "3.7"
        ],
        [
         "16",
         "71 Servicios técnicos de arquitectura e ingeniería, ensayos y análisis técnicos",
         "711 Servicios técnicos de arquitectura e ingeniería y otras actividades relacionadas con el asesoramiento técnico",
         "214806",
         "0.8"
        ],
        [
         "17",
         "78 Actividades relacionadas con el empleo",
         "782 Actividades de las empresas de trabajo temporal",
         "178586",
         "-4.3"
        ],
        [
         "18",
         "80 Actividades de seguridad e investigación",
         "801 Actividades de seguridad privada",
         "116204",
         "-1.0"
        ],
        [
         "19",
         "81 Servicios a edificios y actividades de jardinería",
         "812 Actividades de limpieza",
         "387652",
         "0.8"
        ],
        [
         "20",
         "82 Actividades administrativas de oficina y otras actividades auxiliares a las empresas",
         "822 Actividades de los centros de llamadas",
         "114245",
         "6.7"
        ],
        [
         "21",
         "82 Actividades administrativas de oficina y otras actividades auxiliares a las empresas",
         "829 Actividades de apoyo a las empresas n.c.o.p.",
         "170730",
         "0.8"
        ],
        [
         "22",
         "85 Educación",
         "855 Otra educación",
         "164296",
         "2.5"
        ]
       ],
       "shape": {
        "columns": 4,
        "rows": 23
       }
      },
      "text/html": [
       "<div>\n",
       "<style scoped>\n",
       "    .dataframe tbody tr th:only-of-type {\n",
       "        vertical-align: middle;\n",
       "    }\n",
       "\n",
       "    .dataframe tbody tr th {\n",
       "        vertical-align: top;\n",
       "    }\n",
       "\n",
       "    .dataframe thead th {\n",
       "        text-align: right;\n",
       "    }\n",
       "</style>\n",
       "<table border=\"1\" class=\"dataframe\">\n",
       "  <thead>\n",
       "    <tr style=\"text-align: right;\">\n",
       "      <th></th>\n",
       "      <th>Division</th>\n",
       "      <th>Actividad principal</th>\n",
       "      <th>Estimated_Employees_2024</th>\n",
       "      <th>Median_YoY_Growth_pct</th>\n",
       "    </tr>\n",
       "  </thead>\n",
       "  <tbody>\n",
       "    <tr>\n",
       "      <th>0</th>\n",
       "      <td>10 Industria de la alimentación</td>\n",
       "      <td>101 Procesado y conservación de carne y elabor...</td>\n",
       "      <td>134055</td>\n",
       "      <td>-2.4</td>\n",
       "    </tr>\n",
       "    <tr>\n",
       "      <th>1</th>\n",
       "      <td>29 Fabricación de vehículos de motor, remolque...</td>\n",
       "      <td>293 Fabricación de componentes, piezas y acces...</td>\n",
       "      <td>97484</td>\n",
       "      <td>-0.2</td>\n",
       "    </tr>\n",
       "    <tr>\n",
       "      <th>2</th>\n",
       "      <td>43 Actividades de construcción especializada</td>\n",
       "      <td>432 Instalaciones eléctricas, de fontanería y ...</td>\n",
       "      <td>303430</td>\n",
       "      <td>0.5</td>\n",
       "    </tr>\n",
       "    <tr>\n",
       "      <th>3</th>\n",
       "      <td>45 Venta y reparación de vehículos de motor y ...</td>\n",
       "      <td>451 Venta de vehículos de motor</td>\n",
       "      <td>102172</td>\n",
       "      <td>-0.5</td>\n",
       "    </tr>\n",
       "    <tr>\n",
       "      <th>4</th>\n",
       "      <td>46 Comercio al por mayor e intermediarios del ...</td>\n",
       "      <td>463 Comercio al por mayor de productos aliment...</td>\n",
       "      <td>325970</td>\n",
       "      <td>-0.9</td>\n",
       "    </tr>\n",
       "    <tr>\n",
       "      <th>5</th>\n",
       "      <td>46 Comercio al por mayor e intermediarios del ...</td>\n",
       "      <td>464 Comercio al por mayor de artículos de uso ...</td>\n",
       "      <td>228324</td>\n",
       "      <td>-2.0</td>\n",
       "    </tr>\n",
       "    <tr>\n",
       "      <th>6</th>\n",
       "      <td>47 Comercio al por menor, excepto de vehículos...</td>\n",
       "      <td>471 Comercio al por menor en establecimientos ...</td>\n",
       "      <td>233708</td>\n",
       "      <td>1.3</td>\n",
       "    </tr>\n",
       "    <tr>\n",
       "      <th>7</th>\n",
       "      <td>47 Comercio al por menor, excepto de vehículos...</td>\n",
       "      <td>477 Comercio al por menor de otros artículos e...</td>\n",
       "      <td>242341</td>\n",
       "      <td>-1.3</td>\n",
       "    </tr>\n",
       "    <tr>\n",
       "      <th>8</th>\n",
       "      <td>49 Transporte terrestre y por tubería</td>\n",
       "      <td>493 Otro transporte terrestre de pasajeros</td>\n",
       "      <td>142413</td>\n",
       "      <td>0.5</td>\n",
       "    </tr>\n",
       "    <tr>\n",
       "      <th>9</th>\n",
       "      <td>49 Transporte terrestre y por tubería</td>\n",
       "      <td>494 Transporte de mercancías por carretera y s...</td>\n",
       "      <td>273002</td>\n",
       "      <td>-1.5</td>\n",
       "    </tr>\n",
       "    <tr>\n",
       "      <th>10</th>\n",
       "      <td>52 Almacenamiento y actividades anexas al tran...</td>\n",
       "      <td>522 Actividades anexas al transporte</td>\n",
       "      <td>195192</td>\n",
       "      <td>-2.3</td>\n",
       "    </tr>\n",
       "    <tr>\n",
       "      <th>11</th>\n",
       "      <td>55 Servicios de alojamiento</td>\n",
       "      <td>551 Hoteles y alojamientos similares</td>\n",
       "      <td>250565</td>\n",
       "      <td>1.5</td>\n",
       "    </tr>\n",
       "    <tr>\n",
       "      <th>12</th>\n",
       "      <td>56 Servicios de comidas y bebidas</td>\n",
       "      <td>561 Restaurantes y puestos de comidas</td>\n",
       "      <td>375244</td>\n",
       "      <td>2.3</td>\n",
       "    </tr>\n",
       "    <tr>\n",
       "      <th>13</th>\n",
       "      <td>56 Servicios de comidas y bebidas</td>\n",
       "      <td>562 Provisión de comidas preparadas para event...</td>\n",
       "      <td>139236</td>\n",
       "      <td>1.4</td>\n",
       "    </tr>\n",
       "    <tr>\n",
       "      <th>14</th>\n",
       "      <td>62 Programación, consultoría y otras actividad...</td>\n",
       "      <td>620 Programación, consultoría y otras activida...</td>\n",
       "      <td>406064</td>\n",
       "      <td>3.6</td>\n",
       "    </tr>\n",
       "    <tr>\n",
       "      <th>15</th>\n",
       "      <td>70 Actividades de las sedes centrales, activid...</td>\n",
       "      <td>701 Actividades de las sedes centrales</td>\n",
       "      <td>96939</td>\n",
       "      <td>3.7</td>\n",
       "    </tr>\n",
       "    <tr>\n",
       "      <th>16</th>\n",
       "      <td>71 Servicios técnicos de arquitectura e ingeni...</td>\n",
       "      <td>711 Servicios técnicos de arquitectura e ingen...</td>\n",
       "      <td>214806</td>\n",
       "      <td>0.8</td>\n",
       "    </tr>\n",
       "    <tr>\n",
       "      <th>17</th>\n",
       "      <td>78 Actividades relacionadas con el empleo</td>\n",
       "      <td>782 Actividades de las empresas de trabajo tem...</td>\n",
       "      <td>178586</td>\n",
       "      <td>-4.3</td>\n",
       "    </tr>\n",
       "    <tr>\n",
       "      <th>18</th>\n",
       "      <td>80 Actividades de seguridad e investigación</td>\n",
       "      <td>801 Actividades de seguridad privada</td>\n",
       "      <td>116204</td>\n",
       "      <td>-1.0</td>\n",
       "    </tr>\n",
       "    <tr>\n",
       "      <th>19</th>\n",
       "      <td>81 Servicios a edificios y actividades de jard...</td>\n",
       "      <td>812 Actividades de limpieza</td>\n",
       "      <td>387652</td>\n",
       "      <td>0.8</td>\n",
       "    </tr>\n",
       "    <tr>\n",
       "      <th>20</th>\n",
       "      <td>82 Actividades administrativas de oficina y ot...</td>\n",
       "      <td>822 Actividades de los centros de llamadas</td>\n",
       "      <td>114245</td>\n",
       "      <td>6.7</td>\n",
       "    </tr>\n",
       "    <tr>\n",
       "      <th>21</th>\n",
       "      <td>82 Actividades administrativas de oficina y ot...</td>\n",
       "      <td>829 Actividades de apoyo a las empresas n.c.o.p.</td>\n",
       "      <td>170730</td>\n",
       "      <td>0.8</td>\n",
       "    </tr>\n",
       "    <tr>\n",
       "      <th>22</th>\n",
       "      <td>85 Educación</td>\n",
       "      <td>855 Otra educación</td>\n",
       "      <td>164296</td>\n",
       "      <td>2.5</td>\n",
       "    </tr>\n",
       "  </tbody>\n",
       "</table>\n",
       "</div>"
      ],
      "text/plain": [
       "                                             Division  \\\n",
       "0                     10 Industria de la alimentación   \n",
       "1   29 Fabricación de vehículos de motor, remolque...   \n",
       "2        43 Actividades de construcción especializada   \n",
       "3   45 Venta y reparación de vehículos de motor y ...   \n",
       "4   46 Comercio al por mayor e intermediarios del ...   \n",
       "5   46 Comercio al por mayor e intermediarios del ...   \n",
       "6   47 Comercio al por menor, excepto de vehículos...   \n",
       "7   47 Comercio al por menor, excepto de vehículos...   \n",
       "8               49 Transporte terrestre y por tubería   \n",
       "9               49 Transporte terrestre y por tubería   \n",
       "10  52 Almacenamiento y actividades anexas al tran...   \n",
       "11                        55 Servicios de alojamiento   \n",
       "12                  56 Servicios de comidas y bebidas   \n",
       "13                  56 Servicios de comidas y bebidas   \n",
       "14  62 Programación, consultoría y otras actividad...   \n",
       "15  70 Actividades de las sedes centrales, activid...   \n",
       "16  71 Servicios técnicos de arquitectura e ingeni...   \n",
       "17          78 Actividades relacionadas con el empleo   \n",
       "18        80 Actividades de seguridad e investigación   \n",
       "19  81 Servicios a edificios y actividades de jard...   \n",
       "20  82 Actividades administrativas de oficina y ot...   \n",
       "21  82 Actividades administrativas de oficina y ot...   \n",
       "22                                       85 Educación   \n",
       "\n",
       "                                  Actividad principal  \\\n",
       "0   101 Procesado y conservación de carne y elabor...   \n",
       "1   293 Fabricación de componentes, piezas y acces...   \n",
       "2   432 Instalaciones eléctricas, de fontanería y ...   \n",
       "3                     451 Venta de vehículos de motor   \n",
       "4   463 Comercio al por mayor de productos aliment...   \n",
       "5   464 Comercio al por mayor de artículos de uso ...   \n",
       "6   471 Comercio al por menor en establecimientos ...   \n",
       "7   477 Comercio al por menor de otros artículos e...   \n",
       "8          493 Otro transporte terrestre de pasajeros   \n",
       "9   494 Transporte de mercancías por carretera y s...   \n",
       "10               522 Actividades anexas al transporte   \n",
       "11               551 Hoteles y alojamientos similares   \n",
       "12              561 Restaurantes y puestos de comidas   \n",
       "13  562 Provisión de comidas preparadas para event...   \n",
       "14  620 Programación, consultoría y otras activida...   \n",
       "15             701 Actividades de las sedes centrales   \n",
       "16  711 Servicios técnicos de arquitectura e ingen...   \n",
       "17  782 Actividades de las empresas de trabajo tem...   \n",
       "18               801 Actividades de seguridad privada   \n",
       "19                        812 Actividades de limpieza   \n",
       "20         822 Actividades de los centros de llamadas   \n",
       "21   829 Actividades de apoyo a las empresas n.c.o.p.   \n",
       "22                                 855 Otra educación   \n",
       "\n",
       "    Estimated_Employees_2024  Median_YoY_Growth_pct  \n",
       "0                     134055                   -2.4  \n",
       "1                      97484                   -0.2  \n",
       "2                     303430                    0.5  \n",
       "3                     102172                   -0.5  \n",
       "4                     325970                   -0.9  \n",
       "5                     228324                   -2.0  \n",
       "6                     233708                    1.3  \n",
       "7                     242341                   -1.3  \n",
       "8                     142413                    0.5  \n",
       "9                     273002                   -1.5  \n",
       "10                    195192                   -2.3  \n",
       "11                    250565                    1.5  \n",
       "12                    375244                    2.3  \n",
       "13                    139236                    1.4  \n",
       "14                    406064                    3.6  \n",
       "15                     96939                    3.7  \n",
       "16                    214806                    0.8  \n",
       "17                    178586                   -4.3  \n",
       "18                    116204                   -1.0  \n",
       "19                    387652                    0.8  \n",
       "20                    114245                    6.7  \n",
       "21                    170730                    0.8  \n",
       "22                    164296                    2.5  "
      ]
     },
     "metadata": {},
     "output_type": "display_data"
    }
   ],
   "source": [
    "data = pd.read_csv(DATA_DIR)\n",
    "display(data)\n",
    "\n",
    "n_examples = 5\n",
    "exs = data.loc[:n_examples, [\"Division\", \"Actividad principal\"]]\n",
    "exs = exs.values.tolist()\n",
    "exs\n",
    "\n",
    "context_df = (\n",
    "    data[[\"Division\", \"Actividad principal\"]]\n",
    "    .iloc[:3]\n",
    "    .rename(columns={\"Division\": \"division\", \"Actividad principal\": \"actividad\"})\n",
    ")\n",
    "\n",
    "context_dict = {\n",
    "    \"division\": context_df[\"division\"].tolist(),\n",
    "    \"actividad\": context_df[\"actividad\"].to_list(),\n",
    "}\n",
    "\n",
    "context_records = context_df.to_dict(orient=\"records\")\n"
   ]
  },
  {
   "cell_type": "code",
   "execution_count": null,
   "id": "12e30c35",
   "metadata": {},
   "outputs": [],
   "source": [
    "from cuery import prompt, utils\n",
    "\n",
    "utils.set_api_keys()\n",
    "\n",
    "from cuery.work import tasks\n",
    "\n",
    "importlib.reload(utils)\n",
    "importlib.reload(prompt)\n",
    "importlib.reload(tasks)\n",
    "\n",
    "client = instructor.from_provider(\"openai/gpt-3.5-turbo\", async_client=True)"
   ]
  },
  {
   "cell_type": "code",
   "execution_count": 9,
   "id": "cd683477",
   "metadata": {},
   "outputs": [
    {
     "name": "stdout",
     "output_type": "stream",
     "text": [
      "jobs=[Job(name='Técnico en automatización industrial', description='Responsable de diseñar e implementar sistemas automatizados en procesos industriales.', automation_potential=7, reason='Repetitive tasks with clear rules and patterns.'), Job(name='Diseñador de productos', description='Crea conceptos y diseños para nuevos productos en la industria de fabricación de componentes para vehículos.', automation_potential=5, reason='Potential for computer-aided design to automate tasks.'), Job(name='Ingeniero de Control de Calidad', description='Responsable de garantizar los estándares de calidad en la fabricación de componentes para vehículos.', automation_potential=6, reason='Potential for AI to analyze quality metrics.')]\n"
     ]
    }
   ],
   "source": [
    "jobs = await prompt.call(\n",
    "    client,\n",
    "    model=\"gpt-3.5-turbo\",\n",
    "    prompt=tasks.PROMPTS[\"dirce_jobs\"],\n",
    "    context={\"division\": exs[0][0], \"actividad\": exs[1][1]},\n",
    "    response_model=tasks.Jobs,\n",
    ")\n",
    "\n",
    "print(jobs)"
   ]
  },
  {
   "cell_type": "code",
   "execution_count": 10,
   "id": "f939deb1",
   "metadata": {},
   "outputs": [
    {
     "name": "stdout",
     "output_type": "stream",
     "text": [
      "[Jobs(jobs=[Job(name='Técnico de procesamiento de carne', description='Responsable del procesamiento y conservación de carne en la industria cárnica.', automation_potential=7, reason='Tareas repetitivas y predecibles.'), Job(name='Operario de línea de producción de carne', description='Encargado de la producción en cadena de productos cárnicos.', automation_potential=8, reason='Actividades que pueden ser estandarizadas.'), Job(name='Inspector de calidad de productos cárnicos', description='Supervisa la calidad de los productos cárnicos en diferentes etapas de producción.', automation_potential=5, reason='Necesidad de análisis visual y juicio.')]),\n",
      " Jobs(jobs=[Job(name='Ingeniero de Automatización Industrial', description='Encargado de diseñar y desarrollar sistemas de automatización industrial en el sector de fabricación de vehículos y componentes.', automation_potential=8, reason='Tecnología avanzada y programación automatizable.'), Job(name='Operador de Máquinas CNC', description='Trabajador que opera máquinas CNC para la fabricación de componentes de vehículos de motor.', automation_potential=7, reason='Operaciones repetitivas y predecibles.'), Job(name='Inspector de Calidad Automotriz', description='Responsable de verificar la calidad de los componentes y piezas fabricadas para vehículos de motor.', automation_potential=6, reason='Inspecciones basadas en criterios definidos.')]),\n",
      " Jobs(jobs=[Job(name='Electrician', description='Responsible for installing and maintaining electrical systems in buildings', automation_potential=7, reason='Repetitive tasks with defined rules'), Job(name='Plumber', description='Installs and maintains plumbing systems in buildings', automation_potential=6, reason='High manual dexterity and repetitive tasks'), Job(name='Construction Laborer', description='Performs physical and manual labor on construction sites', automation_potential=5, reason='Limited cognitive tasks and repetitive physical work')])]\n"
     ]
    }
   ],
   "source": [
    "jobs = await prompt.iter_calls(\n",
    "    client,\n",
    "    model=None,  # \"gpt-3.5-turbo\",\n",
    "    prompt=tasks.PROMPTS[\"dirce_jobs\"],\n",
    "    context=context_records,\n",
    "    response_model=tasks.Jobs,\n",
    ")\n",
    "pprint(jobs)"
   ]
  },
  {
   "cell_type": "code",
   "execution_count": null,
   "id": "bfce74da",
   "metadata": {},
   "outputs": [
    {
     "name": "stdout",
     "output_type": "stream",
     "text": [
      "[Jobs(jobs=[Job(name='Técnico en procesamiento de carne', description='Supervisión y control de las actividades de procesado de carne', automation_potential=7, reason='Tareas repetitivas y basadas en reglas'), Job(name='Operario de maquinaria de procesado de carne', description='Operación y mantenimiento de maquinaria de procesado de carne', automation_potential=8, reason='Operaciones predecibles y repetitivas'), Job(name='Ingeniero de calidad de productos cárnicos', description='Garantizar la calidad de los productos cárnicos', automation_potential=6, reason='Análisis predictivo y control de calidad')]),\n",
      " Jobs(jobs=[Job(name='Ingeniero de Automatización', description='Responsable de diseñar e implementar sistemas y procesos de automatización en la fabricación de vehículos.', automation_potential=8, reason='Automatización de tareas repetitivas y programables.'), Job(name='Técnico en Robótica', description='Encargado de mantener y optimizar los sistemas de robots utilizados en la fabricación de componentes para vehículos.', automation_potential=7, reason='Automatización de tareas de control y mantenimiento.'), Job(name='Programador PLC', description='Desarrolla e implementa programas para el control de procesos industriales, incluyendo la fabricación de piezas para vehículos.', automation_potential=9, reason='Automatización de procesos basada en controladores lógicos programables.')]),\n",
      " Jobs(jobs=[Job(name='Electricista de Obra', description='Realiza instalaciones eléctricas en obras de construcción.', automation_potential=7, reason='Routine and predictable tasks in controlled environments.'), Job(name='Fontanero de Obra', description='Realiza instalaciones de fontanería en obras de construcción.', automation_potential=6, reason='Repetitive tasks with limited variation.'), Job(name='Auxiliar de Instalaciones', description='Apoya en la instalación y mantenimiento de sistemas eléctricos y de fontanería.', automation_potential=5, reason='Basic tasks with defined processes.')])]\n"
     ]
    }
   ],
   "source": [
    "jobs = await prompt.gather_calls(\n",
    "    client,\n",
    "    model=\"gpt-3.5-turbo\",\n",
    "    prompt=tasks.PROMPTS[\"dirce_jobs\"],\n",
    "    context=context_records,\n",
    "    response_model=tasks.Jobs,\n",
    ")\n",
    "pprint(jobs)"
   ]
  },
  {
   "cell_type": "code",
   "execution_count": 14,
   "id": "e1e2d8e6",
   "metadata": {},
   "outputs": [
    {
     "name": "stdout",
     "output_type": "stream",
     "text": [
      "[Jobs(jobs=[Job(name='Técnico en procesamiento de carne', description='Responsable del procesamiento y conservación de carne, supervisión de la producción de productos cárnicos.', automation_potential=7, reason='Repetitive tasks in production process can be automated.'), Job(name='Operario de línea de producción de carne', description='Encargado de la operación de la línea de producción de productos cárnicos.', automation_potential=6, reason='Routine tasks in production line can be automated.'), Job(name='Inspector de calidad de productos cárnicos', description='Responsable de verificar la calidad de los productos cárnicos producidos.', automation_potential=5, reason='Quality assurance processes can be automated with AI technologies.')]),\n",
      " Jobs(jobs=[Job(name='Ingeniero de control de calidad', description='Responsable de asegurar la calidad de los componentes fabricados para vehículos de motor', automation_potential=7, reason='Rutinario y basado en reglas predefinidas'), Job(name='Operario de ensamblaje de piezas', description='Encargado de ensamblar componentes y piezas de vehículos de motor de acuerdo a instrucciones específicas', automation_potential=8, reason='Tareas repetitivas y predecibles'), Job(name='Ingeniero de procesos de fabricación', description='Diseña y optimiza los procesos de fabricación de componentes para vehículos', automation_potential=6, reason='Basado en datos y patrones predefinidos')]),\n",
      " Jobs(jobs=[Job(name='Electricista de Instalaciones', description='Instalación y mantenimiento de sistemas eléctricos en obras', automation_potential=7, reason='Repetitive tasks and pattern recognition'), Job(name='Fontanero de Construcción', description='Instalaciones de fontanería en obras de construcción', automation_potential=6, reason='Repetitive tasks and structured environment'), Job(name='Técnico en Automatización Industrial', description='Automatización de procesos industriales', automation_potential=9, reason='Directly related to automation and technology')])]\n"
     ]
    }
   ],
   "source": [
    "jobs = await prompt.gather_calls(\n",
    "    client,\n",
    "    model=\"gpt-3.5-turbo\",\n",
    "    prompt=tasks.PROMPTS[\"dirce_jobs\"],\n",
    "    context=context_df,\n",
    "    response_model=tasks.Jobs,\n",
    ")\n",
    "pprint(jobs)"
   ]
  },
  {
   "cell_type": "code",
   "execution_count": 11,
   "id": "559cf617",
   "metadata": {},
   "outputs": [
    {
     "data": {
      "text/plain": [
       "[Jobs(jobs=[Job(name='Técnico de Procesamiento de Carne', description='Supervisa y optimiza el procesamiento de carne en plantas industriales.', automation_potential=8, reason='Repetitivo y basado en reglas predefinidas'), Job(name='Operario de Producción de Productos Cárnicos', description='Realiza tareas en la línea de producción de productos cárnicos.', automation_potential=7, reason='Tareas repetitivas y predecibles'), Job(name='Inspector de Calidad de Productos Cárnicos', description='Revisa la calidad de los productos cárnicos según estándares establecidos.', automation_potential=6, reason='Basado en evaluación de criterios predefinidos')]),\n",
       " Jobs(jobs=[Job(name='Ingeniero de Procesos de Automatización', description='Desarrolla y coordina procesos automatizados en la industria', automation_potential=8, reason='Tareas repetitivas y programables'), Job(name='Técnico en Robótica Industrial', description='Mantenimiento y programación de robots industriales', automation_potential=7, reason='Automatización de tareas físicas y repetitivas'), Job(name='Ingeniero de Machine Learning', description='Desarrollo de algoritmos y sistemas de Machine Learning', automation_potential=9, reason='Automatización de procesos de análisis de datos')]),\n",
       " Jobs(jobs=[Job(name='Electricity Engineer', description='Engineer specializing in electrical installations in construction projects', automation_potential=8, reason='Automation of electrical installations in construction'), Job(name='Plumbing Technician', description='Technician responsible for plumbing installations in construction projects', automation_potential=7, reason='Automation of plumbing installations in construction'), Job(name='Construction Site Robot Operator', description='Operator responsible for managing robots for construction tasks', automation_potential=9, reason='High potential for robotic automation')])]"
      ]
     },
     "execution_count": 11,
     "metadata": {},
     "output_type": "execute_result"
    }
   ],
   "source": [
    "%autoawait asyncio\n",
    "dirce = tasks.DirceJobs\n",
    "result = await dirce.gather(context=context_df)\n",
    "result"
   ]
  },
  {
   "cell_type": "code",
   "execution_count": null,
   "id": "ce89151c",
   "metadata": {},
   "outputs": [
    {
     "name": "stdout",
     "output_type": "stream",
     "text": [
      "name='Técnico en procesamiento de alimentos' description='Responsable del procesamiento y conservación de alimentos, incluida la carne y productos cárnicos. Supervisión de equipos y cumplimiento de normas de calidad.' automation_potential=7 reason='Tareas repetitivas y programables.'\n"
     ]
    },
    {
     "data": {
      "application/vnd.microsoft.datawrangler.viewer.v0+json": {
       "columns": [
        {
         "name": "index",
         "rawType": "int64",
         "type": "integer"
        },
        {
         "name": "division",
         "rawType": "object",
         "type": "string"
        },
        {
         "name": "actividad",
         "rawType": "object",
         "type": "string"
        },
        {
         "name": "name",
         "rawType": "object",
         "type": "string"
        },
        {
         "name": "description",
         "rawType": "object",
         "type": "string"
        },
        {
         "name": "automation_potential",
         "rawType": "int64",
         "type": "integer"
        },
        {
         "name": "reason",
         "rawType": "object",
         "type": "string"
        }
       ],
       "conversionMethod": "pd.DataFrame",
       "ref": "9ce69f4f-9824-4587-b8b1-c8e3ece340b6",
       "rows": [
        [
         "0",
         "10 Industria de la alimentación",
         "101 Procesado y conservación de carne y elaboración de productos cárnicos",
         "Técnico en procesamiento de alimentos",
         "Responsable del procesamiento y conservación de alimentos, incluida la carne y productos cárnicos. Supervisión de equipos y cumplimiento de normas de calidad.",
         "7",
         "Tareas repetitivas y programables."
        ],
        [
         "1",
         "10 Industria de la alimentación",
         "101 Procesado y conservación de carne y elaboración de productos cárnicos",
         "Inspector de calidad de productos alimenticios",
         "Encargado de verificar la calidad de los productos alimenticios, incluyendo carne y productos cárnicos. Realiza controles y seguimiento de estándares de calidad.",
         "6",
         "Tareas basadas en estándares predefinidos."
        ],
        [
         "2",
         "10 Industria de la alimentación",
         "101 Procesado y conservación de carne y elaboración de productos cárnicos",
         "Operario de envasado de alimentos",
         "Encargado del envasado de alimentos, especialmente carne y productos cárnicos. Operación de maquinaria de envasado y control de procesos.",
         "8",
         "Procesos mecánicos y repetitivos."
        ],
        [
         "3",
         "29 Fabricación de vehículos de motor, remolques y semirremolques",
         "293 Fabricación de componentes, piezas y accesorios para vehículos de motor",
         "Ingeniero de Automatización",
         "Diseña y desarrolla sistemas automáticos para procesos industriales.",
         "7",
         "Highly repetitive tasks can be automated."
        ],
        [
         "4",
         "29 Fabricación de vehículos de motor, remolques y semirremolques",
         "293 Fabricación de componentes, piezas y accesorios para vehículos de motor",
         "Operario de Producción",
         "Realiza tareas repetitivas en línea de producción de componentes.",
         "8",
         "Routine tasks can be replaced by machines."
        ],
        [
         "5",
         "29 Fabricación de vehículos de motor, remolques y semirremolques",
         "293 Fabricación de componentes, piezas y accesorios para vehículos de motor",
         "Técnico de Mantenimiento Industrial",
         "Realiza mantenimiento preventivo y correctivo de maquinaria industrial.",
         "5",
         "Some maintenance tasks can be automated."
        ],
        [
         "6",
         "43 Actividades de construcción especializada",
         "432 Instalaciones eléctricas, de fontanería y otras instalaciones en obras de construcción",
         "Electricista de obra",
         "Instalación y mantenimiento de sistemas eléctricos en obras de construcción.",
         "7",
         "Tareas rutinarias y repetitivas que pueden ser automatizadas."
        ],
        [
         "7",
         "43 Actividades de construcción especializada",
         "432 Instalaciones eléctricas, de fontanería y otras instalaciones en obras de construcción",
         "Fontanero de obra",
         "Instalación y mantenimiento de sistemas de fontanería en obras de construcción.",
         "6",
         "Tareas repetitivas y basadas en patrones que pueden ser automatizadas."
        ],
        [
         "8",
         "43 Actividades de construcción especializada",
         "432 Instalaciones eléctricas, de fontanería y otras instalaciones en obras de construcción",
         "Auxiliar de obra",
         "Ayuda en tareas generales de construcción y mantenimiento en obras.",
         "3",
         "Tareas manuales que requieren flexibilidad y adaptabilidad."
        ],
        [
         "9",
         "45 Venta y reparación de vehículos de motor y motocicletas",
         "451 Venta de vehículos de motor",
         "Asesor de ventas de vehículos",
         "Responsable de la venta de vehículos de motor y asesoramiento a clientes.",
         "7",
         "High potential for automation with digital sales platforms."
        ],
        [
         "10",
         "45 Venta y reparación de vehículos de motor y motocicletas",
         "451 Venta de vehículos de motor",
         "Mecánico de vehículos",
         "Realiza reparaciones y mantenimiento en vehículos de motor.",
         "5",
         "Moderate potential due to automated diagnostic tools."
        ],
        [
         "11",
         "45 Venta y reparación de vehículos de motor y motocicletas",
         "451 Venta de vehículos de motor",
         "Recepcionista en concesionario",
         "Atiende a los clientes que visitan el concesionario de vehículos.",
         "4",
         "Potential for automation in customer interaction."
        ],
        [
         "12",
         "46 Comercio al por mayor e intermediarios del comercio, excepto de vehículos de motor y motocicletas",
         "463 Comercio al por mayor de productos alimenticios, bebidas y tabaco",
         "Gestor de inventario",
         "Responsable de monitorear y mantener registros de inventario",
         "8",
         "Tareas repetitivas y predecibles"
        ],
        [
         "13",
         "46 Comercio al por mayor e intermediarios del comercio, excepto de vehículos de motor y motocicletas",
         "463 Comercio al por mayor de productos alimenticios, bebidas y tabaco",
         "Recepcionista de almacén",
         "Encargado de recibir y gestionar la entrada y salida de productos en el almacén",
         "6",
         "Tareas de registro y seguimiento repetitivas"
        ],
        [
         "14",
         "46 Comercio al por mayor e intermediarios del comercio, excepto de vehículos de motor y motocicletas",
         "463 Comercio al por mayor de productos alimenticios, bebidas y tabaco",
         "Analista de precios",
         "Encargado de analizar los precios de los productos y competidores",
         "7",
         "Análisis de datos y patrones predecibles"
        ]
       ],
       "shape": {
        "columns": 6,
        "rows": 15
       }
      },
      "text/html": [
       "<div>\n",
       "<style scoped>\n",
       "    .dataframe tbody tr th:only-of-type {\n",
       "        vertical-align: middle;\n",
       "    }\n",
       "\n",
       "    .dataframe tbody tr th {\n",
       "        vertical-align: top;\n",
       "    }\n",
       "\n",
       "    .dataframe thead th {\n",
       "        text-align: right;\n",
       "    }\n",
       "</style>\n",
       "<table border=\"1\" class=\"dataframe\">\n",
       "  <thead>\n",
       "    <tr style=\"text-align: right;\">\n",
       "      <th></th>\n",
       "      <th>division</th>\n",
       "      <th>actividad</th>\n",
       "      <th>name</th>\n",
       "      <th>description</th>\n",
       "      <th>automation_potential</th>\n",
       "      <th>reason</th>\n",
       "    </tr>\n",
       "  </thead>\n",
       "  <tbody>\n",
       "    <tr>\n",
       "      <th>0</th>\n",
       "      <td>10 Industria de la alimentación</td>\n",
       "      <td>101 Procesado y conservación de carne y elabor...</td>\n",
       "      <td>Técnico en procesamiento de alimentos</td>\n",
       "      <td>Responsable del procesamiento y conservación d...</td>\n",
       "      <td>7</td>\n",
       "      <td>Tareas repetitivas y programables.</td>\n",
       "    </tr>\n",
       "    <tr>\n",
       "      <th>1</th>\n",
       "      <td>10 Industria de la alimentación</td>\n",
       "      <td>101 Procesado y conservación de carne y elabor...</td>\n",
       "      <td>Inspector de calidad de productos alimenticios</td>\n",
       "      <td>Encargado de verificar la calidad de los produ...</td>\n",
       "      <td>6</td>\n",
       "      <td>Tareas basadas en estándares predefinidos.</td>\n",
       "    </tr>\n",
       "    <tr>\n",
       "      <th>2</th>\n",
       "      <td>10 Industria de la alimentación</td>\n",
       "      <td>101 Procesado y conservación de carne y elabor...</td>\n",
       "      <td>Operario de envasado de alimentos</td>\n",
       "      <td>Encargado del envasado de alimentos, especialm...</td>\n",
       "      <td>8</td>\n",
       "      <td>Procesos mecánicos y repetitivos.</td>\n",
       "    </tr>\n",
       "    <tr>\n",
       "      <th>3</th>\n",
       "      <td>29 Fabricación de vehículos de motor, remolque...</td>\n",
       "      <td>293 Fabricación de componentes, piezas y acces...</td>\n",
       "      <td>Ingeniero de Automatización</td>\n",
       "      <td>Diseña y desarrolla sistemas automáticos para ...</td>\n",
       "      <td>7</td>\n",
       "      <td>Highly repetitive tasks can be automated.</td>\n",
       "    </tr>\n",
       "    <tr>\n",
       "      <th>4</th>\n",
       "      <td>29 Fabricación de vehículos de motor, remolque...</td>\n",
       "      <td>293 Fabricación de componentes, piezas y acces...</td>\n",
       "      <td>Operario de Producción</td>\n",
       "      <td>Realiza tareas repetitivas en línea de producc...</td>\n",
       "      <td>8</td>\n",
       "      <td>Routine tasks can be replaced by machines.</td>\n",
       "    </tr>\n",
       "    <tr>\n",
       "      <th>5</th>\n",
       "      <td>29 Fabricación de vehículos de motor, remolque...</td>\n",
       "      <td>293 Fabricación de componentes, piezas y acces...</td>\n",
       "      <td>Técnico de Mantenimiento Industrial</td>\n",
       "      <td>Realiza mantenimiento preventivo y correctivo ...</td>\n",
       "      <td>5</td>\n",
       "      <td>Some maintenance tasks can be automated.</td>\n",
       "    </tr>\n",
       "    <tr>\n",
       "      <th>6</th>\n",
       "      <td>43 Actividades de construcción especializada</td>\n",
       "      <td>432 Instalaciones eléctricas, de fontanería y ...</td>\n",
       "      <td>Electricista de obra</td>\n",
       "      <td>Instalación y mantenimiento de sistemas eléctr...</td>\n",
       "      <td>7</td>\n",
       "      <td>Tareas rutinarias y repetitivas que pueden ser...</td>\n",
       "    </tr>\n",
       "    <tr>\n",
       "      <th>7</th>\n",
       "      <td>43 Actividades de construcción especializada</td>\n",
       "      <td>432 Instalaciones eléctricas, de fontanería y ...</td>\n",
       "      <td>Fontanero de obra</td>\n",
       "      <td>Instalación y mantenimiento de sistemas de fon...</td>\n",
       "      <td>6</td>\n",
       "      <td>Tareas repetitivas y basadas en patrones que p...</td>\n",
       "    </tr>\n",
       "    <tr>\n",
       "      <th>8</th>\n",
       "      <td>43 Actividades de construcción especializada</td>\n",
       "      <td>432 Instalaciones eléctricas, de fontanería y ...</td>\n",
       "      <td>Auxiliar de obra</td>\n",
       "      <td>Ayuda en tareas generales de construcción y ma...</td>\n",
       "      <td>3</td>\n",
       "      <td>Tareas manuales que requieren flexibilidad y a...</td>\n",
       "    </tr>\n",
       "    <tr>\n",
       "      <th>9</th>\n",
       "      <td>45 Venta y reparación de vehículos de motor y ...</td>\n",
       "      <td>451 Venta de vehículos de motor</td>\n",
       "      <td>Asesor de ventas de vehículos</td>\n",
       "      <td>Responsable de la venta de vehículos de motor ...</td>\n",
       "      <td>7</td>\n",
       "      <td>High potential for automation with digital sal...</td>\n",
       "    </tr>\n",
       "    <tr>\n",
       "      <th>10</th>\n",
       "      <td>45 Venta y reparación de vehículos de motor y ...</td>\n",
       "      <td>451 Venta de vehículos de motor</td>\n",
       "      <td>Mecánico de vehículos</td>\n",
       "      <td>Realiza reparaciones y mantenimiento en vehícu...</td>\n",
       "      <td>5</td>\n",
       "      <td>Moderate potential due to automated diagnostic...</td>\n",
       "    </tr>\n",
       "    <tr>\n",
       "      <th>11</th>\n",
       "      <td>45 Venta y reparación de vehículos de motor y ...</td>\n",
       "      <td>451 Venta de vehículos de motor</td>\n",
       "      <td>Recepcionista en concesionario</td>\n",
       "      <td>Atiende a los clientes que visitan el concesio...</td>\n",
       "      <td>4</td>\n",
       "      <td>Potential for automation in customer interaction.</td>\n",
       "    </tr>\n",
       "    <tr>\n",
       "      <th>12</th>\n",
       "      <td>46 Comercio al por mayor e intermediarios del ...</td>\n",
       "      <td>463 Comercio al por mayor de productos aliment...</td>\n",
       "      <td>Gestor de inventario</td>\n",
       "      <td>Responsable de monitorear y mantener registros...</td>\n",
       "      <td>8</td>\n",
       "      <td>Tareas repetitivas y predecibles</td>\n",
       "    </tr>\n",
       "    <tr>\n",
       "      <th>13</th>\n",
       "      <td>46 Comercio al por mayor e intermediarios del ...</td>\n",
       "      <td>463 Comercio al por mayor de productos aliment...</td>\n",
       "      <td>Recepcionista de almacén</td>\n",
       "      <td>Encargado de recibir y gestionar la entrada y ...</td>\n",
       "      <td>6</td>\n",
       "      <td>Tareas de registro y seguimiento repetitivas</td>\n",
       "    </tr>\n",
       "    <tr>\n",
       "      <th>14</th>\n",
       "      <td>46 Comercio al por mayor e intermediarios del ...</td>\n",
       "      <td>463 Comercio al por mayor de productos aliment...</td>\n",
       "      <td>Analista de precios</td>\n",
       "      <td>Encargado de analizar los precios de los produ...</td>\n",
       "      <td>7</td>\n",
       "      <td>Análisis de datos y patrones predecibles</td>\n",
       "    </tr>\n",
       "  </tbody>\n",
       "</table>\n",
       "</div>"
      ],
      "text/plain": [
       "                                             division  \\\n",
       "0                     10 Industria de la alimentación   \n",
       "1                     10 Industria de la alimentación   \n",
       "2                     10 Industria de la alimentación   \n",
       "3   29 Fabricación de vehículos de motor, remolque...   \n",
       "4   29 Fabricación de vehículos de motor, remolque...   \n",
       "5   29 Fabricación de vehículos de motor, remolque...   \n",
       "6        43 Actividades de construcción especializada   \n",
       "7        43 Actividades de construcción especializada   \n",
       "8        43 Actividades de construcción especializada   \n",
       "9   45 Venta y reparación de vehículos de motor y ...   \n",
       "10  45 Venta y reparación de vehículos de motor y ...   \n",
       "11  45 Venta y reparación de vehículos de motor y ...   \n",
       "12  46 Comercio al por mayor e intermediarios del ...   \n",
       "13  46 Comercio al por mayor e intermediarios del ...   \n",
       "14  46 Comercio al por mayor e intermediarios del ...   \n",
       "\n",
       "                                            actividad  \\\n",
       "0   101 Procesado y conservación de carne y elabor...   \n",
       "1   101 Procesado y conservación de carne y elabor...   \n",
       "2   101 Procesado y conservación de carne y elabor...   \n",
       "3   293 Fabricación de componentes, piezas y acces...   \n",
       "4   293 Fabricación de componentes, piezas y acces...   \n",
       "5   293 Fabricación de componentes, piezas y acces...   \n",
       "6   432 Instalaciones eléctricas, de fontanería y ...   \n",
       "7   432 Instalaciones eléctricas, de fontanería y ...   \n",
       "8   432 Instalaciones eléctricas, de fontanería y ...   \n",
       "9                     451 Venta de vehículos de motor   \n",
       "10                    451 Venta de vehículos de motor   \n",
       "11                    451 Venta de vehículos de motor   \n",
       "12  463 Comercio al por mayor de productos aliment...   \n",
       "13  463 Comercio al por mayor de productos aliment...   \n",
       "14  463 Comercio al por mayor de productos aliment...   \n",
       "\n",
       "                                              name  \\\n",
       "0            Técnico en procesamiento de alimentos   \n",
       "1   Inspector de calidad de productos alimenticios   \n",
       "2                Operario de envasado de alimentos   \n",
       "3                      Ingeniero de Automatización   \n",
       "4                           Operario de Producción   \n",
       "5              Técnico de Mantenimiento Industrial   \n",
       "6                             Electricista de obra   \n",
       "7                                Fontanero de obra   \n",
       "8                                 Auxiliar de obra   \n",
       "9                    Asesor de ventas de vehículos   \n",
       "10                           Mecánico de vehículos   \n",
       "11                  Recepcionista en concesionario   \n",
       "12                            Gestor de inventario   \n",
       "13                        Recepcionista de almacén   \n",
       "14                             Analista de precios   \n",
       "\n",
       "                                          description  automation_potential  \\\n",
       "0   Responsable del procesamiento y conservación d...                     7   \n",
       "1   Encargado de verificar la calidad de los produ...                     6   \n",
       "2   Encargado del envasado de alimentos, especialm...                     8   \n",
       "3   Diseña y desarrolla sistemas automáticos para ...                     7   \n",
       "4   Realiza tareas repetitivas en línea de producc...                     8   \n",
       "5   Realiza mantenimiento preventivo y correctivo ...                     5   \n",
       "6   Instalación y mantenimiento de sistemas eléctr...                     7   \n",
       "7   Instalación y mantenimiento de sistemas de fon...                     6   \n",
       "8   Ayuda en tareas generales de construcción y ma...                     3   \n",
       "9   Responsable de la venta de vehículos de motor ...                     7   \n",
       "10  Realiza reparaciones y mantenimiento en vehícu...                     5   \n",
       "11  Atiende a los clientes que visitan el concesio...                     4   \n",
       "12  Responsable de monitorear y mantener registros...                     8   \n",
       "13  Encargado de recibir y gestionar la entrada y ...                     6   \n",
       "14  Encargado de analizar los precios de los produ...                     7   \n",
       "\n",
       "                                               reason  \n",
       "0                  Tareas repetitivas y programables.  \n",
       "1          Tareas basadas en estándares predefinidos.  \n",
       "2                   Procesos mecánicos y repetitivos.  \n",
       "3           Highly repetitive tasks can be automated.  \n",
       "4          Routine tasks can be replaced by machines.  \n",
       "5            Some maintenance tasks can be automated.  \n",
       "6   Tareas rutinarias y repetitivas que pueden ser...  \n",
       "7   Tareas repetitivas y basadas en patrones que p...  \n",
       "8   Tareas manuales que requieren flexibilidad y a...  \n",
       "9   High potential for automation with digital sal...  \n",
       "10  Moderate potential due to automated diagnostic...  \n",
       "11  Potential for automation in customer interaction.  \n",
       "12                   Tareas repetitivas y predecibles  \n",
       "13       Tareas de registro y seguimiento repetitivas  \n",
       "14           Análisis de datos y patrones predecibles  "
      ]
     },
     "execution_count": 60,
     "metadata": {},
     "output_type": "execute_result"
    }
   ],
   "source": [
    "def explode_list_models(models, field, to_pandas=True, **ids_vars):\n",
    "    results = []\n",
    "    for i, m in enumerate(models):\n",
    "        for item in getattr(m, field):\n",
    "            ids = {k: v[i] for k, v in ids_vars.items()}\n",
    "            item = ids | dict(item)\n",
    "            results.append(item)\n",
    "\n",
    "    if to_pandas:\n",
    "        return pd.DataFrame.from_records(results)\n",
    "\n",
    "    return results\n",
    "\n",
    "\n",
    "explode_list_models(jobss2, \"jobs\", division=divs, actividad=acts)"
   ]
  }
 ],
 "metadata": {
  "kernelspec": {
   "display_name": ".venv",
   "language": "python",
   "name": "python3"
  },
  "language_info": {
   "codemirror_mode": {
    "name": "ipython",
    "version": 3
   },
   "file_extension": ".py",
   "mimetype": "text/x-python",
   "name": "python",
   "nbconvert_exporter": "python",
   "pygments_lexer": "ipython3",
   "version": "3.11.6"
  }
 },
 "nbformat": 4,
 "nbformat_minor": 5
}
