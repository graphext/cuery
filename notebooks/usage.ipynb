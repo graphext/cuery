{
 "cells": [
  {
   "cell_type": "code",
   "execution_count": 1,
   "id": "78fa6b3e",
   "metadata": {},
   "outputs": [],
   "source": [
    "from enum import Enum\n",
    "from cuery import Prompt, ResponseModel, Task\n",
    "from pydantic import Field"
   ]
  },
  {
   "cell_type": "markdown",
   "id": "a8e92fd9",
   "metadata": {},
   "source": [
    "# Choices"
   ]
  },
  {
   "cell_type": "code",
   "execution_count": null,
   "id": "34664d2e",
   "metadata": {},
   "outputs": [
    {
     "name": "stdout",
     "output_type": "stream",
     "text": [
      "[UserDetail(age=25, name='Emily', role=<Role.STUDENT: 'STUDENT'>)]\n"
     ]
    },
    {
     "data": {
      "application/vnd.microsoft.datawrangler.viewer.v0+json": {
       "columns": [
        {
         "name": "index",
         "rawType": "int64",
         "type": "integer"
        },
        {
         "name": "age",
         "rawType": "int64",
         "type": "integer"
        },
        {
         "name": "name",
         "rawType": "object",
         "type": "string"
        },
        {
         "name": "role",
         "rawType": "object",
         "type": "unknown"
        }
       ],
       "ref": "9ffa9df7-4947-4d00-a6f9-07e23fcef2f4",
       "rows": [
        [
         "0",
         "25",
         "Emily",
         "Role.STUDENT"
        ]
       ],
       "shape": {
        "columns": 3,
        "rows": 1
       }
      },
      "text/html": [
       "<div>\n",
       "<style scoped>\n",
       "    .dataframe tbody tr th:only-of-type {\n",
       "        vertical-align: middle;\n",
       "    }\n",
       "\n",
       "    .dataframe tbody tr th {\n",
       "        vertical-align: top;\n",
       "    }\n",
       "\n",
       "    .dataframe thead th {\n",
       "        text-align: right;\n",
       "    }\n",
       "</style>\n",
       "<table border=\"1\" class=\"dataframe\">\n",
       "  <thead>\n",
       "    <tr style=\"text-align: right;\">\n",
       "      <th></th>\n",
       "      <th>age</th>\n",
       "      <th>name</th>\n",
       "      <th>role</th>\n",
       "    </tr>\n",
       "  </thead>\n",
       "  <tbody>\n",
       "    <tr>\n",
       "      <th>0</th>\n",
       "      <td>25</td>\n",
       "      <td>Emily</td>\n",
       "      <td>Role.STUDENT</td>\n",
       "    </tr>\n",
       "  </tbody>\n",
       "</table>\n",
       "</div>"
      ],
      "text/plain": [
       "   age   name          role\n",
       "0   25  Emily  Role.STUDENT"
      ]
     },
     "execution_count": 12,
     "metadata": {},
     "output_type": "execute_result"
    }
   ],
   "source": [
    "class Role(Enum):\n",
    "    PRINCIPAL = \"PRINCIPAL\"\n",
    "    TEACHER = \"TEACHER\"\n",
    "    STUDENT = \"STUDENT\"\n",
    "    OTHER = \"OTHER\"\n",
    "\n",
    "\n",
    "class UserDetail(ResponseModel):\n",
    "    age: int\n",
    "    name: str\n",
    "    role: Role = Field(description=\"Correctly assign one of the predefined roles to the user.\")\n",
    "\n",
    "\n",
    "prompt = Prompt(\n",
    "    messages=[\n",
    "        {\n",
    "            \"role\": \"user\",\n",
    "            \"content\": \"Please a create a synthetic user profile with age, name and role.\",\n",
    "        }\n",
    "    ]\n",
    ")\n",
    "\n",
    "task = Task(\"user_profile\", prompt=prompt, response=UserDetail)\n",
    "\n",
    "response = await task()\n",
    "print(response)\n",
    "response.to_pandas()"
   ]
  },
  {
   "cell_type": "markdown",
   "id": "4183a07a",
   "metadata": {},
   "source": [
    "# Simple Multivalued fields"
   ]
  },
  {
   "cell_type": "code",
   "execution_count": 21,
   "id": "f1bd481d",
   "metadata": {},
   "outputs": [
    {
     "data": {
      "application/vnd.jupyter.widget-view+json": {
       "model_id": "d6e2db393d1e492db9871ed7f332d5e3",
       "version_major": 2,
       "version_minor": 0
      },
      "text/plain": [
       "Iterating context:   0%|          | 0/2 [00:00<?, ?it/s]"
      ]
     },
     "metadata": {},
     "output_type": "display_data"
    },
    {
     "name": "stdout",
     "output_type": "stream",
     "text": [
      "[Ingredients(items=['pasta', 'minced meat', 'onion', 'garlic', 'tomato sauce', 'Italian seasoning', 'salt', 'pepper', 'olive oil', 'parmesan cheese']), Ingredients(items=['chocolate', 'flour', 'sugar', 'eggs', 'butter', 'cocoa powder', 'baking powder', 'vanilla extract', 'salt', 'milk'])]\n"
     ]
    }
   ],
   "source": [
    "class Ingredients(ResponseModel):\n",
    "    items: list[str] = Field(description=\"List of ingredients for the recipe.\")\n",
    "\n",
    "\n",
    "prompt = Prompt(\n",
    "    messages=[\n",
    "        {\n",
    "            \"role\": \"user\",\n",
    "            \"content\": \"List the ingredients for the following dish: {{dish}}.\",\n",
    "        }\n",
    "    ],\n",
    "    required=[\"dish\"],\n",
    ")\n",
    "\n",
    "context = [{\"dish\": \"pasta bolognese\"}, {\"dish\": \"chocolate cake\"}]\n",
    "task = Task(\"dishes\", prompt=prompt, response=Ingredients)\n",
    "responses = await task(context=context)\n",
    "print(responses)"
   ]
  },
  {
   "cell_type": "code",
   "execution_count": 22,
   "id": "1be7b2c9",
   "metadata": {},
   "outputs": [
    {
     "data": {
      "application/vnd.microsoft.datawrangler.viewer.v0+json": {
       "columns": [
        {
         "name": "index",
         "rawType": "int64",
         "type": "integer"
        },
        {
         "name": "dish",
         "rawType": "object",
         "type": "string"
        },
        {
         "name": "items",
         "rawType": "object",
         "type": "unknown"
        }
       ],
       "ref": "d53b5f3a-61b0-44e7-a6dc-5b992b5e59d1",
       "rows": [
        [
         "0",
         "pasta bolognese",
         "['pasta', 'minced meat', 'onion', 'garlic', 'tomato sauce', 'Italian seasoning', 'salt', 'pepper', 'olive oil', 'parmesan cheese']"
        ],
        [
         "1",
         "chocolate cake",
         "['chocolate', 'flour', 'sugar', 'eggs', 'butter', 'cocoa powder', 'baking powder', 'vanilla extract', 'salt', 'milk']"
        ]
       ],
       "shape": {
        "columns": 2,
        "rows": 2
       }
      },
      "text/html": [
       "<div>\n",
       "<style scoped>\n",
       "    .dataframe tbody tr th:only-of-type {\n",
       "        vertical-align: middle;\n",
       "    }\n",
       "\n",
       "    .dataframe tbody tr th {\n",
       "        vertical-align: top;\n",
       "    }\n",
       "\n",
       "    .dataframe thead th {\n",
       "        text-align: right;\n",
       "    }\n",
       "</style>\n",
       "<table border=\"1\" class=\"dataframe\">\n",
       "  <thead>\n",
       "    <tr style=\"text-align: right;\">\n",
       "      <th></th>\n",
       "      <th>dish</th>\n",
       "      <th>items</th>\n",
       "    </tr>\n",
       "  </thead>\n",
       "  <tbody>\n",
       "    <tr>\n",
       "      <th>0</th>\n",
       "      <td>pasta bolognese</td>\n",
       "      <td>[pasta, minced meat, onion, garlic, tomato sau...</td>\n",
       "    </tr>\n",
       "    <tr>\n",
       "      <th>1</th>\n",
       "      <td>chocolate cake</td>\n",
       "      <td>[chocolate, flour, sugar, eggs, butter, cocoa ...</td>\n",
       "    </tr>\n",
       "  </tbody>\n",
       "</table>\n",
       "</div>"
      ],
      "text/plain": [
       "              dish                                              items\n",
       "0  pasta bolognese  [pasta, minced meat, onion, garlic, tomato sau...\n",
       "1   chocolate cake  [chocolate, flour, sugar, eggs, butter, cocoa ..."
      ]
     },
     "execution_count": 22,
     "metadata": {},
     "output_type": "execute_result"
    }
   ],
   "source": [
    "responses.to_pandas(explode=False)"
   ]
  },
  {
   "cell_type": "code",
   "execution_count": 23,
   "id": "b227e9e4",
   "metadata": {},
   "outputs": [
    {
     "data": {
      "text/plain": [
       "[{'dish': 'pasta bolognese',\n",
       "  'items': ['pasta',\n",
       "   'minced meat',\n",
       "   'onion',\n",
       "   'garlic',\n",
       "   'tomato sauce',\n",
       "   'Italian seasoning',\n",
       "   'salt',\n",
       "   'pepper',\n",
       "   'olive oil',\n",
       "   'parmesan cheese']},\n",
       " {'dish': 'chocolate cake',\n",
       "  'items': ['chocolate',\n",
       "   'flour',\n",
       "   'sugar',\n",
       "   'eggs',\n",
       "   'butter',\n",
       "   'cocoa powder',\n",
       "   'baking powder',\n",
       "   'vanilla extract',\n",
       "   'salt',\n",
       "   'milk']}]"
      ]
     },
     "execution_count": 23,
     "metadata": {},
     "output_type": "execute_result"
    }
   ],
   "source": [
    "responses.to_records(explode=False)"
   ]
  },
  {
   "cell_type": "code",
   "execution_count": null,
   "id": "cfccbf87",
   "metadata": {},
   "outputs": [
    {
     "data": {
      "text/plain": [
       "[{'dish': 'pasta bolognese', 'items': 'pasta'},\n",
       " {'dish': 'pasta bolognese', 'items': 'minced meat'},\n",
       " {'dish': 'pasta bolognese', 'items': 'onion'},\n",
       " {'dish': 'pasta bolognese', 'items': 'garlic'},\n",
       " {'dish': 'pasta bolognese', 'items': 'tomato sauce'},\n",
       " {'dish': 'pasta bolognese', 'items': 'Italian seasoning'},\n",
       " {'dish': 'pasta bolognese', 'items': 'salt'},\n",
       " {'dish': 'pasta bolognese', 'items': 'pepper'},\n",
       " {'dish': 'pasta bolognese', 'items': 'olive oil'},\n",
       " {'dish': 'pasta bolognese', 'items': 'parmesan cheese'},\n",
       " {'dish': 'chocolate cake', 'items': 'chocolate'},\n",
       " {'dish': 'chocolate cake', 'items': 'flour'},\n",
       " {'dish': 'chocolate cake', 'items': 'sugar'},\n",
       " {'dish': 'chocolate cake', 'items': 'eggs'},\n",
       " {'dish': 'chocolate cake', 'items': 'butter'},\n",
       " {'dish': 'chocolate cake', 'items': 'cocoa powder'},\n",
       " {'dish': 'chocolate cake', 'items': 'baking powder'},\n",
       " {'dish': 'chocolate cake', 'items': 'vanilla extract'},\n",
       " {'dish': 'chocolate cake', 'items': 'salt'},\n",
       " {'dish': 'chocolate cake', 'items': 'milk'}]"
      ]
     },
     "execution_count": 28,
     "metadata": {},
     "output_type": "execute_result"
    }
   ],
   "source": [
    "import importlib\n",
    "from cuery import response\n",
    "\n",
    "importlib.reload(response)\n",
    "\n",
    "r = response.ResponseSet(responses.responses, context=context, required=prompt.required)\n",
    "r.to_records()"
   ]
  }
 ],
 "metadata": {
  "kernelspec": {
   "display_name": ".venv",
   "language": "python",
   "name": "python3"
  },
  "language_info": {
   "codemirror_mode": {
    "name": "ipython",
    "version": 3
   },
   "file_extension": ".py",
   "mimetype": "text/x-python",
   "name": "python",
   "nbconvert_exporter": "python",
   "pygments_lexer": "ipython3",
   "version": "3.11.6"
  }
 },
 "nbformat": 4,
 "nbformat_minor": 5
}
