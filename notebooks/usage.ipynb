{
 "cells": [
  {
   "cell_type": "code",
   "execution_count": null,
   "id": "78fa6b3e",
   "metadata": {},
   "outputs": [],
   "source": [
    "from enum import Enum\n",
    "\n",
    "import pandas as pd\n",
    "from cuery import Prompt, ResponseModel, Task\n",
    "from pydantic import Field"
   ]
  },
  {
   "cell_type": "markdown",
   "id": "a8e92fd9",
   "metadata": {},
   "source": [
    "# Choices (enum)\n",
    "Require LLM to respond with one of N _options_ (fixed categories)."
   ]
  },
  {
   "cell_type": "code",
   "execution_count": 2,
   "id": "34664d2e",
   "metadata": {},
   "outputs": [
    {
     "name": "stdout",
     "output_type": "stream",
     "text": [
      "[UserDetail(age=25, name='Alice', role=<Role.STUDENT: 'STUDENT'>)]\n"
     ]
    },
    {
     "data": {
      "application/vnd.microsoft.datawrangler.viewer.v0+json": {
       "columns": [
        {
         "name": "index",
         "rawType": "int64",
         "type": "integer"
        },
        {
         "name": "age",
         "rawType": "int64",
         "type": "integer"
        },
        {
         "name": "name",
         "rawType": "object",
         "type": "string"
        },
        {
         "name": "role",
         "rawType": "object",
         "type": "unknown"
        }
       ],
       "ref": "dfad8367-d516-4d52-abf6-237cdaa946f6",
       "rows": [
        [
         "0",
         "25",
         "Alice",
         "Role.STUDENT"
        ]
       ],
       "shape": {
        "columns": 3,
        "rows": 1
       }
      },
      "text/html": [
       "<div>\n",
       "<style scoped>\n",
       "    .dataframe tbody tr th:only-of-type {\n",
       "        vertical-align: middle;\n",
       "    }\n",
       "\n",
       "    .dataframe tbody tr th {\n",
       "        vertical-align: top;\n",
       "    }\n",
       "\n",
       "    .dataframe thead th {\n",
       "        text-align: right;\n",
       "    }\n",
       "</style>\n",
       "<table border=\"1\" class=\"dataframe\">\n",
       "  <thead>\n",
       "    <tr style=\"text-align: right;\">\n",
       "      <th></th>\n",
       "      <th>age</th>\n",
       "      <th>name</th>\n",
       "      <th>role</th>\n",
       "    </tr>\n",
       "  </thead>\n",
       "  <tbody>\n",
       "    <tr>\n",
       "      <th>0</th>\n",
       "      <td>25</td>\n",
       "      <td>Alice</td>\n",
       "      <td>Role.STUDENT</td>\n",
       "    </tr>\n",
       "  </tbody>\n",
       "</table>\n",
       "</div>"
      ],
      "text/plain": [
       "   age   name          role\n",
       "0   25  Alice  Role.STUDENT"
      ]
     },
     "execution_count": 2,
     "metadata": {},
     "output_type": "execute_result"
    }
   ],
   "source": [
    "class Role(Enum):\n",
    "    PRINCIPAL = \"PRINCIPAL\"\n",
    "    TEACHER = \"TEACHER\"\n",
    "    STUDENT = \"STUDENT\"\n",
    "    OTHER = \"OTHER\"\n",
    "\n",
    "\n",
    "class UserDetail(ResponseModel):\n",
    "    age: int\n",
    "    name: str\n",
    "    role: Role = Field(description=\"Correctly assign one of the predefined roles to the user.\")\n",
    "\n",
    "\n",
    "prompt = Prompt(\n",
    "    messages=[\n",
    "        {\n",
    "            \"role\": \"user\",\n",
    "            \"content\": \"Please a create a synthetic user profile with age, name and role.\",\n",
    "        }\n",
    "    ]\n",
    ")\n",
    "\n",
    "task = Task(\"user_profile\", prompt=prompt, response=UserDetail)\n",
    "\n",
    "response = await task()\n",
    "print(response)\n",
    "response.to_pandas()"
   ]
  },
  {
   "cell_type": "markdown",
   "id": "4183a07a",
   "metadata": {},
   "source": [
    "# Simple Multivalued fields\n",
    "Require LLM to respond with a _list_ of values (unconstrained)."
   ]
  },
  {
   "cell_type": "code",
   "execution_count": 3,
   "id": "f1bd481d",
   "metadata": {},
   "outputs": [
    {
     "data": {
      "application/vnd.jupyter.widget-view+json": {
       "model_id": "2ab02c5d49bc4970a82c68dede991d7a",
       "version_major": 2,
       "version_minor": 0
      },
      "text/plain": [
       "Iterating context:   0%|          | 0/2 [00:00<?, ?it/s]"
      ]
     },
     "metadata": {},
     "output_type": "display_data"
    },
    {
     "name": "stdout",
     "output_type": "stream",
     "text": [
      "[Ingredients(items=['pasta', 'bolognese sauce', 'ground beef', 'onion', 'carrot', 'celery', 'garlic', 'tomato paste', 'red wine', 'beef broth', 'olive oil', 'salt', 'pepper', 'Parmesan cheese']), Ingredients(items=['chocolate', 'flour', 'sugar', 'eggs', 'butter', 'cocoa powder', 'baking powder', 'salt', 'milk', 'vanilla extract'])]\n"
     ]
    }
   ],
   "source": [
    "class Ingredients(ResponseModel):\n",
    "    items: list[str] = Field(description=\"List of ingredients for the recipe.\")\n",
    "\n",
    "\n",
    "prompt = Prompt(\n",
    "    messages=[\n",
    "        {\n",
    "            \"role\": \"user\",\n",
    "            \"content\": \"List the ingredients for the following dish: {{dish}}.\",\n",
    "        }\n",
    "    ],\n",
    "    required=[\"dish\"],\n",
    ")\n",
    "\n",
    "context = [{\"dish\": \"pasta bolognese\"}, {\"dish\": \"chocolate cake\"}]\n",
    "task = Task(\"dishes\", prompt=prompt, response=Ingredients)\n",
    "responses = await task(context=context)\n",
    "print(responses)"
   ]
  },
  {
   "cell_type": "code",
   "execution_count": null,
   "id": "1be7b2c9",
   "metadata": {},
   "outputs": [
    {
     "data": {
      "application/vnd.microsoft.datawrangler.viewer.v0+json": {
       "columns": [
        {
         "name": "index",
         "rawType": "int64",
         "type": "integer"
        },
        {
         "name": "dish",
         "rawType": "object",
         "type": "string"
        },
        {
         "name": "items",
         "rawType": "object",
         "type": "unknown"
        }
       ],
       "ref": "eff8aef6-51bb-41ff-9814-c3e4b17975af",
       "rows": [
        [
         "0",
         "pasta bolognese",
         "['pasta', 'bolognese sauce', 'ground beef', 'onion', 'garlic', 'carrot', 'celery', 'red wine', 'tomato paste', 'beef broth', 'salt', 'pepper', 'olive oil', 'parmesan cheese']"
        ],
        [
         "1",
         "chocolate cake",
         "['flour', 'cocoa powder', 'sugar', 'eggs', 'butter', 'baking soda', 'baking powder', 'salt', 'vanilla extract', 'milk', 'hot water']"
        ]
       ],
       "shape": {
        "columns": 2,
        "rows": 2
       }
      },
      "text/html": [
       "<div>\n",
       "<style scoped>\n",
       "    .dataframe tbody tr th:only-of-type {\n",
       "        vertical-align: middle;\n",
       "    }\n",
       "\n",
       "    .dataframe tbody tr th {\n",
       "        vertical-align: top;\n",
       "    }\n",
       "\n",
       "    .dataframe thead th {\n",
       "        text-align: right;\n",
       "    }\n",
       "</style>\n",
       "<table border=\"1\" class=\"dataframe\">\n",
       "  <thead>\n",
       "    <tr style=\"text-align: right;\">\n",
       "      <th></th>\n",
       "      <th>dish</th>\n",
       "      <th>items</th>\n",
       "    </tr>\n",
       "  </thead>\n",
       "  <tbody>\n",
       "    <tr>\n",
       "      <th>0</th>\n",
       "      <td>pasta bolognese</td>\n",
       "      <td>[pasta, bolognese sauce, ground beef, onion, g...</td>\n",
       "    </tr>\n",
       "    <tr>\n",
       "      <th>1</th>\n",
       "      <td>chocolate cake</td>\n",
       "      <td>[flour, cocoa powder, sugar, eggs, butter, bak...</td>\n",
       "    </tr>\n",
       "  </tbody>\n",
       "</table>\n",
       "</div>"
      ],
      "text/plain": [
       "              dish                                              items\n",
       "0  pasta bolognese  [pasta, bolognese sauce, ground beef, onion, g...\n",
       "1   chocolate cake  [flour, cocoa powder, sugar, eggs, butter, bak..."
      ]
     },
     "execution_count": 4,
     "metadata": {},
     "output_type": "execute_result"
    }
   ],
   "source": [
    "# Maintain the original structure of the responses\n",
    "responses.to_pandas(explode=False)"
   ]
  },
  {
   "cell_type": "code",
   "execution_count": null,
   "id": "f39652a1",
   "metadata": {},
   "outputs": [
    {
     "data": {
      "application/vnd.microsoft.datawrangler.viewer.v0+json": {
       "columns": [
        {
         "name": "index",
         "rawType": "int64",
         "type": "integer"
        },
        {
         "name": "dish",
         "rawType": "object",
         "type": "string"
        },
        {
         "name": "items",
         "rawType": "object",
         "type": "string"
        }
       ],
       "ref": "e4fde9ef-7bcb-41e6-912d-e3481a2dc394",
       "rows": [
        [
         "0",
         "pasta bolognese",
         "pasta"
        ],
        [
         "1",
         "pasta bolognese",
         "bolognese sauce"
        ],
        [
         "2",
         "pasta bolognese",
         "ground beef"
        ],
        [
         "3",
         "pasta bolognese",
         "onion"
        ],
        [
         "4",
         "pasta bolognese",
         "garlic"
        ],
        [
         "5",
         "pasta bolognese",
         "carrot"
        ],
        [
         "6",
         "pasta bolognese",
         "celery"
        ],
        [
         "7",
         "pasta bolognese",
         "red wine"
        ],
        [
         "8",
         "pasta bolognese",
         "tomato paste"
        ],
        [
         "9",
         "pasta bolognese",
         "beef broth"
        ],
        [
         "10",
         "pasta bolognese",
         "salt"
        ],
        [
         "11",
         "pasta bolognese",
         "pepper"
        ],
        [
         "12",
         "pasta bolognese",
         "olive oil"
        ],
        [
         "13",
         "pasta bolognese",
         "parmesan cheese"
        ],
        [
         "14",
         "chocolate cake",
         "flour"
        ],
        [
         "15",
         "chocolate cake",
         "cocoa powder"
        ],
        [
         "16",
         "chocolate cake",
         "sugar"
        ],
        [
         "17",
         "chocolate cake",
         "eggs"
        ],
        [
         "18",
         "chocolate cake",
         "butter"
        ],
        [
         "19",
         "chocolate cake",
         "baking soda"
        ],
        [
         "20",
         "chocolate cake",
         "baking powder"
        ],
        [
         "21",
         "chocolate cake",
         "salt"
        ],
        [
         "22",
         "chocolate cake",
         "vanilla extract"
        ],
        [
         "23",
         "chocolate cake",
         "milk"
        ],
        [
         "24",
         "chocolate cake",
         "hot water"
        ]
       ],
       "shape": {
        "columns": 2,
        "rows": 25
       }
      },
      "text/html": [
       "<div>\n",
       "<style scoped>\n",
       "    .dataframe tbody tr th:only-of-type {\n",
       "        vertical-align: middle;\n",
       "    }\n",
       "\n",
       "    .dataframe tbody tr th {\n",
       "        vertical-align: top;\n",
       "    }\n",
       "\n",
       "    .dataframe thead th {\n",
       "        text-align: right;\n",
       "    }\n",
       "</style>\n",
       "<table border=\"1\" class=\"dataframe\">\n",
       "  <thead>\n",
       "    <tr style=\"text-align: right;\">\n",
       "      <th></th>\n",
       "      <th>dish</th>\n",
       "      <th>items</th>\n",
       "    </tr>\n",
       "  </thead>\n",
       "  <tbody>\n",
       "    <tr>\n",
       "      <th>0</th>\n",
       "      <td>pasta bolognese</td>\n",
       "      <td>pasta</td>\n",
       "    </tr>\n",
       "    <tr>\n",
       "      <th>1</th>\n",
       "      <td>pasta bolognese</td>\n",
       "      <td>bolognese sauce</td>\n",
       "    </tr>\n",
       "    <tr>\n",
       "      <th>2</th>\n",
       "      <td>pasta bolognese</td>\n",
       "      <td>ground beef</td>\n",
       "    </tr>\n",
       "    <tr>\n",
       "      <th>3</th>\n",
       "      <td>pasta bolognese</td>\n",
       "      <td>onion</td>\n",
       "    </tr>\n",
       "    <tr>\n",
       "      <th>4</th>\n",
       "      <td>pasta bolognese</td>\n",
       "      <td>garlic</td>\n",
       "    </tr>\n",
       "    <tr>\n",
       "      <th>5</th>\n",
       "      <td>pasta bolognese</td>\n",
       "      <td>carrot</td>\n",
       "    </tr>\n",
       "    <tr>\n",
       "      <th>6</th>\n",
       "      <td>pasta bolognese</td>\n",
       "      <td>celery</td>\n",
       "    </tr>\n",
       "    <tr>\n",
       "      <th>7</th>\n",
       "      <td>pasta bolognese</td>\n",
       "      <td>red wine</td>\n",
       "    </tr>\n",
       "    <tr>\n",
       "      <th>8</th>\n",
       "      <td>pasta bolognese</td>\n",
       "      <td>tomato paste</td>\n",
       "    </tr>\n",
       "    <tr>\n",
       "      <th>9</th>\n",
       "      <td>pasta bolognese</td>\n",
       "      <td>beef broth</td>\n",
       "    </tr>\n",
       "    <tr>\n",
       "      <th>10</th>\n",
       "      <td>pasta bolognese</td>\n",
       "      <td>salt</td>\n",
       "    </tr>\n",
       "    <tr>\n",
       "      <th>11</th>\n",
       "      <td>pasta bolognese</td>\n",
       "      <td>pepper</td>\n",
       "    </tr>\n",
       "    <tr>\n",
       "      <th>12</th>\n",
       "      <td>pasta bolognese</td>\n",
       "      <td>olive oil</td>\n",
       "    </tr>\n",
       "    <tr>\n",
       "      <th>13</th>\n",
       "      <td>pasta bolognese</td>\n",
       "      <td>parmesan cheese</td>\n",
       "    </tr>\n",
       "    <tr>\n",
       "      <th>14</th>\n",
       "      <td>chocolate cake</td>\n",
       "      <td>flour</td>\n",
       "    </tr>\n",
       "    <tr>\n",
       "      <th>15</th>\n",
       "      <td>chocolate cake</td>\n",
       "      <td>cocoa powder</td>\n",
       "    </tr>\n",
       "    <tr>\n",
       "      <th>16</th>\n",
       "      <td>chocolate cake</td>\n",
       "      <td>sugar</td>\n",
       "    </tr>\n",
       "    <tr>\n",
       "      <th>17</th>\n",
       "      <td>chocolate cake</td>\n",
       "      <td>eggs</td>\n",
       "    </tr>\n",
       "    <tr>\n",
       "      <th>18</th>\n",
       "      <td>chocolate cake</td>\n",
       "      <td>butter</td>\n",
       "    </tr>\n",
       "    <tr>\n",
       "      <th>19</th>\n",
       "      <td>chocolate cake</td>\n",
       "      <td>baking soda</td>\n",
       "    </tr>\n",
       "    <tr>\n",
       "      <th>20</th>\n",
       "      <td>chocolate cake</td>\n",
       "      <td>baking powder</td>\n",
       "    </tr>\n",
       "    <tr>\n",
       "      <th>21</th>\n",
       "      <td>chocolate cake</td>\n",
       "      <td>salt</td>\n",
       "    </tr>\n",
       "    <tr>\n",
       "      <th>22</th>\n",
       "      <td>chocolate cake</td>\n",
       "      <td>vanilla extract</td>\n",
       "    </tr>\n",
       "    <tr>\n",
       "      <th>23</th>\n",
       "      <td>chocolate cake</td>\n",
       "      <td>milk</td>\n",
       "    </tr>\n",
       "    <tr>\n",
       "      <th>24</th>\n",
       "      <td>chocolate cake</td>\n",
       "      <td>hot water</td>\n",
       "    </tr>\n",
       "  </tbody>\n",
       "</table>\n",
       "</div>"
      ],
      "text/plain": [
       "               dish            items\n",
       "0   pasta bolognese            pasta\n",
       "1   pasta bolognese  bolognese sauce\n",
       "2   pasta bolognese      ground beef\n",
       "3   pasta bolognese            onion\n",
       "4   pasta bolognese           garlic\n",
       "5   pasta bolognese           carrot\n",
       "6   pasta bolognese           celery\n",
       "7   pasta bolognese         red wine\n",
       "8   pasta bolognese     tomato paste\n",
       "9   pasta bolognese       beef broth\n",
       "10  pasta bolognese             salt\n",
       "11  pasta bolognese           pepper\n",
       "12  pasta bolognese        olive oil\n",
       "13  pasta bolognese  parmesan cheese\n",
       "14   chocolate cake            flour\n",
       "15   chocolate cake     cocoa powder\n",
       "16   chocolate cake            sugar\n",
       "17   chocolate cake             eggs\n",
       "18   chocolate cake           butter\n",
       "19   chocolate cake      baking soda\n",
       "20   chocolate cake    baking powder\n",
       "21   chocolate cake             salt\n",
       "22   chocolate cake  vanilla extract\n",
       "23   chocolate cake             milk\n",
       "24   chocolate cake        hot water"
      ]
     },
     "execution_count": 6,
     "metadata": {},
     "output_type": "execute_result"
    }
   ],
   "source": [
    "# Explode the list of ingredients into separate rows\n",
    "responses.to_pandas(explode=True)"
   ]
  },
  {
   "cell_type": "code",
   "execution_count": null,
   "id": "b227e9e4",
   "metadata": {},
   "outputs": [
    {
     "data": {
      "text/plain": [
       "[{'dish': 'pasta bolognese',\n",
       "  'items': ['pasta',\n",
       "   'bolognese sauce',\n",
       "   'ground beef',\n",
       "   'onion',\n",
       "   'garlic',\n",
       "   'carrot',\n",
       "   'celery',\n",
       "   'red wine',\n",
       "   'tomato paste',\n",
       "   'beef broth',\n",
       "   'salt',\n",
       "   'pepper',\n",
       "   'olive oil',\n",
       "   'parmesan cheese']},\n",
       " {'dish': 'chocolate cake',\n",
       "  'items': ['flour',\n",
       "   'cocoa powder',\n",
       "   'sugar',\n",
       "   'eggs',\n",
       "   'butter',\n",
       "   'baking soda',\n",
       "   'baking powder',\n",
       "   'salt',\n",
       "   'vanilla extract',\n",
       "   'milk',\n",
       "   'hot water']}]"
      ]
     },
     "execution_count": 5,
     "metadata": {},
     "output_type": "execute_result"
    }
   ],
   "source": [
    "# Convert to simple python records\n",
    "responses.to_records(explode=False)"
   ]
  },
  {
   "cell_type": "markdown",
   "id": "dcb90a17",
   "metadata": {},
   "source": [
    "# Nested models\n",
    "Define a more complicated output structure by referencing another response model. \n",
    "\n",
    "In this case a list of certain length containing instances of pre-defined response model."
   ]
  },
  {
   "cell_type": "code",
   "execution_count": 3,
   "id": "a63e711a",
   "metadata": {},
   "outputs": [
    {
     "data": {
      "application/vnd.jupyter.widget-view+json": {
       "model_id": "eae714a0560f4073bdfc2ac183deae49",
       "version_major": 2,
       "version_minor": 0
      },
      "text/plain": [
       "Iterating context:   0%|          | 0/3 [00:00<?, ?it/s]"
      ]
     },
     "metadata": {},
     "output_type": "display_data"
    },
    {
     "data": {
      "text/html": [
       "<pre style=\"white-space:pre;overflow-x:auto;line-height:normal;font-family:Menlo,'DejaVu Sans Mono',consolas,'Courier New',monospace\"><span style=\"color: #7fbfbf; text-decoration-color: #7fbfbf\">[05/29/25 12:27:47] </span><span style=\"color: #808000; text-decoration-color: #808000\">WARNING </span> Encountered: <span style=\"color: #008080; text-decoration-color: #008080; font-weight: bold\">2</span> response parsing errors!                                    <a href=\"file:///Users/thomas/code/cuery/src/cuery/task.py\" target=\"_blank\"><span style=\"color: #7f7f7f; text-decoration-color: #7f7f7f\">task.py</span></a><span style=\"color: #7f7f7f; text-decoration-color: #7f7f7f\">:</span><a href=\"file:///Users/thomas/code/cuery/src/cuery/task.py#105\" target=\"_blank\"><span style=\"color: #7f7f7f; text-decoration-color: #7f7f7f\">105</span></a>\n",
       "</pre>\n"
      ],
      "text/plain": [
       "\u001b[2;36m[05/29/25 12:27:47]\u001b[0m\u001b[2;36m \u001b[0m\u001b[33mWARNING \u001b[0m Encountered: \u001b[1;36m2\u001b[0m response parsing errors!                                    \u001b]8;id=221965;file:///Users/thomas/code/cuery/src/cuery/task.py\u001b\\\u001b[2mtask.py\u001b[0m\u001b]8;;\u001b\\\u001b[2m:\u001b[0m\u001b]8;id=686206;file:///Users/thomas/code/cuery/src/cuery/task.py#105\u001b\\\u001b[2m105\u001b[0m\u001b]8;;\u001b\\\n"
      ]
     },
     "metadata": {},
     "output_type": "display_data"
    }
   ],
   "source": [
    "class Sector(ResponseModel):\n",
    "    sector: str = Field(\n",
    "        description=\"Human-readable title(!) of the industrical sector (in NAICS taxonomy)\",\n",
    "        min_length=10,\n",
    "        max_length=150,\n",
    "    )\n",
    "    subsector: str = Field(\n",
    "        description=\"Human-readable title(!) of the industrial SUBsector (in NAICS taxonomy)\",\n",
    "        min_length=5,\n",
    "        max_length=150,\n",
    "    )\n",
    "    sector_automation_potential: int = Field(\n",
    "        description=\"A score from 1 to 10 indicating the sector's potential for automation\",\n",
    "        ge=0,\n",
    "        le=10,\n",
    "    )\n",
    "\n",
    "\n",
    "class Sectors(ResponseModel):\n",
    "    sectors: list[Sector] = Field(\n",
    "        description=\"A list of 1 to 5 NAIC industrial sectors with their AI automation potential\",\n",
    "        min_length=1,\n",
    "        max_length=5,\n",
    "    )\n",
    "\n",
    "\n",
    "sectors_prompt = Prompt(\n",
    "    messages=[\n",
    "        {\n",
    "            \"role\": \"user\",\n",
    "            \"content\": \"List some industrial sector in the country of {{country}} that have great AI automation potential.\",\n",
    "        }\n",
    "    ],\n",
    "    required=[\"country\"],\n",
    ")\n",
    "\n",
    "context = [{\"country\": \"Germany\"}, {\"country\": \"United States\"}, {\"country\": \"Japan\"}]\n",
    "sectors_task = Task(\"sectors\", prompt=sectors_prompt, response=Sectors)\n",
    "responses = await sectors_task(context=context)"
   ]
  },
  {
   "cell_type": "code",
   "execution_count": 4,
   "id": "7b86febf",
   "metadata": {},
   "outputs": [
    {
     "data": {
      "application/vnd.microsoft.datawrangler.viewer.v0+json": {
       "columns": [
        {
         "name": "index",
         "rawType": "int64",
         "type": "integer"
        },
        {
         "name": "country",
         "rawType": "object",
         "type": "string"
        },
        {
         "name": "sector",
         "rawType": "object",
         "type": "string"
        },
        {
         "name": "subsector",
         "rawType": "object",
         "type": "string"
        },
        {
         "name": "sector_automation_potential",
         "rawType": "int64",
         "type": "integer"
        }
       ],
       "ref": "ce1c0eae-5d2e-4021-b104-0d815fd145ad",
       "rows": [
        [
         "0",
         "Germany",
         "Manufacturing",
         "Automobile Manufacturing",
         "8"
        ],
        [
         "1",
         "Germany",
         "Healthcare",
         "Medical Devices",
         "7"
        ],
        [
         "2",
         "Germany",
         "Information Technology",
         "Software Development",
         "9"
        ],
        [
         "3",
         "United States",
         "Manufacturing",
         "Aerospace Product and Parts Manufacturing",
         "8"
        ],
        [
         "4",
         "United States",
         "Health Care",
         "Medical Laboratories",
         "9"
        ],
        [
         "5",
         "United States",
         "Finance and Insurance",
         "Securities, Commodity Contracts, and Other Financial Investments and Related Activities",
         "7"
        ],
        [
         "6",
         "Japan",
         "Manufacturing",
         "Automotive Manufacturing",
         "8"
        ],
        [
         "7",
         "Japan",
         "Technology",
         "Electronics Manufacturing",
         "9"
        ],
        [
         "8",
         "Japan",
         "Healthcare",
         "Medical Devices",
         "7"
        ],
        [
         "9",
         "Japan",
         "Information Technology",
         "Software Development",
         "8"
        ],
        [
         "10",
         "Japan",
         "Financial Services",
         "Fintech",
         "8"
        ]
       ],
       "shape": {
        "columns": 4,
        "rows": 11
       }
      },
      "text/html": [
       "<div>\n",
       "<style scoped>\n",
       "    .dataframe tbody tr th:only-of-type {\n",
       "        vertical-align: middle;\n",
       "    }\n",
       "\n",
       "    .dataframe tbody tr th {\n",
       "        vertical-align: top;\n",
       "    }\n",
       "\n",
       "    .dataframe thead th {\n",
       "        text-align: right;\n",
       "    }\n",
       "</style>\n",
       "<table border=\"1\" class=\"dataframe\">\n",
       "  <thead>\n",
       "    <tr style=\"text-align: right;\">\n",
       "      <th></th>\n",
       "      <th>country</th>\n",
       "      <th>sector</th>\n",
       "      <th>subsector</th>\n",
       "      <th>sector_automation_potential</th>\n",
       "    </tr>\n",
       "  </thead>\n",
       "  <tbody>\n",
       "    <tr>\n",
       "      <th>0</th>\n",
       "      <td>Germany</td>\n",
       "      <td>Manufacturing</td>\n",
       "      <td>Automobile Manufacturing</td>\n",
       "      <td>8</td>\n",
       "    </tr>\n",
       "    <tr>\n",
       "      <th>1</th>\n",
       "      <td>Germany</td>\n",
       "      <td>Healthcare</td>\n",
       "      <td>Medical Devices</td>\n",
       "      <td>7</td>\n",
       "    </tr>\n",
       "    <tr>\n",
       "      <th>2</th>\n",
       "      <td>Germany</td>\n",
       "      <td>Information Technology</td>\n",
       "      <td>Software Development</td>\n",
       "      <td>9</td>\n",
       "    </tr>\n",
       "    <tr>\n",
       "      <th>3</th>\n",
       "      <td>United States</td>\n",
       "      <td>Manufacturing</td>\n",
       "      <td>Aerospace Product and Parts Manufacturing</td>\n",
       "      <td>8</td>\n",
       "    </tr>\n",
       "    <tr>\n",
       "      <th>4</th>\n",
       "      <td>United States</td>\n",
       "      <td>Health Care</td>\n",
       "      <td>Medical Laboratories</td>\n",
       "      <td>9</td>\n",
       "    </tr>\n",
       "    <tr>\n",
       "      <th>5</th>\n",
       "      <td>United States</td>\n",
       "      <td>Finance and Insurance</td>\n",
       "      <td>Securities, Commodity Contracts, and Other Fin...</td>\n",
       "      <td>7</td>\n",
       "    </tr>\n",
       "    <tr>\n",
       "      <th>6</th>\n",
       "      <td>Japan</td>\n",
       "      <td>Manufacturing</td>\n",
       "      <td>Automotive Manufacturing</td>\n",
       "      <td>8</td>\n",
       "    </tr>\n",
       "    <tr>\n",
       "      <th>7</th>\n",
       "      <td>Japan</td>\n",
       "      <td>Technology</td>\n",
       "      <td>Electronics Manufacturing</td>\n",
       "      <td>9</td>\n",
       "    </tr>\n",
       "    <tr>\n",
       "      <th>8</th>\n",
       "      <td>Japan</td>\n",
       "      <td>Healthcare</td>\n",
       "      <td>Medical Devices</td>\n",
       "      <td>7</td>\n",
       "    </tr>\n",
       "    <tr>\n",
       "      <th>9</th>\n",
       "      <td>Japan</td>\n",
       "      <td>Information Technology</td>\n",
       "      <td>Software Development</td>\n",
       "      <td>8</td>\n",
       "    </tr>\n",
       "    <tr>\n",
       "      <th>10</th>\n",
       "      <td>Japan</td>\n",
       "      <td>Financial Services</td>\n",
       "      <td>Fintech</td>\n",
       "      <td>8</td>\n",
       "    </tr>\n",
       "  </tbody>\n",
       "</table>\n",
       "</div>"
      ],
      "text/plain": [
       "          country                  sector  \\\n",
       "0         Germany           Manufacturing   \n",
       "1         Germany              Healthcare   \n",
       "2         Germany  Information Technology   \n",
       "3   United States           Manufacturing   \n",
       "4   United States             Health Care   \n",
       "5   United States   Finance and Insurance   \n",
       "6           Japan           Manufacturing   \n",
       "7           Japan              Technology   \n",
       "8           Japan              Healthcare   \n",
       "9           Japan  Information Technology   \n",
       "10          Japan      Financial Services   \n",
       "\n",
       "                                            subsector  \\\n",
       "0                            Automobile Manufacturing   \n",
       "1                                     Medical Devices   \n",
       "2                                Software Development   \n",
       "3           Aerospace Product and Parts Manufacturing   \n",
       "4                                Medical Laboratories   \n",
       "5   Securities, Commodity Contracts, and Other Fin...   \n",
       "6                            Automotive Manufacturing   \n",
       "7                           Electronics Manufacturing   \n",
       "8                                     Medical Devices   \n",
       "9                                Software Development   \n",
       "10                                            Fintech   \n",
       "\n",
       "    sector_automation_potential  \n",
       "0                             8  \n",
       "1                             7  \n",
       "2                             9  \n",
       "3                             8  \n",
       "4                             9  \n",
       "5                             7  \n",
       "6                             8  \n",
       "7                             9  \n",
       "8                             7  \n",
       "9                             8  \n",
       "10                            8  "
      ]
     },
     "execution_count": 4,
     "metadata": {},
     "output_type": "execute_result"
    }
   ],
   "source": [
    "responses.to_pandas(explode=True)"
   ]
  },
  {
   "cell_type": "markdown",
   "id": "2074200d",
   "metadata": {},
   "source": [
    "# Chain tasks together\n",
    "Run multiple tasks one after the other, collecting the results in a single DataFrame.\n",
    "\n",
    "Keep in mind here that the names of inputs of one task must be the same as the names of outputs in the previous one.\n",
    "\n",
    "Here we extract first some industrial sectors for each input country, and then some job roles within each sector."
   ]
  },
  {
   "cell_type": "code",
   "execution_count": 5,
   "id": "a3773406",
   "metadata": {},
   "outputs": [
    {
     "data": {
      "text/html": [
       "<pre style=\"white-space:pre;overflow-x:auto;line-height:normal;font-family:Menlo,'DejaVu Sans Mono',consolas,'Courier New',monospace\"><span style=\"color: #7fbfbf; text-decoration-color: #7fbfbf\">[05/29/25 12:27:50] </span><span style=\"color: #000080; text-decoration-color: #000080\">INFO    </span> <span style=\"font-weight: bold\">[</span><span style=\"color: #008080; text-decoration-color: #008080; font-weight: bold\">1</span>/<span style=\"color: #008080; text-decoration-color: #008080; font-weight: bold\">2</span><span style=\"font-weight: bold\">]</span> Running task <span style=\"color: #008000; text-decoration-color: #008000\">'Sectors'</span>                                               <a href=\"file:///Users/thomas/code/cuery/src/cuery/task.py\" target=\"_blank\"><span style=\"color: #7f7f7f; text-decoration-color: #7f7f7f\">task.py</span></a><span style=\"color: #7f7f7f; text-decoration-color: #7f7f7f\">:</span><a href=\"file:///Users/thomas/code/cuery/src/cuery/task.py#189\" target=\"_blank\"><span style=\"color: #7f7f7f; text-decoration-color: #7f7f7f\">189</span></a>\n",
       "</pre>\n"
      ],
      "text/plain": [
       "\u001b[2;36m[05/29/25 12:27:50]\u001b[0m\u001b[2;36m \u001b[0m\u001b[34mINFO    \u001b[0m \u001b[1m[\u001b[0m\u001b[1;36m1\u001b[0m/\u001b[1;36m2\u001b[0m\u001b[1m]\u001b[0m Running task \u001b[32m'Sectors'\u001b[0m                                               \u001b]8;id=170413;file:///Users/thomas/code/cuery/src/cuery/task.py\u001b\\\u001b[2mtask.py\u001b[0m\u001b]8;;\u001b\\\u001b[2m:\u001b[0m\u001b]8;id=398104;file:///Users/thomas/code/cuery/src/cuery/task.py#189\u001b\\\u001b[2m189\u001b[0m\u001b]8;;\u001b\\\n"
      ]
     },
     "metadata": {},
     "output_type": "display_data"
    },
    {
     "data": {
      "application/vnd.jupyter.widget-view+json": {
       "model_id": "f084a09db0bf4833b3b749837f75689e",
       "version_major": 2,
       "version_minor": 0
      },
      "text/plain": [
       "Iterating context:   0%|          | 0/3 [00:00<?, ?it/s]"
      ]
     },
     "metadata": {},
     "output_type": "display_data"
    },
    {
     "data": {
      "text/html": [
       "<pre style=\"white-space:pre;overflow-x:auto;line-height:normal;font-family:Menlo,'DejaVu Sans Mono',consolas,'Courier New',monospace\"><span style=\"color: #7fbfbf; text-decoration-color: #7fbfbf\">[05/29/25 12:27:55] </span><span style=\"color: #808000; text-decoration-color: #808000\">WARNING </span> Encountered: <span style=\"color: #008080; text-decoration-color: #008080; font-weight: bold\">1</span> response parsing errors!                                    <a href=\"file:///Users/thomas/code/cuery/src/cuery/task.py\" target=\"_blank\"><span style=\"color: #7f7f7f; text-decoration-color: #7f7f7f\">task.py</span></a><span style=\"color: #7f7f7f; text-decoration-color: #7f7f7f\">:</span><a href=\"file:///Users/thomas/code/cuery/src/cuery/task.py#105\" target=\"_blank\"><span style=\"color: #7f7f7f; text-decoration-color: #7f7f7f\">105</span></a>\n",
       "</pre>\n"
      ],
      "text/plain": [
       "\u001b[2;36m[05/29/25 12:27:55]\u001b[0m\u001b[2;36m \u001b[0m\u001b[33mWARNING \u001b[0m Encountered: \u001b[1;36m1\u001b[0m response parsing errors!                                    \u001b]8;id=164077;file:///Users/thomas/code/cuery/src/cuery/task.py\u001b\\\u001b[2mtask.py\u001b[0m\u001b]8;;\u001b\\\u001b[2m:\u001b[0m\u001b]8;id=143673;file:///Users/thomas/code/cuery/src/cuery/task.py#105\u001b\\\u001b[2m105\u001b[0m\u001b]8;;\u001b\\\n"
      ]
     },
     "metadata": {},
     "output_type": "display_data"
    },
    {
     "data": {
      "text/html": [
       "<pre style=\"white-space:pre;overflow-x:auto;line-height:normal;font-family:Menlo,'DejaVu Sans Mono',consolas,'Courier New',monospace\"><span style=\"color: #7fbfbf; text-decoration-color: #7fbfbf\">                    </span><span style=\"color: #000080; text-decoration-color: #000080\">INFO    </span> <span style=\"font-weight: bold\">[</span><span style=\"color: #008080; text-decoration-color: #008080; font-weight: bold\">2</span>/<span style=\"color: #008080; text-decoration-color: #008080; font-weight: bold\">2</span><span style=\"font-weight: bold\">]</span> Running task <span style=\"color: #008000; text-decoration-color: #008000\">'Jobs'</span>                                                  <a href=\"file:///Users/thomas/code/cuery/src/cuery/task.py\" target=\"_blank\"><span style=\"color: #7f7f7f; text-decoration-color: #7f7f7f\">task.py</span></a><span style=\"color: #7f7f7f; text-decoration-color: #7f7f7f\">:</span><a href=\"file:///Users/thomas/code/cuery/src/cuery/task.py#189\" target=\"_blank\"><span style=\"color: #7f7f7f; text-decoration-color: #7f7f7f\">189</span></a>\n",
       "</pre>\n"
      ],
      "text/plain": [
       "\u001b[2;36m                   \u001b[0m\u001b[2;36m \u001b[0m\u001b[34mINFO    \u001b[0m \u001b[1m[\u001b[0m\u001b[1;36m2\u001b[0m/\u001b[1;36m2\u001b[0m\u001b[1m]\u001b[0m Running task \u001b[32m'Jobs'\u001b[0m                                                  \u001b]8;id=490662;file:///Users/thomas/code/cuery/src/cuery/task.py\u001b\\\u001b[2mtask.py\u001b[0m\u001b]8;;\u001b\\\u001b[2m:\u001b[0m\u001b]8;id=3405;file:///Users/thomas/code/cuery/src/cuery/task.py#189\u001b\\\u001b[2m189\u001b[0m\u001b]8;;\u001b\\\n"
      ]
     },
     "metadata": {},
     "output_type": "display_data"
    },
    {
     "data": {
      "application/vnd.jupyter.widget-view+json": {
       "model_id": "27f32acb9f824775b54202bac98e22f6",
       "version_major": 2,
       "version_minor": 0
      },
      "text/plain": [
       "Iterating context:   0%|          | 0/9 [00:00<?, ?it/s]"
      ]
     },
     "metadata": {},
     "output_type": "display_data"
    }
   ],
   "source": [
    "# Re-uses \"sectors\" task from previous code cell (!)\n",
    "\n",
    "from cuery import Chain\n",
    "\n",
    "\n",
    "class Job(ResponseModel):\n",
    "    job_role: str = Field(description=\"Name of the job role (job title, less than 50 characters)\")\n",
    "    job_description: str = Field(\n",
    "        description=\"A short description of the job role (less than 200 characters)\"\n",
    "    )\n",
    "    job_automation_potential: int = Field(\n",
    "        description=\"A score from 1 to 10 indicating the job's potential for automation\",\n",
    "        ge=0,\n",
    "        le=10,\n",
    "    )\n",
    "\n",
    "\n",
    "class Jobs(ResponseModel):\n",
    "    jobs: list[Job] = Field(\n",
    "        description=(\n",
    "            \"A list of jobs with their AI automation potential and reasons for that potential\"\n",
    "        ),\n",
    "    )\n",
    "\n",
    "\n",
    "jobs_prompt = Prompt(\n",
    "    messages=[\n",
    "        {\n",
    "            \"content\": \"List some job roles with great AI automation potential in the country of {{country}} and the sector '{{sector}}'\"\n",
    "        }\n",
    "    ],\n",
    "    required=[\"country\", \"sector\"],\n",
    ")\n",
    "\n",
    "context = pd.DataFrame(\n",
    "    {\n",
    "        \"country\": [\"Germany\", \"United States\", \"Japan\"],\n",
    "        \"PIB\": [4.0, 5.0, 3.5],\n",
    "    }\n",
    ")\n",
    "\n",
    "jobs_task = Task(\"jobs\", prompt=jobs_prompt, response=Jobs)\n",
    "chain = Chain(sectors_task, jobs_task)\n",
    "responses = await chain(context=context)"
   ]
  },
  {
   "cell_type": "code",
   "execution_count": 7,
   "id": "09ba0a65",
   "metadata": {},
   "outputs": [
    {
     "data": {
      "application/vnd.microsoft.datawrangler.viewer.v0+json": {
       "columns": [
        {
         "name": "index",
         "rawType": "int64",
         "type": "integer"
        },
        {
         "name": "country",
         "rawType": "object",
         "type": "string"
        },
        {
         "name": "sector",
         "rawType": "object",
         "type": "string"
        },
        {
         "name": "job_role",
         "rawType": "object",
         "type": "string"
        },
        {
         "name": "job_description",
         "rawType": "object",
         "type": "string"
        },
        {
         "name": "job_automation_potential",
         "rawType": "int64",
         "type": "integer"
        }
       ],
       "ref": "9d7773bc-1009-41ba-869d-ba96c18edc24",
       "rows": [
        [
         "0",
         "Germany",
         "Manufacturing",
         "Robotics Engineer",
         "Design and develop robotic systems for automation",
         "8"
        ],
        [
         "1",
         "Germany",
         "Manufacturing",
         "Automation Technician",
         "Install and maintain automated manufacturing equipment",
         "7"
        ],
        [
         "2",
         "Germany",
         "Manufacturing",
         "Industrial Data Analyst",
         "Analyzing data to improve manufacturing processes",
         "6"
        ],
        [
         "3",
         "Germany",
         "Manufacturing",
         "Process Automation Specialist",
         "Implement and optimize automated processes in manufacturing",
         "9"
        ],
        [
         "4",
         "Germany",
         "Healthcare",
         "Healthcare Data Analyst",
         "Analyzing and interpreting data to improve healthcare outcomes",
         "8"
        ],
        [
         "5",
         "Germany",
         "Healthcare",
         "Healthcare Robotics Engineer",
         "Designing and developing robotics technology for healthcare applications",
         "9"
        ],
        [
         "6",
         "Germany",
         "Healthcare",
         "Healthcare AI Specialist",
         "Implementing AI solutions to enhance healthcare processes and decision-making",
         "7"
        ],
        [
         "7",
         "Germany",
         "Finance and Insurance",
         "Data Analyst",
         "Analyzes data and generates insights for decision-making",
         "7"
        ],
        [
         "8",
         "Germany",
         "Finance and Insurance",
         "Risk Manager",
         "Identifies and mitigates financial risks within an organization",
         "6"
        ],
        [
         "9",
         "Germany",
         "Finance and Insurance",
         "Actuary",
         "Assesses and manages financial risks using statistical models",
         "8"
        ],
        [
         "10",
         "Germany",
         "Finance and Insurance",
         "Fraud Analyst",
         "Detects and investigates fraudulent activities in financial transactions",
         "9"
        ],
        [
         "11",
         "Germany",
         "Finance and Insurance",
         "Financial Advisor",
         "Provides financial advice and investment recommendations to clients",
         "5"
        ],
        [
         "12",
         "United States",
         "Manufacturing",
         "Robotics Engineer",
         "Design and develop robots for manufacturing processes",
         "8"
        ],
        [
         "13",
         "United States",
         "Manufacturing",
         "Automation Technician",
         "Maintain and repair automated manufacturing systems",
         "7"
        ],
        [
         "14",
         "United States",
         "Manufacturing",
         "Industrial Data Scientist",
         "Analyze data to optimize manufacturing processes",
         "9"
        ],
        [
         "15",
         "United States",
         "Manufacturing",
         "Machine Learning Engineer",
         "Implement machine learning algorithms in manufacturing systems",
         "8"
        ],
        [
         "16",
         "United States",
         "Manufacturing",
         "Industrial Automation Engineer",
         "Design and implement automation solutions for manufacturing plants",
         "9"
        ],
        [
         "17",
         "United States",
         "Healthcare",
         "Telemedicine Specialist",
         "Provide remote healthcare services through telecommunication technologies",
         "8"
        ],
        [
         "18",
         "United States",
         "Healthcare",
         "Health Data Analyst",
         "Analyze healthcare data to improve patient care and outcomes",
         "7"
        ],
        [
         "19",
         "United States",
         "Healthcare",
         "Robotics Surgeon",
         "Perform surgeries with the assistance of robotic technology",
         "9"
        ],
        [
         "20",
         "United States",
         "Healthcare",
         "Clinical Trial Coordinator",
         "Organize and manage clinical trials for new medical treatments",
         "6"
        ],
        [
         "21",
         "United States",
         "Healthcare",
         "Medical AI Researcher",
         "Develop AI algorithms for healthcare applications",
         "9"
        ],
        [
         "22",
         "United States",
         "Information Technology",
         "Data Scientist",
         "Analyzing complex data to inform business decisions",
         "8"
        ],
        [
         "23",
         "United States",
         "Information Technology",
         "AI Specialist",
         "Developing and implementing AI solutions",
         "9"
        ],
        [
         "24",
         "United States",
         "Information Technology",
         "Machine Learning Engineer",
         "Designing and building machine learning models",
         "7"
        ],
        [
         "25",
         "United States",
         "Information Technology",
         "Cybersecurity Analyst",
         "Protecting IT systems from cyber threats",
         "6"
        ],
        [
         "26",
         "United States",
         "Information Technology",
         "Cloud Architect",
         "Designing cloud infrastructure and strategies",
         "7"
        ],
        [
         "27",
         "Japan",
         "Manufacturing",
         "Robotics Engineer",
         "Design and develop robotic systems for manufacturing processes",
         "9"
        ],
        [
         "28",
         "Japan",
         "Manufacturing",
         "Automation Specialist",
         "Implement and optimize AI-driven automation solutions in manufacturing",
         "8"
        ],
        [
         "29",
         "Japan",
         "Manufacturing",
         "Data Analyst",
         "Analyze and interpret data to improve manufacturing efficiency and quality",
         "7"
        ],
        [
         "30",
         "Japan",
         "Manufacturing",
         "Quality Control Inspector",
         "Ensure products meet quality standards using AI-driven inspection systems",
         "6"
        ],
        [
         "31",
         "Japan",
         "Manufacturing",
         "Supply Chain Analyst",
         "Optimize supply chain processes using AI algorithms and predictive analytics",
         "7"
        ],
        [
         "32",
         "Japan",
         "Retail Trade",
         "Inventory Analyst",
         "Responsible for monitoring and managing inventory levels in retail stores",
         "7"
        ],
        [
         "33",
         "Japan",
         "Retail Trade",
         "Customer Service Representative",
         "Provide customer support and address inquiries and complaints",
         "6"
        ],
        [
         "34",
         "Japan",
         "Retail Trade",
         "Sales Associate",
         "Responsible for assisting customers in making purchases and providing product information",
         "5"
        ],
        [
         "35",
         "Japan",
         "Retail Trade",
         "Data Analyst",
         "Analyze data to improve business operations and strategies",
         "8"
        ],
        [
         "36",
         "Japan",
         "Health Care and Social Assistance",
         "Medical Transcriptionist",
         "Transcribe medical reports dictated by healthcare professionals",
         "7"
        ],
        [
         "37",
         "Japan",
         "Health Care and Social Assistance",
         "Radiologic Technologist",
         "Operate imaging equipment to take x-rays and other medical images",
         "4"
        ],
        [
         "38",
         "Japan",
         "Health Care and Social Assistance",
         "Physical Therapist",
         "Help patients recover from injuries and improve movement",
         "3"
        ],
        [
         "39",
         "Japan",
         "Health Care and Social Assistance",
         "Pharmacy Technician",
         "Assist pharmacists in dispensing medication and providing customer service",
         "6"
        ],
        [
         "40",
         "Japan",
         "Health Care and Social Assistance",
         "Nurse",
         "Provide care and support to patients in healthcare settings",
         "5"
        ]
       ],
       "shape": {
        "columns": 5,
        "rows": 41
       }
      },
      "text/html": [
       "<div>\n",
       "<style scoped>\n",
       "    .dataframe tbody tr th:only-of-type {\n",
       "        vertical-align: middle;\n",
       "    }\n",
       "\n",
       "    .dataframe tbody tr th {\n",
       "        vertical-align: top;\n",
       "    }\n",
       "\n",
       "    .dataframe thead th {\n",
       "        text-align: right;\n",
       "    }\n",
       "</style>\n",
       "<table border=\"1\" class=\"dataframe\">\n",
       "  <thead>\n",
       "    <tr style=\"text-align: right;\">\n",
       "      <th></th>\n",
       "      <th>country</th>\n",
       "      <th>sector</th>\n",
       "      <th>job_role</th>\n",
       "      <th>job_description</th>\n",
       "      <th>job_automation_potential</th>\n",
       "    </tr>\n",
       "  </thead>\n",
       "  <tbody>\n",
       "    <tr>\n",
       "      <th>0</th>\n",
       "      <td>Germany</td>\n",
       "      <td>Manufacturing</td>\n",
       "      <td>Robotics Engineer</td>\n",
       "      <td>Design and develop robotic systems for automation</td>\n",
       "      <td>8</td>\n",
       "    </tr>\n",
       "    <tr>\n",
       "      <th>1</th>\n",
       "      <td>Germany</td>\n",
       "      <td>Manufacturing</td>\n",
       "      <td>Automation Technician</td>\n",
       "      <td>Install and maintain automated manufacturing e...</td>\n",
       "      <td>7</td>\n",
       "    </tr>\n",
       "    <tr>\n",
       "      <th>2</th>\n",
       "      <td>Germany</td>\n",
       "      <td>Manufacturing</td>\n",
       "      <td>Industrial Data Analyst</td>\n",
       "      <td>Analyzing data to improve manufacturing processes</td>\n",
       "      <td>6</td>\n",
       "    </tr>\n",
       "    <tr>\n",
       "      <th>3</th>\n",
       "      <td>Germany</td>\n",
       "      <td>Manufacturing</td>\n",
       "      <td>Process Automation Specialist</td>\n",
       "      <td>Implement and optimize automated processes in ...</td>\n",
       "      <td>9</td>\n",
       "    </tr>\n",
       "    <tr>\n",
       "      <th>4</th>\n",
       "      <td>Germany</td>\n",
       "      <td>Healthcare</td>\n",
       "      <td>Healthcare Data Analyst</td>\n",
       "      <td>Analyzing and interpreting data to improve hea...</td>\n",
       "      <td>8</td>\n",
       "    </tr>\n",
       "    <tr>\n",
       "      <th>5</th>\n",
       "      <td>Germany</td>\n",
       "      <td>Healthcare</td>\n",
       "      <td>Healthcare Robotics Engineer</td>\n",
       "      <td>Designing and developing robotics technology f...</td>\n",
       "      <td>9</td>\n",
       "    </tr>\n",
       "    <tr>\n",
       "      <th>6</th>\n",
       "      <td>Germany</td>\n",
       "      <td>Healthcare</td>\n",
       "      <td>Healthcare AI Specialist</td>\n",
       "      <td>Implementing AI solutions to enhance healthcar...</td>\n",
       "      <td>7</td>\n",
       "    </tr>\n",
       "    <tr>\n",
       "      <th>7</th>\n",
       "      <td>Germany</td>\n",
       "      <td>Finance and Insurance</td>\n",
       "      <td>Data Analyst</td>\n",
       "      <td>Analyzes data and generates insights for decis...</td>\n",
       "      <td>7</td>\n",
       "    </tr>\n",
       "    <tr>\n",
       "      <th>8</th>\n",
       "      <td>Germany</td>\n",
       "      <td>Finance and Insurance</td>\n",
       "      <td>Risk Manager</td>\n",
       "      <td>Identifies and mitigates financial risks withi...</td>\n",
       "      <td>6</td>\n",
       "    </tr>\n",
       "    <tr>\n",
       "      <th>9</th>\n",
       "      <td>Germany</td>\n",
       "      <td>Finance and Insurance</td>\n",
       "      <td>Actuary</td>\n",
       "      <td>Assesses and manages financial risks using sta...</td>\n",
       "      <td>8</td>\n",
       "    </tr>\n",
       "    <tr>\n",
       "      <th>10</th>\n",
       "      <td>Germany</td>\n",
       "      <td>Finance and Insurance</td>\n",
       "      <td>Fraud Analyst</td>\n",
       "      <td>Detects and investigates fraudulent activities...</td>\n",
       "      <td>9</td>\n",
       "    </tr>\n",
       "    <tr>\n",
       "      <th>11</th>\n",
       "      <td>Germany</td>\n",
       "      <td>Finance and Insurance</td>\n",
       "      <td>Financial Advisor</td>\n",
       "      <td>Provides financial advice and investment recom...</td>\n",
       "      <td>5</td>\n",
       "    </tr>\n",
       "    <tr>\n",
       "      <th>12</th>\n",
       "      <td>United States</td>\n",
       "      <td>Manufacturing</td>\n",
       "      <td>Robotics Engineer</td>\n",
       "      <td>Design and develop robots for manufacturing pr...</td>\n",
       "      <td>8</td>\n",
       "    </tr>\n",
       "    <tr>\n",
       "      <th>13</th>\n",
       "      <td>United States</td>\n",
       "      <td>Manufacturing</td>\n",
       "      <td>Automation Technician</td>\n",
       "      <td>Maintain and repair automated manufacturing sy...</td>\n",
       "      <td>7</td>\n",
       "    </tr>\n",
       "    <tr>\n",
       "      <th>14</th>\n",
       "      <td>United States</td>\n",
       "      <td>Manufacturing</td>\n",
       "      <td>Industrial Data Scientist</td>\n",
       "      <td>Analyze data to optimize manufacturing processes</td>\n",
       "      <td>9</td>\n",
       "    </tr>\n",
       "    <tr>\n",
       "      <th>15</th>\n",
       "      <td>United States</td>\n",
       "      <td>Manufacturing</td>\n",
       "      <td>Machine Learning Engineer</td>\n",
       "      <td>Implement machine learning algorithms in manuf...</td>\n",
       "      <td>8</td>\n",
       "    </tr>\n",
       "    <tr>\n",
       "      <th>16</th>\n",
       "      <td>United States</td>\n",
       "      <td>Manufacturing</td>\n",
       "      <td>Industrial Automation Engineer</td>\n",
       "      <td>Design and implement automation solutions for ...</td>\n",
       "      <td>9</td>\n",
       "    </tr>\n",
       "    <tr>\n",
       "      <th>17</th>\n",
       "      <td>United States</td>\n",
       "      <td>Healthcare</td>\n",
       "      <td>Telemedicine Specialist</td>\n",
       "      <td>Provide remote healthcare services through tel...</td>\n",
       "      <td>8</td>\n",
       "    </tr>\n",
       "    <tr>\n",
       "      <th>18</th>\n",
       "      <td>United States</td>\n",
       "      <td>Healthcare</td>\n",
       "      <td>Health Data Analyst</td>\n",
       "      <td>Analyze healthcare data to improve patient car...</td>\n",
       "      <td>7</td>\n",
       "    </tr>\n",
       "    <tr>\n",
       "      <th>19</th>\n",
       "      <td>United States</td>\n",
       "      <td>Healthcare</td>\n",
       "      <td>Robotics Surgeon</td>\n",
       "      <td>Perform surgeries with the assistance of robot...</td>\n",
       "      <td>9</td>\n",
       "    </tr>\n",
       "    <tr>\n",
       "      <th>20</th>\n",
       "      <td>United States</td>\n",
       "      <td>Healthcare</td>\n",
       "      <td>Clinical Trial Coordinator</td>\n",
       "      <td>Organize and manage clinical trials for new me...</td>\n",
       "      <td>6</td>\n",
       "    </tr>\n",
       "    <tr>\n",
       "      <th>21</th>\n",
       "      <td>United States</td>\n",
       "      <td>Healthcare</td>\n",
       "      <td>Medical AI Researcher</td>\n",
       "      <td>Develop AI algorithms for healthcare applications</td>\n",
       "      <td>9</td>\n",
       "    </tr>\n",
       "    <tr>\n",
       "      <th>22</th>\n",
       "      <td>United States</td>\n",
       "      <td>Information Technology</td>\n",
       "      <td>Data Scientist</td>\n",
       "      <td>Analyzing complex data to inform business deci...</td>\n",
       "      <td>8</td>\n",
       "    </tr>\n",
       "    <tr>\n",
       "      <th>23</th>\n",
       "      <td>United States</td>\n",
       "      <td>Information Technology</td>\n",
       "      <td>AI Specialist</td>\n",
       "      <td>Developing and implementing AI solutions</td>\n",
       "      <td>9</td>\n",
       "    </tr>\n",
       "    <tr>\n",
       "      <th>24</th>\n",
       "      <td>United States</td>\n",
       "      <td>Information Technology</td>\n",
       "      <td>Machine Learning Engineer</td>\n",
       "      <td>Designing and building machine learning models</td>\n",
       "      <td>7</td>\n",
       "    </tr>\n",
       "    <tr>\n",
       "      <th>25</th>\n",
       "      <td>United States</td>\n",
       "      <td>Information Technology</td>\n",
       "      <td>Cybersecurity Analyst</td>\n",
       "      <td>Protecting IT systems from cyber threats</td>\n",
       "      <td>6</td>\n",
       "    </tr>\n",
       "    <tr>\n",
       "      <th>26</th>\n",
       "      <td>United States</td>\n",
       "      <td>Information Technology</td>\n",
       "      <td>Cloud Architect</td>\n",
       "      <td>Designing cloud infrastructure and strategies</td>\n",
       "      <td>7</td>\n",
       "    </tr>\n",
       "    <tr>\n",
       "      <th>27</th>\n",
       "      <td>Japan</td>\n",
       "      <td>Manufacturing</td>\n",
       "      <td>Robotics Engineer</td>\n",
       "      <td>Design and develop robotic systems for manufac...</td>\n",
       "      <td>9</td>\n",
       "    </tr>\n",
       "    <tr>\n",
       "      <th>28</th>\n",
       "      <td>Japan</td>\n",
       "      <td>Manufacturing</td>\n",
       "      <td>Automation Specialist</td>\n",
       "      <td>Implement and optimize AI-driven automation so...</td>\n",
       "      <td>8</td>\n",
       "    </tr>\n",
       "    <tr>\n",
       "      <th>29</th>\n",
       "      <td>Japan</td>\n",
       "      <td>Manufacturing</td>\n",
       "      <td>Data Analyst</td>\n",
       "      <td>Analyze and interpret data to improve manufact...</td>\n",
       "      <td>7</td>\n",
       "    </tr>\n",
       "    <tr>\n",
       "      <th>30</th>\n",
       "      <td>Japan</td>\n",
       "      <td>Manufacturing</td>\n",
       "      <td>Quality Control Inspector</td>\n",
       "      <td>Ensure products meet quality standards using A...</td>\n",
       "      <td>6</td>\n",
       "    </tr>\n",
       "    <tr>\n",
       "      <th>31</th>\n",
       "      <td>Japan</td>\n",
       "      <td>Manufacturing</td>\n",
       "      <td>Supply Chain Analyst</td>\n",
       "      <td>Optimize supply chain processes using AI algor...</td>\n",
       "      <td>7</td>\n",
       "    </tr>\n",
       "    <tr>\n",
       "      <th>32</th>\n",
       "      <td>Japan</td>\n",
       "      <td>Retail Trade</td>\n",
       "      <td>Inventory Analyst</td>\n",
       "      <td>Responsible for monitoring and managing invent...</td>\n",
       "      <td>7</td>\n",
       "    </tr>\n",
       "    <tr>\n",
       "      <th>33</th>\n",
       "      <td>Japan</td>\n",
       "      <td>Retail Trade</td>\n",
       "      <td>Customer Service Representative</td>\n",
       "      <td>Provide customer support and address inquiries...</td>\n",
       "      <td>6</td>\n",
       "    </tr>\n",
       "    <tr>\n",
       "      <th>34</th>\n",
       "      <td>Japan</td>\n",
       "      <td>Retail Trade</td>\n",
       "      <td>Sales Associate</td>\n",
       "      <td>Responsible for assisting customers in making ...</td>\n",
       "      <td>5</td>\n",
       "    </tr>\n",
       "    <tr>\n",
       "      <th>35</th>\n",
       "      <td>Japan</td>\n",
       "      <td>Retail Trade</td>\n",
       "      <td>Data Analyst</td>\n",
       "      <td>Analyze data to improve business operations an...</td>\n",
       "      <td>8</td>\n",
       "    </tr>\n",
       "    <tr>\n",
       "      <th>36</th>\n",
       "      <td>Japan</td>\n",
       "      <td>Health Care and Social Assistance</td>\n",
       "      <td>Medical Transcriptionist</td>\n",
       "      <td>Transcribe medical reports dictated by healthc...</td>\n",
       "      <td>7</td>\n",
       "    </tr>\n",
       "    <tr>\n",
       "      <th>37</th>\n",
       "      <td>Japan</td>\n",
       "      <td>Health Care and Social Assistance</td>\n",
       "      <td>Radiologic Technologist</td>\n",
       "      <td>Operate imaging equipment to take x-rays and o...</td>\n",
       "      <td>4</td>\n",
       "    </tr>\n",
       "    <tr>\n",
       "      <th>38</th>\n",
       "      <td>Japan</td>\n",
       "      <td>Health Care and Social Assistance</td>\n",
       "      <td>Physical Therapist</td>\n",
       "      <td>Help patients recover from injuries and improv...</td>\n",
       "      <td>3</td>\n",
       "    </tr>\n",
       "    <tr>\n",
       "      <th>39</th>\n",
       "      <td>Japan</td>\n",
       "      <td>Health Care and Social Assistance</td>\n",
       "      <td>Pharmacy Technician</td>\n",
       "      <td>Assist pharmacists in dispensing medication an...</td>\n",
       "      <td>6</td>\n",
       "    </tr>\n",
       "    <tr>\n",
       "      <th>40</th>\n",
       "      <td>Japan</td>\n",
       "      <td>Health Care and Social Assistance</td>\n",
       "      <td>Nurse</td>\n",
       "      <td>Provide care and support to patients in health...</td>\n",
       "      <td>5</td>\n",
       "    </tr>\n",
       "  </tbody>\n",
       "</table>\n",
       "</div>"
      ],
      "text/plain": [
       "          country                             sector  \\\n",
       "0         Germany                      Manufacturing   \n",
       "1         Germany                      Manufacturing   \n",
       "2         Germany                      Manufacturing   \n",
       "3         Germany                      Manufacturing   \n",
       "4         Germany                         Healthcare   \n",
       "5         Germany                         Healthcare   \n",
       "6         Germany                         Healthcare   \n",
       "7         Germany              Finance and Insurance   \n",
       "8         Germany              Finance and Insurance   \n",
       "9         Germany              Finance and Insurance   \n",
       "10        Germany              Finance and Insurance   \n",
       "11        Germany              Finance and Insurance   \n",
       "12  United States                      Manufacturing   \n",
       "13  United States                      Manufacturing   \n",
       "14  United States                      Manufacturing   \n",
       "15  United States                      Manufacturing   \n",
       "16  United States                      Manufacturing   \n",
       "17  United States                         Healthcare   \n",
       "18  United States                         Healthcare   \n",
       "19  United States                         Healthcare   \n",
       "20  United States                         Healthcare   \n",
       "21  United States                         Healthcare   \n",
       "22  United States             Information Technology   \n",
       "23  United States             Information Technology   \n",
       "24  United States             Information Technology   \n",
       "25  United States             Information Technology   \n",
       "26  United States             Information Technology   \n",
       "27          Japan                      Manufacturing   \n",
       "28          Japan                      Manufacturing   \n",
       "29          Japan                      Manufacturing   \n",
       "30          Japan                      Manufacturing   \n",
       "31          Japan                      Manufacturing   \n",
       "32          Japan                       Retail Trade   \n",
       "33          Japan                       Retail Trade   \n",
       "34          Japan                       Retail Trade   \n",
       "35          Japan                       Retail Trade   \n",
       "36          Japan  Health Care and Social Assistance   \n",
       "37          Japan  Health Care and Social Assistance   \n",
       "38          Japan  Health Care and Social Assistance   \n",
       "39          Japan  Health Care and Social Assistance   \n",
       "40          Japan  Health Care and Social Assistance   \n",
       "\n",
       "                           job_role  \\\n",
       "0                 Robotics Engineer   \n",
       "1             Automation Technician   \n",
       "2           Industrial Data Analyst   \n",
       "3     Process Automation Specialist   \n",
       "4           Healthcare Data Analyst   \n",
       "5      Healthcare Robotics Engineer   \n",
       "6          Healthcare AI Specialist   \n",
       "7                      Data Analyst   \n",
       "8                      Risk Manager   \n",
       "9                           Actuary   \n",
       "10                    Fraud Analyst   \n",
       "11                Financial Advisor   \n",
       "12                Robotics Engineer   \n",
       "13            Automation Technician   \n",
       "14        Industrial Data Scientist   \n",
       "15        Machine Learning Engineer   \n",
       "16   Industrial Automation Engineer   \n",
       "17          Telemedicine Specialist   \n",
       "18              Health Data Analyst   \n",
       "19                 Robotics Surgeon   \n",
       "20       Clinical Trial Coordinator   \n",
       "21            Medical AI Researcher   \n",
       "22                   Data Scientist   \n",
       "23                    AI Specialist   \n",
       "24        Machine Learning Engineer   \n",
       "25            Cybersecurity Analyst   \n",
       "26                  Cloud Architect   \n",
       "27                Robotics Engineer   \n",
       "28            Automation Specialist   \n",
       "29                     Data Analyst   \n",
       "30        Quality Control Inspector   \n",
       "31             Supply Chain Analyst   \n",
       "32                Inventory Analyst   \n",
       "33  Customer Service Representative   \n",
       "34                  Sales Associate   \n",
       "35                     Data Analyst   \n",
       "36         Medical Transcriptionist   \n",
       "37          Radiologic Technologist   \n",
       "38               Physical Therapist   \n",
       "39              Pharmacy Technician   \n",
       "40                            Nurse   \n",
       "\n",
       "                                      job_description  \\\n",
       "0   Design and develop robotic systems for automation   \n",
       "1   Install and maintain automated manufacturing e...   \n",
       "2   Analyzing data to improve manufacturing processes   \n",
       "3   Implement and optimize automated processes in ...   \n",
       "4   Analyzing and interpreting data to improve hea...   \n",
       "5   Designing and developing robotics technology f...   \n",
       "6   Implementing AI solutions to enhance healthcar...   \n",
       "7   Analyzes data and generates insights for decis...   \n",
       "8   Identifies and mitigates financial risks withi...   \n",
       "9   Assesses and manages financial risks using sta...   \n",
       "10  Detects and investigates fraudulent activities...   \n",
       "11  Provides financial advice and investment recom...   \n",
       "12  Design and develop robots for manufacturing pr...   \n",
       "13  Maintain and repair automated manufacturing sy...   \n",
       "14   Analyze data to optimize manufacturing processes   \n",
       "15  Implement machine learning algorithms in manuf...   \n",
       "16  Design and implement automation solutions for ...   \n",
       "17  Provide remote healthcare services through tel...   \n",
       "18  Analyze healthcare data to improve patient car...   \n",
       "19  Perform surgeries with the assistance of robot...   \n",
       "20  Organize and manage clinical trials for new me...   \n",
       "21  Develop AI algorithms for healthcare applications   \n",
       "22  Analyzing complex data to inform business deci...   \n",
       "23           Developing and implementing AI solutions   \n",
       "24     Designing and building machine learning models   \n",
       "25           Protecting IT systems from cyber threats   \n",
       "26      Designing cloud infrastructure and strategies   \n",
       "27  Design and develop robotic systems for manufac...   \n",
       "28  Implement and optimize AI-driven automation so...   \n",
       "29  Analyze and interpret data to improve manufact...   \n",
       "30  Ensure products meet quality standards using A...   \n",
       "31  Optimize supply chain processes using AI algor...   \n",
       "32  Responsible for monitoring and managing invent...   \n",
       "33  Provide customer support and address inquiries...   \n",
       "34  Responsible for assisting customers in making ...   \n",
       "35  Analyze data to improve business operations an...   \n",
       "36  Transcribe medical reports dictated by healthc...   \n",
       "37  Operate imaging equipment to take x-rays and o...   \n",
       "38  Help patients recover from injuries and improv...   \n",
       "39  Assist pharmacists in dispensing medication an...   \n",
       "40  Provide care and support to patients in health...   \n",
       "\n",
       "    job_automation_potential  \n",
       "0                          8  \n",
       "1                          7  \n",
       "2                          6  \n",
       "3                          9  \n",
       "4                          8  \n",
       "5                          9  \n",
       "6                          7  \n",
       "7                          7  \n",
       "8                          6  \n",
       "9                          8  \n",
       "10                         9  \n",
       "11                         5  \n",
       "12                         8  \n",
       "13                         7  \n",
       "14                         9  \n",
       "15                         8  \n",
       "16                         9  \n",
       "17                         8  \n",
       "18                         7  \n",
       "19                         9  \n",
       "20                         6  \n",
       "21                         9  \n",
       "22                         8  \n",
       "23                         9  \n",
       "24                         7  \n",
       "25                         6  \n",
       "26                         7  \n",
       "27                         9  \n",
       "28                         8  \n",
       "29                         7  \n",
       "30                         6  \n",
       "31                         7  \n",
       "32                         7  \n",
       "33                         6  \n",
       "34                         5  \n",
       "35                         8  \n",
       "36                         7  \n",
       "37                         4  \n",
       "38                         3  \n",
       "39                         6  \n",
       "40                         5  "
      ]
     },
     "execution_count": 7,
     "metadata": {},
     "output_type": "execute_result"
    }
   ],
   "source": [
    "responses"
   ]
  }
 ],
 "metadata": {
  "kernelspec": {
   "display_name": ".venv",
   "language": "python",
   "name": "python3"
  },
  "language_info": {
   "codemirror_mode": {
    "name": "ipython",
    "version": 3
   },
   "file_extension": ".py",
   "mimetype": "text/x-python",
   "name": "python",
   "nbconvert_exporter": "python",
   "pygments_lexer": "ipython3",
   "version": "3.11.6"
  }
 },
 "nbformat": 4,
 "nbformat_minor": 5
}
