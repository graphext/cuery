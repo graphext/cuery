{
 "cells": [
  {
   "cell_type": "code",
   "execution_count": 4,
   "id": "78fa6b3e",
   "metadata": {},
   "outputs": [],
   "source": [
    "from enum import Enum\n",
    "\n",
    "import pandas as pd\n",
    "from cuery import Prompt, ResponseModel, Task, pprint\n",
    "from pydantic import Field"
   ]
  },
  {
   "cell_type": "markdown",
   "id": "310808de",
   "metadata": {},
   "source": [
    "# Create a prompt from simple string\n",
    "The `Prompt` class expects a list of (jinja) messages with their roles. But it can also be instantiated from a simple string."
   ]
  },
  {
   "cell_type": "code",
   "execution_count": 6,
   "id": "a5a7681c",
   "metadata": {},
   "outputs": [
    {
     "data": {
      "text/html": [
       "<pre style=\"white-space:pre;overflow-x:auto;line-height:normal;font-family:Menlo,'DejaVu Sans Mono',consolas,'Courier New',monospace\">╭──────────────────────────────────────────────────── Prompt ─────────────────────────────────────────────────────╮\n",
       "│                                                                                                                 │\n",
       "│  Required: <span style=\"font-weight: bold\">[</span><span style=\"color: #008000; text-decoration-color: #008000\">'name'</span>, <span style=\"color: #008000; text-decoration-color: #008000\">'ingredients'</span><span style=\"font-weight: bold\">]</span>                                                                              │\n",
       "│                                                                                                                 │\n",
       "│ ╭─────────────────────────────────────────────────── <span style=\"color: #008000; text-decoration-color: #008000; font-weight: bold\">USER</span> ────────────────────────────────────────────────────╮ │\n",
       "│ │ <span style=\"background-color: #f0f0f0\">                                                                                                           </span> │ │\n",
       "│ │ <span style=\"background-color: #f0f0f0\"> </span><span style=\"color: #000000; text-decoration-color: #000000; background-color: #f0f0f0\">Hello </span><span style=\"color: #007020; text-decoration-color: #007020; background-color: #f0f0f0\">{{</span><span style=\"color: #bb60d5; text-decoration-color: #bb60d5; background-color: #f0f0f0\">name</span><span style=\"color: #007020; text-decoration-color: #007020; background-color: #f0f0f0\">}}</span><span style=\"color: #000000; text-decoration-color: #000000; background-color: #f0f0f0\">! </span><span style=\"color: #007020; text-decoration-color: #007020; background-color: #f0f0f0\">{%</span><span style=\"color: #000000; text-decoration-color: #000000; background-color: #f0f0f0\"> </span><span style=\"color: #007020; text-decoration-color: #007020; background-color: #f0f0f0; font-weight: bold\">for</span><span style=\"color: #000000; text-decoration-color: #000000; background-color: #f0f0f0\"> </span><span style=\"color: #bb60d5; text-decoration-color: #bb60d5; background-color: #f0f0f0\">item</span><span style=\"color: #000000; text-decoration-color: #000000; background-color: #f0f0f0\"> </span><span style=\"color: #007020; text-decoration-color: #007020; background-color: #f0f0f0; font-weight: bold\">in</span><span style=\"color: #000000; text-decoration-color: #000000; background-color: #f0f0f0\"> </span><span style=\"color: #bb60d5; text-decoration-color: #bb60d5; background-color: #f0f0f0\">ingredients</span><span style=\"color: #000000; text-decoration-color: #000000; background-color: #f0f0f0\"> </span><span style=\"color: #007020; text-decoration-color: #007020; background-color: #f0f0f0\">%}</span><span style=\"color: #000000; text-decoration-color: #000000; background-color: #f0f0f0\"> </span><span style=\"color: #007020; text-decoration-color: #007020; background-color: #f0f0f0\">{{</span><span style=\"color: #000000; text-decoration-color: #000000; background-color: #f0f0f0\"> </span><span style=\"color: #bb60d5; text-decoration-color: #bb60d5; background-color: #f0f0f0\">item</span><span style=\"color: #000000; text-decoration-color: #000000; background-color: #f0f0f0\"> </span><span style=\"color: #007020; text-decoration-color: #007020; background-color: #f0f0f0\">}}</span><span style=\"color: #000000; text-decoration-color: #000000; background-color: #f0f0f0\"> </span><span style=\"color: #007020; text-decoration-color: #007020; background-color: #f0f0f0\">{%</span><span style=\"color: #000000; text-decoration-color: #000000; background-color: #f0f0f0\"> </span><span style=\"color: #007020; text-decoration-color: #007020; background-color: #f0f0f0; font-weight: bold\">endfor</span><span style=\"color: #000000; text-decoration-color: #000000; background-color: #f0f0f0\"> </span><span style=\"color: #007020; text-decoration-color: #007020; background-color: #f0f0f0\">%}</span><span style=\"background-color: #f0f0f0\">                                     </span> │ │\n",
       "│ │ <span style=\"background-color: #f0f0f0\">                                                                                                           </span> │ │\n",
       "│ ╰─────────────────────────────────────────────────────────────────────────────────────────────────────────────╯ │\n",
       "╰─────────────────────────────────────────────────────────────────────────────────────────────────────────────────╯\n",
       "</pre>\n"
      ],
      "text/plain": [
       "╭──────────────────────────────────────────────────── Prompt ─────────────────────────────────────────────────────╮\n",
       "│                                                                                                                 │\n",
       "│  Required: \u001b[1m[\u001b[0m\u001b[32m'name'\u001b[0m, \u001b[32m'ingredients'\u001b[0m\u001b[1m]\u001b[0m                                                                              │\n",
       "│                                                                                                                 │\n",
       "│ ╭─────────────────────────────────────────────────── \u001b[1;32mUSER\u001b[0m ────────────────────────────────────────────────────╮ │\n",
       "│ │ \u001b[48;2;240;240;240m                                                                                                           \u001b[0m │ │\n",
       "│ │ \u001b[48;2;240;240;240m \u001b[0m\u001b[38;2;0;0;0;48;2;240;240;240mHello \u001b[0m\u001b[38;2;0;112;32;48;2;240;240;240m{{\u001b[0m\u001b[38;2;187;96;213;48;2;240;240;240mname\u001b[0m\u001b[38;2;0;112;32;48;2;240;240;240m}}\u001b[0m\u001b[38;2;0;0;0;48;2;240;240;240m! \u001b[0m\u001b[38;2;0;112;32;48;2;240;240;240m{%\u001b[0m\u001b[38;2;0;0;0;48;2;240;240;240m \u001b[0m\u001b[1;38;2;0;112;32;48;2;240;240;240mfor\u001b[0m\u001b[38;2;0;0;0;48;2;240;240;240m \u001b[0m\u001b[38;2;187;96;213;48;2;240;240;240mitem\u001b[0m\u001b[38;2;0;0;0;48;2;240;240;240m \u001b[0m\u001b[1;38;2;0;112;32;48;2;240;240;240min\u001b[0m\u001b[38;2;0;0;0;48;2;240;240;240m \u001b[0m\u001b[38;2;187;96;213;48;2;240;240;240mingredients\u001b[0m\u001b[38;2;0;0;0;48;2;240;240;240m \u001b[0m\u001b[38;2;0;112;32;48;2;240;240;240m%}\u001b[0m\u001b[38;2;0;0;0;48;2;240;240;240m \u001b[0m\u001b[38;2;0;112;32;48;2;240;240;240m{{\u001b[0m\u001b[38;2;0;0;0;48;2;240;240;240m \u001b[0m\u001b[38;2;187;96;213;48;2;240;240;240mitem\u001b[0m\u001b[38;2;0;0;0;48;2;240;240;240m \u001b[0m\u001b[38;2;0;112;32;48;2;240;240;240m}}\u001b[0m\u001b[38;2;0;0;0;48;2;240;240;240m \u001b[0m\u001b[38;2;0;112;32;48;2;240;240;240m{%\u001b[0m\u001b[38;2;0;0;0;48;2;240;240;240m \u001b[0m\u001b[1;38;2;0;112;32;48;2;240;240;240mendfor\u001b[0m\u001b[38;2;0;0;0;48;2;240;240;240m \u001b[0m\u001b[38;2;0;112;32;48;2;240;240;240m%}\u001b[0m\u001b[48;2;240;240;240m                                    \u001b[0m\u001b[48;2;240;240;240m \u001b[0m │ │\n",
       "│ │ \u001b[48;2;240;240;240m                                                                                                           \u001b[0m │ │\n",
       "│ ╰─────────────────────────────────────────────────────────────────────────────────────────────────────────────╯ │\n",
       "╰─────────────────────────────────────────────────────────────────────────────────────────────────────────────────╯\n"
      ]
     },
     "metadata": {},
     "output_type": "display_data"
    }
   ],
   "source": [
    "t = \"Hello {{name}}! {% for item in ingredients %} {{ item }} {% endfor %}\"\n",
    "p = Prompt.from_string(t)\n",
    "pprint(p)"
   ]
  },
  {
   "cell_type": "markdown",
   "id": "a8e92fd9",
   "metadata": {},
   "source": [
    "# Choices (enum)\n",
    "Require LLM to respond with one of N _options_ (fixed categories)."
   ]
  },
  {
   "cell_type": "code",
   "execution_count": 7,
   "id": "34664d2e",
   "metadata": {},
   "outputs": [
    {
     "name": "stdout",
     "output_type": "stream",
     "text": [
      "[UserDetail(age=25, name='Alice', role=<Role.STUDENT: 'STUDENT'>)]\n"
     ]
    },
    {
     "data": {
      "application/vnd.microsoft.datawrangler.viewer.v0+json": {
       "columns": [
        {
         "name": "index",
         "rawType": "int64",
         "type": "integer"
        },
        {
         "name": "age",
         "rawType": "int64",
         "type": "integer"
        },
        {
         "name": "name",
         "rawType": "object",
         "type": "string"
        },
        {
         "name": "role",
         "rawType": "object",
         "type": "unknown"
        }
       ],
       "ref": "48fbf166-864c-4e85-8cee-f16761700f90",
       "rows": [
        [
         "0",
         "25",
         "Alice",
         "Role.STUDENT"
        ]
       ],
       "shape": {
        "columns": 3,
        "rows": 1
       }
      },
      "text/html": [
       "<div>\n",
       "<style scoped>\n",
       "    .dataframe tbody tr th:only-of-type {\n",
       "        vertical-align: middle;\n",
       "    }\n",
       "\n",
       "    .dataframe tbody tr th {\n",
       "        vertical-align: top;\n",
       "    }\n",
       "\n",
       "    .dataframe thead th {\n",
       "        text-align: right;\n",
       "    }\n",
       "</style>\n",
       "<table border=\"1\" class=\"dataframe\">\n",
       "  <thead>\n",
       "    <tr style=\"text-align: right;\">\n",
       "      <th></th>\n",
       "      <th>age</th>\n",
       "      <th>name</th>\n",
       "      <th>role</th>\n",
       "    </tr>\n",
       "  </thead>\n",
       "  <tbody>\n",
       "    <tr>\n",
       "      <th>0</th>\n",
       "      <td>25</td>\n",
       "      <td>Alice</td>\n",
       "      <td>Role.STUDENT</td>\n",
       "    </tr>\n",
       "  </tbody>\n",
       "</table>\n",
       "</div>"
      ],
      "text/plain": [
       "   age   name          role\n",
       "0   25  Alice  Role.STUDENT"
      ]
     },
     "execution_count": 7,
     "metadata": {},
     "output_type": "execute_result"
    }
   ],
   "source": [
    "class Role(Enum):\n",
    "    PRINCIPAL = \"PRINCIPAL\"\n",
    "    TEACHER = \"TEACHER\"\n",
    "    STUDENT = \"STUDENT\"\n",
    "    OTHER = \"OTHER\"\n",
    "\n",
    "\n",
    "class UserDetail(ResponseModel):\n",
    "    age: int\n",
    "    name: str\n",
    "    role: Role = Field(description=\"Correctly assign one of the predefined roles to the user.\")\n",
    "\n",
    "\n",
    "prompt = Prompt.from_string(\"Please a create a synthetic user profile with age, name and role.\")\n",
    "task = Task(\"user_profile\", prompt=prompt, response=UserDetail)\n",
    "\n",
    "response = await task()\n",
    "print(response)\n",
    "response.to_pandas()"
   ]
  },
  {
   "cell_type": "markdown",
   "id": "4183a07a",
   "metadata": {},
   "source": [
    "# Simple Multivalued fields\n",
    "Require LLM to respond with a _list_ of values (unconstrained)."
   ]
  },
  {
   "cell_type": "code",
   "execution_count": 9,
   "id": "f1bd481d",
   "metadata": {},
   "outputs": [
    {
     "data": {
      "application/vnd.jupyter.widget-view+json": {
       "model_id": "765b8fa4db444ab0a2044aff9c896db1",
       "version_major": 2,
       "version_minor": 0
      },
      "text/plain": [
       "Iterating context:   0%|          | 0/2 [00:00<?, ?it/s]"
      ]
     },
     "metadata": {},
     "output_type": "display_data"
    },
    {
     "name": "stdout",
     "output_type": "stream",
     "text": [
      "[Ingredients(items=['pasta', 'bolognese sauce', 'ground beef', 'onion', 'garlic', 'carrot', 'celery', 'tomato paste', 'red wine', 'beef broth', 'salt', 'pepper', 'olive oil', 'parmesan cheese']), Ingredients(items=['flour', 'sugar', 'cocoa powder', 'baking powder', 'baking soda', 'salt', 'eggs', 'milk', 'vegetable oil', 'vanilla extract', 'hot water'])]\n"
     ]
    }
   ],
   "source": [
    "class Ingredients(ResponseModel):\n",
    "    items: list[str] = Field(description=\"List of ingredients for the recipe.\")\n",
    "\n",
    "\n",
    "prompt = Prompt.from_string(\"List the ingredients for the following dish: {{dish}}.\")\n",
    "context = [{\"dish\": \"pasta bolognese\"}, {\"dish\": \"chocolate cake\"}]\n",
    "\n",
    "task = Task(\"dishes\", prompt=prompt, response=Ingredients)\n",
    "responses = await task(context=context)\n",
    "print(responses)"
   ]
  },
  {
   "cell_type": "code",
   "execution_count": 10,
   "id": "1be7b2c9",
   "metadata": {},
   "outputs": [
    {
     "data": {
      "application/vnd.microsoft.datawrangler.viewer.v0+json": {
       "columns": [
        {
         "name": "index",
         "rawType": "int64",
         "type": "integer"
        },
        {
         "name": "dish",
         "rawType": "object",
         "type": "string"
        },
        {
         "name": "items",
         "rawType": "object",
         "type": "unknown"
        }
       ],
       "ref": "69215c86-bf8e-42dd-8682-e8a6fc75ef32",
       "rows": [
        [
         "0",
         "pasta bolognese",
         "['pasta', 'bolognese sauce', 'ground beef', 'onion', 'garlic', 'carrot', 'celery', 'tomato paste', 'red wine', 'beef broth', 'salt', 'pepper', 'olive oil', 'parmesan cheese']"
        ],
        [
         "1",
         "chocolate cake",
         "['flour', 'sugar', 'cocoa powder', 'baking powder', 'baking soda', 'salt', 'eggs', 'milk', 'vegetable oil', 'vanilla extract', 'hot water']"
        ]
       ],
       "shape": {
        "columns": 2,
        "rows": 2
       }
      },
      "text/html": [
       "<div>\n",
       "<style scoped>\n",
       "    .dataframe tbody tr th:only-of-type {\n",
       "        vertical-align: middle;\n",
       "    }\n",
       "\n",
       "    .dataframe tbody tr th {\n",
       "        vertical-align: top;\n",
       "    }\n",
       "\n",
       "    .dataframe thead th {\n",
       "        text-align: right;\n",
       "    }\n",
       "</style>\n",
       "<table border=\"1\" class=\"dataframe\">\n",
       "  <thead>\n",
       "    <tr style=\"text-align: right;\">\n",
       "      <th></th>\n",
       "      <th>dish</th>\n",
       "      <th>items</th>\n",
       "    </tr>\n",
       "  </thead>\n",
       "  <tbody>\n",
       "    <tr>\n",
       "      <th>0</th>\n",
       "      <td>pasta bolognese</td>\n",
       "      <td>[pasta, bolognese sauce, ground beef, onion, g...</td>\n",
       "    </tr>\n",
       "    <tr>\n",
       "      <th>1</th>\n",
       "      <td>chocolate cake</td>\n",
       "      <td>[flour, sugar, cocoa powder, baking powder, ba...</td>\n",
       "    </tr>\n",
       "  </tbody>\n",
       "</table>\n",
       "</div>"
      ],
      "text/plain": [
       "              dish                                              items\n",
       "0  pasta bolognese  [pasta, bolognese sauce, ground beef, onion, g...\n",
       "1   chocolate cake  [flour, sugar, cocoa powder, baking powder, ba..."
      ]
     },
     "execution_count": 10,
     "metadata": {},
     "output_type": "execute_result"
    }
   ],
   "source": [
    "# Maintain the original structure of the responses\n",
    "responses.to_pandas(explode=False)"
   ]
  },
  {
   "cell_type": "code",
   "execution_count": null,
   "id": "f39652a1",
   "metadata": {},
   "outputs": [
    {
     "data": {
      "application/vnd.microsoft.datawrangler.viewer.v0+json": {
       "columns": [
        {
         "name": "index",
         "rawType": "int64",
         "type": "integer"
        },
        {
         "name": "dish",
         "rawType": "object",
         "type": "string"
        },
        {
         "name": "items",
         "rawType": "object",
         "type": "string"
        }
       ],
       "ref": "e4fde9ef-7bcb-41e6-912d-e3481a2dc394",
       "rows": [
        [
         "0",
         "pasta bolognese",
         "pasta"
        ],
        [
         "1",
         "pasta bolognese",
         "bolognese sauce"
        ],
        [
         "2",
         "pasta bolognese",
         "ground beef"
        ],
        [
         "3",
         "pasta bolognese",
         "onion"
        ],
        [
         "4",
         "pasta bolognese",
         "garlic"
        ],
        [
         "5",
         "pasta bolognese",
         "carrot"
        ],
        [
         "6",
         "pasta bolognese",
         "celery"
        ],
        [
         "7",
         "pasta bolognese",
         "red wine"
        ],
        [
         "8",
         "pasta bolognese",
         "tomato paste"
        ],
        [
         "9",
         "pasta bolognese",
         "beef broth"
        ],
        [
         "10",
         "pasta bolognese",
         "salt"
        ],
        [
         "11",
         "pasta bolognese",
         "pepper"
        ],
        [
         "12",
         "pasta bolognese",
         "olive oil"
        ],
        [
         "13",
         "pasta bolognese",
         "parmesan cheese"
        ],
        [
         "14",
         "chocolate cake",
         "flour"
        ],
        [
         "15",
         "chocolate cake",
         "cocoa powder"
        ],
        [
         "16",
         "chocolate cake",
         "sugar"
        ],
        [
         "17",
         "chocolate cake",
         "eggs"
        ],
        [
         "18",
         "chocolate cake",
         "butter"
        ],
        [
         "19",
         "chocolate cake",
         "baking soda"
        ],
        [
         "20",
         "chocolate cake",
         "baking powder"
        ],
        [
         "21",
         "chocolate cake",
         "salt"
        ],
        [
         "22",
         "chocolate cake",
         "vanilla extract"
        ],
        [
         "23",
         "chocolate cake",
         "milk"
        ],
        [
         "24",
         "chocolate cake",
         "hot water"
        ]
       ],
       "shape": {
        "columns": 2,
        "rows": 25
       }
      },
      "text/html": [
       "<div>\n",
       "<style scoped>\n",
       "    .dataframe tbody tr th:only-of-type {\n",
       "        vertical-align: middle;\n",
       "    }\n",
       "\n",
       "    .dataframe tbody tr th {\n",
       "        vertical-align: top;\n",
       "    }\n",
       "\n",
       "    .dataframe thead th {\n",
       "        text-align: right;\n",
       "    }\n",
       "</style>\n",
       "<table border=\"1\" class=\"dataframe\">\n",
       "  <thead>\n",
       "    <tr style=\"text-align: right;\">\n",
       "      <th></th>\n",
       "      <th>dish</th>\n",
       "      <th>items</th>\n",
       "    </tr>\n",
       "  </thead>\n",
       "  <tbody>\n",
       "    <tr>\n",
       "      <th>0</th>\n",
       "      <td>pasta bolognese</td>\n",
       "      <td>pasta</td>\n",
       "    </tr>\n",
       "    <tr>\n",
       "      <th>1</th>\n",
       "      <td>pasta bolognese</td>\n",
       "      <td>bolognese sauce</td>\n",
       "    </tr>\n",
       "    <tr>\n",
       "      <th>2</th>\n",
       "      <td>pasta bolognese</td>\n",
       "      <td>ground beef</td>\n",
       "    </tr>\n",
       "    <tr>\n",
       "      <th>3</th>\n",
       "      <td>pasta bolognese</td>\n",
       "      <td>onion</td>\n",
       "    </tr>\n",
       "    <tr>\n",
       "      <th>4</th>\n",
       "      <td>pasta bolognese</td>\n",
       "      <td>garlic</td>\n",
       "    </tr>\n",
       "    <tr>\n",
       "      <th>5</th>\n",
       "      <td>pasta bolognese</td>\n",
       "      <td>carrot</td>\n",
       "    </tr>\n",
       "    <tr>\n",
       "      <th>6</th>\n",
       "      <td>pasta bolognese</td>\n",
       "      <td>celery</td>\n",
       "    </tr>\n",
       "    <tr>\n",
       "      <th>7</th>\n",
       "      <td>pasta bolognese</td>\n",
       "      <td>red wine</td>\n",
       "    </tr>\n",
       "    <tr>\n",
       "      <th>8</th>\n",
       "      <td>pasta bolognese</td>\n",
       "      <td>tomato paste</td>\n",
       "    </tr>\n",
       "    <tr>\n",
       "      <th>9</th>\n",
       "      <td>pasta bolognese</td>\n",
       "      <td>beef broth</td>\n",
       "    </tr>\n",
       "    <tr>\n",
       "      <th>10</th>\n",
       "      <td>pasta bolognese</td>\n",
       "      <td>salt</td>\n",
       "    </tr>\n",
       "    <tr>\n",
       "      <th>11</th>\n",
       "      <td>pasta bolognese</td>\n",
       "      <td>pepper</td>\n",
       "    </tr>\n",
       "    <tr>\n",
       "      <th>12</th>\n",
       "      <td>pasta bolognese</td>\n",
       "      <td>olive oil</td>\n",
       "    </tr>\n",
       "    <tr>\n",
       "      <th>13</th>\n",
       "      <td>pasta bolognese</td>\n",
       "      <td>parmesan cheese</td>\n",
       "    </tr>\n",
       "    <tr>\n",
       "      <th>14</th>\n",
       "      <td>chocolate cake</td>\n",
       "      <td>flour</td>\n",
       "    </tr>\n",
       "    <tr>\n",
       "      <th>15</th>\n",
       "      <td>chocolate cake</td>\n",
       "      <td>cocoa powder</td>\n",
       "    </tr>\n",
       "    <tr>\n",
       "      <th>16</th>\n",
       "      <td>chocolate cake</td>\n",
       "      <td>sugar</td>\n",
       "    </tr>\n",
       "    <tr>\n",
       "      <th>17</th>\n",
       "      <td>chocolate cake</td>\n",
       "      <td>eggs</td>\n",
       "    </tr>\n",
       "    <tr>\n",
       "      <th>18</th>\n",
       "      <td>chocolate cake</td>\n",
       "      <td>butter</td>\n",
       "    </tr>\n",
       "    <tr>\n",
       "      <th>19</th>\n",
       "      <td>chocolate cake</td>\n",
       "      <td>baking soda</td>\n",
       "    </tr>\n",
       "    <tr>\n",
       "      <th>20</th>\n",
       "      <td>chocolate cake</td>\n",
       "      <td>baking powder</td>\n",
       "    </tr>\n",
       "    <tr>\n",
       "      <th>21</th>\n",
       "      <td>chocolate cake</td>\n",
       "      <td>salt</td>\n",
       "    </tr>\n",
       "    <tr>\n",
       "      <th>22</th>\n",
       "      <td>chocolate cake</td>\n",
       "      <td>vanilla extract</td>\n",
       "    </tr>\n",
       "    <tr>\n",
       "      <th>23</th>\n",
       "      <td>chocolate cake</td>\n",
       "      <td>milk</td>\n",
       "    </tr>\n",
       "    <tr>\n",
       "      <th>24</th>\n",
       "      <td>chocolate cake</td>\n",
       "      <td>hot water</td>\n",
       "    </tr>\n",
       "  </tbody>\n",
       "</table>\n",
       "</div>"
      ],
      "text/plain": [
       "               dish            items\n",
       "0   pasta bolognese            pasta\n",
       "1   pasta bolognese  bolognese sauce\n",
       "2   pasta bolognese      ground beef\n",
       "3   pasta bolognese            onion\n",
       "4   pasta bolognese           garlic\n",
       "5   pasta bolognese           carrot\n",
       "6   pasta bolognese           celery\n",
       "7   pasta bolognese         red wine\n",
       "8   pasta bolognese     tomato paste\n",
       "9   pasta bolognese       beef broth\n",
       "10  pasta bolognese             salt\n",
       "11  pasta bolognese           pepper\n",
       "12  pasta bolognese        olive oil\n",
       "13  pasta bolognese  parmesan cheese\n",
       "14   chocolate cake            flour\n",
       "15   chocolate cake     cocoa powder\n",
       "16   chocolate cake            sugar\n",
       "17   chocolate cake             eggs\n",
       "18   chocolate cake           butter\n",
       "19   chocolate cake      baking soda\n",
       "20   chocolate cake    baking powder\n",
       "21   chocolate cake             salt\n",
       "22   chocolate cake  vanilla extract\n",
       "23   chocolate cake             milk\n",
       "24   chocolate cake        hot water"
      ]
     },
     "execution_count": 6,
     "metadata": {},
     "output_type": "execute_result"
    }
   ],
   "source": [
    "# Explode the list of ingredients into separate rows\n",
    "responses.to_pandas(explode=True)"
   ]
  },
  {
   "cell_type": "code",
   "execution_count": 11,
   "id": "b227e9e4",
   "metadata": {},
   "outputs": [
    {
     "data": {
      "text/plain": [
       "[{'dish': 'pasta bolognese',\n",
       "  'items': ['pasta',\n",
       "   'bolognese sauce',\n",
       "   'ground beef',\n",
       "   'onion',\n",
       "   'garlic',\n",
       "   'carrot',\n",
       "   'celery',\n",
       "   'tomato paste',\n",
       "   'red wine',\n",
       "   'beef broth',\n",
       "   'salt',\n",
       "   'pepper',\n",
       "   'olive oil',\n",
       "   'parmesan cheese']},\n",
       " {'dish': 'chocolate cake',\n",
       "  'items': ['flour',\n",
       "   'sugar',\n",
       "   'cocoa powder',\n",
       "   'baking powder',\n",
       "   'baking soda',\n",
       "   'salt',\n",
       "   'eggs',\n",
       "   'milk',\n",
       "   'vegetable oil',\n",
       "   'vanilla extract',\n",
       "   'hot water']}]"
      ]
     },
     "execution_count": 11,
     "metadata": {},
     "output_type": "execute_result"
    }
   ],
   "source": [
    "# Convert to simple python records\n",
    "responses.to_records(explode=False)"
   ]
  },
  {
   "cell_type": "markdown",
   "id": "dcb90a17",
   "metadata": {},
   "source": [
    "# Nested models\n",
    "Define a more complicated output structure by referencing another response model. \n",
    "\n",
    "In this case a list of certain length containing instances of pre-defined response model."
   ]
  },
  {
   "cell_type": "code",
   "execution_count": 12,
   "id": "a63e711a",
   "metadata": {},
   "outputs": [
    {
     "data": {
      "application/vnd.jupyter.widget-view+json": {
       "model_id": "66f98f29cafe4f6fb89644e2acebeffb",
       "version_major": 2,
       "version_minor": 0
      },
      "text/plain": [
       "Iterating context:   0%|          | 0/3 [00:00<?, ?it/s]"
      ]
     },
     "metadata": {},
     "output_type": "display_data"
    }
   ],
   "source": [
    "class Sector(ResponseModel):\n",
    "    sector: str = Field(\n",
    "        description=\"Human-readable title(!) of the industrical sector (in NAICS taxonomy)\",\n",
    "        min_length=10,\n",
    "        max_length=150,\n",
    "    )\n",
    "    subsector: str = Field(\n",
    "        description=\"Human-readable title(!) of the industrial SUBsector (in NAICS taxonomy)\",\n",
    "        min_length=5,\n",
    "        max_length=150,\n",
    "    )\n",
    "    sector_automation_potential: int = Field(\n",
    "        description=\"A score from 1 to 10 indicating the sector's potential for automation\",\n",
    "        ge=0,\n",
    "        le=10,\n",
    "    )\n",
    "\n",
    "\n",
    "class Sectors(ResponseModel):\n",
    "    sectors: list[Sector] = Field(\n",
    "        description=\"A list of 1 to 5 NAIC industrial sectors with their AI automation potential\",\n",
    "        min_length=1,\n",
    "        max_length=5,\n",
    "    )\n",
    "\n",
    "\n",
    "sectors_prompt = Prompt.from_string(\n",
    "    \"List some industrial sector in the country of {{country}} that have great AI automation potential.\"\n",
    ")\n",
    "\n",
    "context = [{\"country\": \"Germany\"}, {\"country\": \"United States\"}, {\"country\": \"Japan\"}]\n",
    "sectors_task = Task(\"sectors\", prompt=sectors_prompt, response=Sectors)\n",
    "responses = await sectors_task(context=context)"
   ]
  },
  {
   "cell_type": "code",
   "execution_count": 4,
   "id": "7b86febf",
   "metadata": {},
   "outputs": [
    {
     "data": {
      "application/vnd.microsoft.datawrangler.viewer.v0+json": {
       "columns": [
        {
         "name": "index",
         "rawType": "int64",
         "type": "integer"
        },
        {
         "name": "country",
         "rawType": "object",
         "type": "string"
        },
        {
         "name": "sector",
         "rawType": "object",
         "type": "string"
        },
        {
         "name": "subsector",
         "rawType": "object",
         "type": "string"
        },
        {
         "name": "sector_automation_potential",
         "rawType": "int64",
         "type": "integer"
        }
       ],
       "ref": "ce1c0eae-5d2e-4021-b104-0d815fd145ad",
       "rows": [
        [
         "0",
         "Germany",
         "Manufacturing",
         "Automobile Manufacturing",
         "8"
        ],
        [
         "1",
         "Germany",
         "Healthcare",
         "Medical Devices",
         "7"
        ],
        [
         "2",
         "Germany",
         "Information Technology",
         "Software Development",
         "9"
        ],
        [
         "3",
         "United States",
         "Manufacturing",
         "Aerospace Product and Parts Manufacturing",
         "8"
        ],
        [
         "4",
         "United States",
         "Health Care",
         "Medical Laboratories",
         "9"
        ],
        [
         "5",
         "United States",
         "Finance and Insurance",
         "Securities, Commodity Contracts, and Other Financial Investments and Related Activities",
         "7"
        ],
        [
         "6",
         "Japan",
         "Manufacturing",
         "Automotive Manufacturing",
         "8"
        ],
        [
         "7",
         "Japan",
         "Technology",
         "Electronics Manufacturing",
         "9"
        ],
        [
         "8",
         "Japan",
         "Healthcare",
         "Medical Devices",
         "7"
        ],
        [
         "9",
         "Japan",
         "Information Technology",
         "Software Development",
         "8"
        ],
        [
         "10",
         "Japan",
         "Financial Services",
         "Fintech",
         "8"
        ]
       ],
       "shape": {
        "columns": 4,
        "rows": 11
       }
      },
      "text/html": [
       "<div>\n",
       "<style scoped>\n",
       "    .dataframe tbody tr th:only-of-type {\n",
       "        vertical-align: middle;\n",
       "    }\n",
       "\n",
       "    .dataframe tbody tr th {\n",
       "        vertical-align: top;\n",
       "    }\n",
       "\n",
       "    .dataframe thead th {\n",
       "        text-align: right;\n",
       "    }\n",
       "</style>\n",
       "<table border=\"1\" class=\"dataframe\">\n",
       "  <thead>\n",
       "    <tr style=\"text-align: right;\">\n",
       "      <th></th>\n",
       "      <th>country</th>\n",
       "      <th>sector</th>\n",
       "      <th>subsector</th>\n",
       "      <th>sector_automation_potential</th>\n",
       "    </tr>\n",
       "  </thead>\n",
       "  <tbody>\n",
       "    <tr>\n",
       "      <th>0</th>\n",
       "      <td>Germany</td>\n",
       "      <td>Manufacturing</td>\n",
       "      <td>Automobile Manufacturing</td>\n",
       "      <td>8</td>\n",
       "    </tr>\n",
       "    <tr>\n",
       "      <th>1</th>\n",
       "      <td>Germany</td>\n",
       "      <td>Healthcare</td>\n",
       "      <td>Medical Devices</td>\n",
       "      <td>7</td>\n",
       "    </tr>\n",
       "    <tr>\n",
       "      <th>2</th>\n",
       "      <td>Germany</td>\n",
       "      <td>Information Technology</td>\n",
       "      <td>Software Development</td>\n",
       "      <td>9</td>\n",
       "    </tr>\n",
       "    <tr>\n",
       "      <th>3</th>\n",
       "      <td>United States</td>\n",
       "      <td>Manufacturing</td>\n",
       "      <td>Aerospace Product and Parts Manufacturing</td>\n",
       "      <td>8</td>\n",
       "    </tr>\n",
       "    <tr>\n",
       "      <th>4</th>\n",
       "      <td>United States</td>\n",
       "      <td>Health Care</td>\n",
       "      <td>Medical Laboratories</td>\n",
       "      <td>9</td>\n",
       "    </tr>\n",
       "    <tr>\n",
       "      <th>5</th>\n",
       "      <td>United States</td>\n",
       "      <td>Finance and Insurance</td>\n",
       "      <td>Securities, Commodity Contracts, and Other Fin...</td>\n",
       "      <td>7</td>\n",
       "    </tr>\n",
       "    <tr>\n",
       "      <th>6</th>\n",
       "      <td>Japan</td>\n",
       "      <td>Manufacturing</td>\n",
       "      <td>Automotive Manufacturing</td>\n",
       "      <td>8</td>\n",
       "    </tr>\n",
       "    <tr>\n",
       "      <th>7</th>\n",
       "      <td>Japan</td>\n",
       "      <td>Technology</td>\n",
       "      <td>Electronics Manufacturing</td>\n",
       "      <td>9</td>\n",
       "    </tr>\n",
       "    <tr>\n",
       "      <th>8</th>\n",
       "      <td>Japan</td>\n",
       "      <td>Healthcare</td>\n",
       "      <td>Medical Devices</td>\n",
       "      <td>7</td>\n",
       "    </tr>\n",
       "    <tr>\n",
       "      <th>9</th>\n",
       "      <td>Japan</td>\n",
       "      <td>Information Technology</td>\n",
       "      <td>Software Development</td>\n",
       "      <td>8</td>\n",
       "    </tr>\n",
       "    <tr>\n",
       "      <th>10</th>\n",
       "      <td>Japan</td>\n",
       "      <td>Financial Services</td>\n",
       "      <td>Fintech</td>\n",
       "      <td>8</td>\n",
       "    </tr>\n",
       "  </tbody>\n",
       "</table>\n",
       "</div>"
      ],
      "text/plain": [
       "          country                  sector  \\\n",
       "0         Germany           Manufacturing   \n",
       "1         Germany              Healthcare   \n",
       "2         Germany  Information Technology   \n",
       "3   United States           Manufacturing   \n",
       "4   United States             Health Care   \n",
       "5   United States   Finance and Insurance   \n",
       "6           Japan           Manufacturing   \n",
       "7           Japan              Technology   \n",
       "8           Japan              Healthcare   \n",
       "9           Japan  Information Technology   \n",
       "10          Japan      Financial Services   \n",
       "\n",
       "                                            subsector  \\\n",
       "0                            Automobile Manufacturing   \n",
       "1                                     Medical Devices   \n",
       "2                                Software Development   \n",
       "3           Aerospace Product and Parts Manufacturing   \n",
       "4                                Medical Laboratories   \n",
       "5   Securities, Commodity Contracts, and Other Fin...   \n",
       "6                            Automotive Manufacturing   \n",
       "7                           Electronics Manufacturing   \n",
       "8                                     Medical Devices   \n",
       "9                                Software Development   \n",
       "10                                            Fintech   \n",
       "\n",
       "    sector_automation_potential  \n",
       "0                             8  \n",
       "1                             7  \n",
       "2                             9  \n",
       "3                             8  \n",
       "4                             9  \n",
       "5                             7  \n",
       "6                             8  \n",
       "7                             9  \n",
       "8                             7  \n",
       "9                             8  \n",
       "10                            8  "
      ]
     },
     "execution_count": 4,
     "metadata": {},
     "output_type": "execute_result"
    }
   ],
   "source": [
    "responses.to_pandas(explode=True)"
   ]
  },
  {
   "cell_type": "markdown",
   "id": "2074200d",
   "metadata": {},
   "source": [
    "# Chain tasks together\n",
    "Run multiple tasks one after the other, collecting the results in a single DataFrame.\n",
    "\n",
    "Keep in mind here that the names of inputs of one task must be the same as the names of outputs in the previous one.\n",
    "\n",
    "Here we extract first some industrial sectors for each input country, and then some job roles within each sector."
   ]
  },
  {
   "cell_type": "code",
   "execution_count": 13,
   "id": "a3773406",
   "metadata": {},
   "outputs": [
    {
     "data": {
      "text/html": [
       "<pre style=\"white-space:pre;overflow-x:auto;line-height:normal;font-family:Menlo,'DejaVu Sans Mono',consolas,'Courier New',monospace\"><span style=\"color: #7fbfbf; text-decoration-color: #7fbfbf\">[05/30/25 12:51:31] </span><span style=\"color: #000080; text-decoration-color: #000080\">INFO    </span> <span style=\"font-weight: bold\">[</span><span style=\"color: #008080; text-decoration-color: #008080; font-weight: bold\">1</span>/<span style=\"color: #008080; text-decoration-color: #008080; font-weight: bold\">2</span><span style=\"font-weight: bold\">]</span> Running task <span style=\"color: #008000; text-decoration-color: #008000\">'Sectors'</span>                                               <a href=\"file:///Users/thomas/code/cuery/src/cuery/task.py\" target=\"_blank\"><span style=\"color: #7f7f7f; text-decoration-color: #7f7f7f\">task.py</span></a><span style=\"color: #7f7f7f; text-decoration-color: #7f7f7f\">:</span><a href=\"file:///Users/thomas/code/cuery/src/cuery/task.py#189\" target=\"_blank\"><span style=\"color: #7f7f7f; text-decoration-color: #7f7f7f\">189</span></a>\n",
       "</pre>\n"
      ],
      "text/plain": [
       "\u001b[2;36m[05/30/25 12:51:31]\u001b[0m\u001b[2;36m \u001b[0m\u001b[34mINFO    \u001b[0m \u001b[1m[\u001b[0m\u001b[1;36m1\u001b[0m/\u001b[1;36m2\u001b[0m\u001b[1m]\u001b[0m Running task \u001b[32m'Sectors'\u001b[0m                                               \u001b]8;id=143665;file:///Users/thomas/code/cuery/src/cuery/task.py\u001b\\\u001b[2mtask.py\u001b[0m\u001b]8;;\u001b\\\u001b[2m:\u001b[0m\u001b]8;id=766548;file:///Users/thomas/code/cuery/src/cuery/task.py#189\u001b\\\u001b[2m189\u001b[0m\u001b]8;;\u001b\\\n"
      ]
     },
     "metadata": {},
     "output_type": "display_data"
    },
    {
     "data": {
      "application/vnd.jupyter.widget-view+json": {
       "model_id": "2e45cc67f36a4ceb8b92d1bb883f4fb6",
       "version_major": 2,
       "version_minor": 0
      },
      "text/plain": [
       "Iterating context:   0%|          | 0/3 [00:00<?, ?it/s]"
      ]
     },
     "metadata": {},
     "output_type": "display_data"
    },
    {
     "data": {
      "text/html": [
       "<pre style=\"white-space:pre;overflow-x:auto;line-height:normal;font-family:Menlo,'DejaVu Sans Mono',consolas,'Courier New',monospace\"><span style=\"color: #7fbfbf; text-decoration-color: #7fbfbf\">[05/30/25 12:51:35] </span><span style=\"color: #808000; text-decoration-color: #808000\">WARNING </span> Encountered: <span style=\"color: #008080; text-decoration-color: #008080; font-weight: bold\">1</span> response parsing errors!                                    <a href=\"file:///Users/thomas/code/cuery/src/cuery/task.py\" target=\"_blank\"><span style=\"color: #7f7f7f; text-decoration-color: #7f7f7f\">task.py</span></a><span style=\"color: #7f7f7f; text-decoration-color: #7f7f7f\">:</span><a href=\"file:///Users/thomas/code/cuery/src/cuery/task.py#105\" target=\"_blank\"><span style=\"color: #7f7f7f; text-decoration-color: #7f7f7f\">105</span></a>\n",
       "</pre>\n"
      ],
      "text/plain": [
       "\u001b[2;36m[05/30/25 12:51:35]\u001b[0m\u001b[2;36m \u001b[0m\u001b[33mWARNING \u001b[0m Encountered: \u001b[1;36m1\u001b[0m response parsing errors!                                    \u001b]8;id=743213;file:///Users/thomas/code/cuery/src/cuery/task.py\u001b\\\u001b[2mtask.py\u001b[0m\u001b]8;;\u001b\\\u001b[2m:\u001b[0m\u001b]8;id=492630;file:///Users/thomas/code/cuery/src/cuery/task.py#105\u001b\\\u001b[2m105\u001b[0m\u001b]8;;\u001b\\\n"
      ]
     },
     "metadata": {},
     "output_type": "display_data"
    },
    {
     "data": {
      "text/html": [
       "<pre style=\"white-space:pre;overflow-x:auto;line-height:normal;font-family:Menlo,'DejaVu Sans Mono',consolas,'Courier New',monospace\"><span style=\"color: #7fbfbf; text-decoration-color: #7fbfbf\">                    </span><span style=\"color: #000080; text-decoration-color: #000080\">INFO    </span> <span style=\"font-weight: bold\">[</span><span style=\"color: #008080; text-decoration-color: #008080; font-weight: bold\">2</span>/<span style=\"color: #008080; text-decoration-color: #008080; font-weight: bold\">2</span><span style=\"font-weight: bold\">]</span> Running task <span style=\"color: #008000; text-decoration-color: #008000\">'Jobs'</span>                                                  <a href=\"file:///Users/thomas/code/cuery/src/cuery/task.py\" target=\"_blank\"><span style=\"color: #7f7f7f; text-decoration-color: #7f7f7f\">task.py</span></a><span style=\"color: #7f7f7f; text-decoration-color: #7f7f7f\">:</span><a href=\"file:///Users/thomas/code/cuery/src/cuery/task.py#189\" target=\"_blank\"><span style=\"color: #7f7f7f; text-decoration-color: #7f7f7f\">189</span></a>\n",
       "</pre>\n"
      ],
      "text/plain": [
       "\u001b[2;36m                   \u001b[0m\u001b[2;36m \u001b[0m\u001b[34mINFO    \u001b[0m \u001b[1m[\u001b[0m\u001b[1;36m2\u001b[0m/\u001b[1;36m2\u001b[0m\u001b[1m]\u001b[0m Running task \u001b[32m'Jobs'\u001b[0m                                                  \u001b]8;id=327015;file:///Users/thomas/code/cuery/src/cuery/task.py\u001b\\\u001b[2mtask.py\u001b[0m\u001b]8;;\u001b\\\u001b[2m:\u001b[0m\u001b]8;id=738668;file:///Users/thomas/code/cuery/src/cuery/task.py#189\u001b\\\u001b[2m189\u001b[0m\u001b]8;;\u001b\\\n"
      ]
     },
     "metadata": {},
     "output_type": "display_data"
    },
    {
     "data": {
      "application/vnd.jupyter.widget-view+json": {
       "model_id": "ef37894157f548c2bcf597f6ff25550c",
       "version_major": 2,
       "version_minor": 0
      },
      "text/plain": [
       "Iterating context:   0%|          | 0/9 [00:00<?, ?it/s]"
      ]
     },
     "metadata": {},
     "output_type": "display_data"
    }
   ],
   "source": [
    "# Re-uses \"sectors\" task from previous code cell (!)\n",
    "\n",
    "from cuery import Chain\n",
    "\n",
    "\n",
    "class Job(ResponseModel):\n",
    "    job_role: str = Field(description=\"Name of the job role (job title, less than 50 characters)\")\n",
    "    job_description: str = Field(\n",
    "        description=\"A short description of the job role (less than 200 characters)\"\n",
    "    )\n",
    "    job_automation_potential: int = Field(\n",
    "        description=\"A score from 1 to 10 indicating the job's potential for automation\",\n",
    "        ge=0,\n",
    "        le=10,\n",
    "    )\n",
    "\n",
    "\n",
    "class Jobs(ResponseModel):\n",
    "    jobs: list[Job] = Field(\n",
    "        description=(\n",
    "            \"A list of jobs with their AI automation potential and reasons for that potential\"\n",
    "        ),\n",
    "    )\n",
    "\n",
    "\n",
    "jobs_prompt = Prompt.from_string(\n",
    "    \"List some job roles with great AI automation potential in the country of {{country}} and the sector '{{sector}}'\"\n",
    ")\n",
    "\n",
    "context = pd.DataFrame(\n",
    "    {\n",
    "        \"country\": [\"Germany\", \"United States\", \"Japan\"],\n",
    "        \"PIB\": [4.0, 5.0, 3.5],\n",
    "    }\n",
    ")\n",
    "\n",
    "jobs_task = Task(\"jobs\", prompt=jobs_prompt, response=Jobs)\n",
    "chain = Chain(sectors_task, jobs_task)\n",
    "responses = await chain(context=context)"
   ]
  },
  {
   "cell_type": "code",
   "execution_count": 14,
   "id": "09ba0a65",
   "metadata": {},
   "outputs": [
    {
     "data": {
      "application/vnd.microsoft.datawrangler.viewer.v0+json": {
       "columns": [
        {
         "name": "index",
         "rawType": "int64",
         "type": "integer"
        },
        {
         "name": "country",
         "rawType": "object",
         "type": "string"
        },
        {
         "name": "sector",
         "rawType": "object",
         "type": "string"
        },
        {
         "name": "job_role",
         "rawType": "object",
         "type": "string"
        },
        {
         "name": "job_description",
         "rawType": "object",
         "type": "string"
        },
        {
         "name": "job_automation_potential",
         "rawType": "int64",
         "type": "integer"
        }
       ],
       "ref": "1c868cc4-d63e-43b7-9266-57c80051c144",
       "rows": [
        [
         "0",
         "Germany",
         "Manufacturing",
         "Automation Engineer",
         "Responsible for designing, programming, and maintaining automated systems in manufacturing plants",
         "9"
        ],
        [
         "1",
         "Germany",
         "Manufacturing",
         "Robotics Technician",
         "Specialist in installing, maintaining, and troubleshooting robotic systems in manufacturing facilities",
         "8"
        ],
        [
         "2",
         "Germany",
         "Manufacturing",
         "Quality Control Inspector",
         "Ensures products meet quality standards through manual and automated inspection processes",
         "7"
        ],
        [
         "3",
         "Germany",
         "Manufacturing",
         "Data Analyst",
         "Analyzes manufacturing data to optimize processes and improve efficiency using AI tools",
         "8"
        ],
        [
         "4",
         "Germany",
         "Healthcare",
         "Clinical Data Analyst",
         "Analyzing and interpreting complex healthcare data for decision-making",
         "7"
        ],
        [
         "5",
         "Germany",
         "Healthcare",
         "Healthcare Robotics Engineer",
         "Designing and developing robotic systems for healthcare applications",
         "8"
        ],
        [
         "6",
         "Germany",
         "Healthcare",
         "Medical Research Scientist",
         "Conducting research to improve medical treatments and patient care",
         "6"
        ],
        [
         "7",
         "Germany",
         "Healthcare",
         "Health Informatics Specialist",
         "Managing and analyzing healthcare data to improve systems and patient outcomes",
         "8"
        ],
        [
         "8",
         "Germany",
         "Healthcare",
         "Nurse Practitioner",
         "Providing advanced nursing care and treatment to patients",
         "4"
        ],
        [
         "9",
         "Germany",
         "Finance and Insurance",
         "Data Analyst",
         "Analyzing and interpreting complex data sets to provide business insights",
         "8"
        ],
        [
         "10",
         "Germany",
         "Finance and Insurance",
         "Actuary",
         "Assessing financial risks and uncertainties using advanced statistical models",
         "7"
        ],
        [
         "11",
         "Germany",
         "Finance and Insurance",
         "Risk Manager",
         "Identifying and managing potential risks to the business and financial assets",
         "6"
        ],
        [
         "12",
         "Germany",
         "Finance and Insurance",
         "Financial Analyst",
         "Examining financial data and trends to provide recommendations for investments",
         "7"
        ],
        [
         "13",
         "Germany",
         "Finance and Insurance",
         "Underwriter",
         "Assessing insurance applications and determining coverage and premiums",
         "6"
        ],
        [
         "14",
         "United States",
         "Manufacturing",
         "Industrial Engineer",
         "Responsible for finding ways to eliminate wastefulness in production processes",
         "8"
        ],
        [
         "15",
         "United States",
         "Manufacturing",
         "Robotics Technician",
         "Maintains and repairs automated machinery and robotics systems",
         "9"
        ],
        [
         "16",
         "United States",
         "Manufacturing",
         "Quality Control Inspector",
         "Responsible for ensuring products meet quality standards through inspections",
         "7"
        ],
        [
         "17",
         "United States",
         "Manufacturing",
         "Production Planner",
         "Plans and coordinates production schedules to meet customer demands",
         "6"
        ],
        [
         "18",
         "United States",
         "Manufacturing",
         "Supply Chain Analyst",
         "Manages and optimizes the flow of materials and information in the supply chain",
         "8"
        ],
        [
         "19",
         "United States",
         "Healthcare",
         "Medical Records Technician",
         "Maintains and organizes medical records and health information data",
         "8"
        ],
        [
         "20",
         "United States",
         "Healthcare",
         "Medical Transcriptionist",
         "Converts voice-recorded reports into written transcripts",
         "7"
        ],
        [
         "21",
         "United States",
         "Healthcare",
         "Radiologic Technologist",
         "Performs diagnostic imaging examinations like x-rays and MRIs",
         "6"
        ],
        [
         "22",
         "United States",
         "Food Services",
         "Restaurant Cashier",
         "Manage transactions and greet customers",
         "8"
        ],
        [
         "23",
         "United States",
         "Food Services",
         "Food Preparation Worker",
         "Prepare ingredients and assist in cooking",
         "7"
        ],
        [
         "24",
         "United States",
         "Food Services",
         "Dishwasher",
         "Clean dishes and kitchen utensils",
         "6"
        ],
        [
         "25",
         "United States",
         "Food Services",
         "Food Delivery Driver",
         "Deliver food orders to customers",
         "5"
        ],
        [
         "26",
         "United States",
         "Food Services",
         "Fast Food Worker",
         "Take orders and serve customers quickly",
         "7"
        ],
        [
         "27",
         "Japan",
         "Manufacturing",
         "Robotics Engineer",
         "Design and develop robotic systems for manufacturing processes",
         "9"
        ],
        [
         "28",
         "Japan",
         "Manufacturing",
         "Quality Control Inspector",
         "Inspect products for defects using automated systems",
         "8"
        ],
        [
         "29",
         "Japan",
         "Manufacturing",
         "Manufacturing Technician",
         "Operate and maintain automated manufacturing equipment",
         "7"
        ],
        [
         "30",
         "Japan",
         "Manufacturing",
         "Supply Chain Analyst",
         "Optimize supply chain operations using AI algorithms",
         "8"
        ],
        [
         "31",
         "Japan",
         "Information",
         "Data Scientist",
         "Utilizes data analysis and machine learning algorithms to extract insights from data",
         "8"
        ],
        [
         "32",
         "Japan",
         "Information",
         "IT Security Specialist",
         "Protects critical information assets from cyber threats and vulnerabilities",
         "7"
        ],
        [
         "33",
         "Japan",
         "Information",
         "Cloud Engineer",
         "Designs and implements cloud-based solutions for efficient data storage and processing",
         "9"
        ],
        [
         "34",
         "Japan",
         "Information",
         "AI Solutions Architect",
         "Designs and implements AI solutions to meet business needs and objectives",
         "8"
        ],
        [
         "35",
         "Japan",
         "Information",
         "Blockchain Developer",
         "Develops blockchain solutions for secure and transparent transaction processing",
         "7"
        ],
        [
         "36",
         "Japan",
         "Finance and Insurance",
         "Data Analyst",
         "Analyzes complex data to improve business outcomes",
         "8"
        ],
        [
         "37",
         "Japan",
         "Finance and Insurance",
         "Risk Analyst",
         "Assesses potential risks and suggests actions to mitigate them",
         "7"
        ],
        [
         "38",
         "Japan",
         "Finance and Insurance",
         "Actuary",
         "Analyzes financial risks using mathematics and statistics",
         "6"
        ],
        [
         "39",
         "Japan",
         "Finance and Insurance",
         "Quantitative Analyst",
         "Uses mathematical models to analyze financial markets",
         "9"
        ]
       ],
       "shape": {
        "columns": 5,
        "rows": 40
       }
      },
      "text/html": [
       "<div>\n",
       "<style scoped>\n",
       "    .dataframe tbody tr th:only-of-type {\n",
       "        vertical-align: middle;\n",
       "    }\n",
       "\n",
       "    .dataframe tbody tr th {\n",
       "        vertical-align: top;\n",
       "    }\n",
       "\n",
       "    .dataframe thead th {\n",
       "        text-align: right;\n",
       "    }\n",
       "</style>\n",
       "<table border=\"1\" class=\"dataframe\">\n",
       "  <thead>\n",
       "    <tr style=\"text-align: right;\">\n",
       "      <th></th>\n",
       "      <th>country</th>\n",
       "      <th>sector</th>\n",
       "      <th>job_role</th>\n",
       "      <th>job_description</th>\n",
       "      <th>job_automation_potential</th>\n",
       "    </tr>\n",
       "  </thead>\n",
       "  <tbody>\n",
       "    <tr>\n",
       "      <th>0</th>\n",
       "      <td>Germany</td>\n",
       "      <td>Manufacturing</td>\n",
       "      <td>Automation Engineer</td>\n",
       "      <td>Responsible for designing, programming, and ma...</td>\n",
       "      <td>9</td>\n",
       "    </tr>\n",
       "    <tr>\n",
       "      <th>1</th>\n",
       "      <td>Germany</td>\n",
       "      <td>Manufacturing</td>\n",
       "      <td>Robotics Technician</td>\n",
       "      <td>Specialist in installing, maintaining, and tro...</td>\n",
       "      <td>8</td>\n",
       "    </tr>\n",
       "    <tr>\n",
       "      <th>2</th>\n",
       "      <td>Germany</td>\n",
       "      <td>Manufacturing</td>\n",
       "      <td>Quality Control Inspector</td>\n",
       "      <td>Ensures products meet quality standards throug...</td>\n",
       "      <td>7</td>\n",
       "    </tr>\n",
       "    <tr>\n",
       "      <th>3</th>\n",
       "      <td>Germany</td>\n",
       "      <td>Manufacturing</td>\n",
       "      <td>Data Analyst</td>\n",
       "      <td>Analyzes manufacturing data to optimize proces...</td>\n",
       "      <td>8</td>\n",
       "    </tr>\n",
       "    <tr>\n",
       "      <th>4</th>\n",
       "      <td>Germany</td>\n",
       "      <td>Healthcare</td>\n",
       "      <td>Clinical Data Analyst</td>\n",
       "      <td>Analyzing and interpreting complex healthcare ...</td>\n",
       "      <td>7</td>\n",
       "    </tr>\n",
       "    <tr>\n",
       "      <th>5</th>\n",
       "      <td>Germany</td>\n",
       "      <td>Healthcare</td>\n",
       "      <td>Healthcare Robotics Engineer</td>\n",
       "      <td>Designing and developing robotic systems for h...</td>\n",
       "      <td>8</td>\n",
       "    </tr>\n",
       "    <tr>\n",
       "      <th>6</th>\n",
       "      <td>Germany</td>\n",
       "      <td>Healthcare</td>\n",
       "      <td>Medical Research Scientist</td>\n",
       "      <td>Conducting research to improve medical treatme...</td>\n",
       "      <td>6</td>\n",
       "    </tr>\n",
       "    <tr>\n",
       "      <th>7</th>\n",
       "      <td>Germany</td>\n",
       "      <td>Healthcare</td>\n",
       "      <td>Health Informatics Specialist</td>\n",
       "      <td>Managing and analyzing healthcare data to impr...</td>\n",
       "      <td>8</td>\n",
       "    </tr>\n",
       "    <tr>\n",
       "      <th>8</th>\n",
       "      <td>Germany</td>\n",
       "      <td>Healthcare</td>\n",
       "      <td>Nurse Practitioner</td>\n",
       "      <td>Providing advanced nursing care and treatment ...</td>\n",
       "      <td>4</td>\n",
       "    </tr>\n",
       "    <tr>\n",
       "      <th>9</th>\n",
       "      <td>Germany</td>\n",
       "      <td>Finance and Insurance</td>\n",
       "      <td>Data Analyst</td>\n",
       "      <td>Analyzing and interpreting complex data sets t...</td>\n",
       "      <td>8</td>\n",
       "    </tr>\n",
       "    <tr>\n",
       "      <th>10</th>\n",
       "      <td>Germany</td>\n",
       "      <td>Finance and Insurance</td>\n",
       "      <td>Actuary</td>\n",
       "      <td>Assessing financial risks and uncertainties us...</td>\n",
       "      <td>7</td>\n",
       "    </tr>\n",
       "    <tr>\n",
       "      <th>11</th>\n",
       "      <td>Germany</td>\n",
       "      <td>Finance and Insurance</td>\n",
       "      <td>Risk Manager</td>\n",
       "      <td>Identifying and managing potential risks to th...</td>\n",
       "      <td>6</td>\n",
       "    </tr>\n",
       "    <tr>\n",
       "      <th>12</th>\n",
       "      <td>Germany</td>\n",
       "      <td>Finance and Insurance</td>\n",
       "      <td>Financial Analyst</td>\n",
       "      <td>Examining financial data and trends to provide...</td>\n",
       "      <td>7</td>\n",
       "    </tr>\n",
       "    <tr>\n",
       "      <th>13</th>\n",
       "      <td>Germany</td>\n",
       "      <td>Finance and Insurance</td>\n",
       "      <td>Underwriter</td>\n",
       "      <td>Assessing insurance applications and determini...</td>\n",
       "      <td>6</td>\n",
       "    </tr>\n",
       "    <tr>\n",
       "      <th>14</th>\n",
       "      <td>United States</td>\n",
       "      <td>Manufacturing</td>\n",
       "      <td>Industrial Engineer</td>\n",
       "      <td>Responsible for finding ways to eliminate wast...</td>\n",
       "      <td>8</td>\n",
       "    </tr>\n",
       "    <tr>\n",
       "      <th>15</th>\n",
       "      <td>United States</td>\n",
       "      <td>Manufacturing</td>\n",
       "      <td>Robotics Technician</td>\n",
       "      <td>Maintains and repairs automated machinery and ...</td>\n",
       "      <td>9</td>\n",
       "    </tr>\n",
       "    <tr>\n",
       "      <th>16</th>\n",
       "      <td>United States</td>\n",
       "      <td>Manufacturing</td>\n",
       "      <td>Quality Control Inspector</td>\n",
       "      <td>Responsible for ensuring products meet quality...</td>\n",
       "      <td>7</td>\n",
       "    </tr>\n",
       "    <tr>\n",
       "      <th>17</th>\n",
       "      <td>United States</td>\n",
       "      <td>Manufacturing</td>\n",
       "      <td>Production Planner</td>\n",
       "      <td>Plans and coordinates production schedules to ...</td>\n",
       "      <td>6</td>\n",
       "    </tr>\n",
       "    <tr>\n",
       "      <th>18</th>\n",
       "      <td>United States</td>\n",
       "      <td>Manufacturing</td>\n",
       "      <td>Supply Chain Analyst</td>\n",
       "      <td>Manages and optimizes the flow of materials an...</td>\n",
       "      <td>8</td>\n",
       "    </tr>\n",
       "    <tr>\n",
       "      <th>19</th>\n",
       "      <td>United States</td>\n",
       "      <td>Healthcare</td>\n",
       "      <td>Medical Records Technician</td>\n",
       "      <td>Maintains and organizes medical records and he...</td>\n",
       "      <td>8</td>\n",
       "    </tr>\n",
       "    <tr>\n",
       "      <th>20</th>\n",
       "      <td>United States</td>\n",
       "      <td>Healthcare</td>\n",
       "      <td>Medical Transcriptionist</td>\n",
       "      <td>Converts voice-recorded reports into written t...</td>\n",
       "      <td>7</td>\n",
       "    </tr>\n",
       "    <tr>\n",
       "      <th>21</th>\n",
       "      <td>United States</td>\n",
       "      <td>Healthcare</td>\n",
       "      <td>Radiologic Technologist</td>\n",
       "      <td>Performs diagnostic imaging examinations like ...</td>\n",
       "      <td>6</td>\n",
       "    </tr>\n",
       "    <tr>\n",
       "      <th>22</th>\n",
       "      <td>United States</td>\n",
       "      <td>Food Services</td>\n",
       "      <td>Restaurant Cashier</td>\n",
       "      <td>Manage transactions and greet customers</td>\n",
       "      <td>8</td>\n",
       "    </tr>\n",
       "    <tr>\n",
       "      <th>23</th>\n",
       "      <td>United States</td>\n",
       "      <td>Food Services</td>\n",
       "      <td>Food Preparation Worker</td>\n",
       "      <td>Prepare ingredients and assist in cooking</td>\n",
       "      <td>7</td>\n",
       "    </tr>\n",
       "    <tr>\n",
       "      <th>24</th>\n",
       "      <td>United States</td>\n",
       "      <td>Food Services</td>\n",
       "      <td>Dishwasher</td>\n",
       "      <td>Clean dishes and kitchen utensils</td>\n",
       "      <td>6</td>\n",
       "    </tr>\n",
       "    <tr>\n",
       "      <th>25</th>\n",
       "      <td>United States</td>\n",
       "      <td>Food Services</td>\n",
       "      <td>Food Delivery Driver</td>\n",
       "      <td>Deliver food orders to customers</td>\n",
       "      <td>5</td>\n",
       "    </tr>\n",
       "    <tr>\n",
       "      <th>26</th>\n",
       "      <td>United States</td>\n",
       "      <td>Food Services</td>\n",
       "      <td>Fast Food Worker</td>\n",
       "      <td>Take orders and serve customers quickly</td>\n",
       "      <td>7</td>\n",
       "    </tr>\n",
       "    <tr>\n",
       "      <th>27</th>\n",
       "      <td>Japan</td>\n",
       "      <td>Manufacturing</td>\n",
       "      <td>Robotics Engineer</td>\n",
       "      <td>Design and develop robotic systems for manufac...</td>\n",
       "      <td>9</td>\n",
       "    </tr>\n",
       "    <tr>\n",
       "      <th>28</th>\n",
       "      <td>Japan</td>\n",
       "      <td>Manufacturing</td>\n",
       "      <td>Quality Control Inspector</td>\n",
       "      <td>Inspect products for defects using automated s...</td>\n",
       "      <td>8</td>\n",
       "    </tr>\n",
       "    <tr>\n",
       "      <th>29</th>\n",
       "      <td>Japan</td>\n",
       "      <td>Manufacturing</td>\n",
       "      <td>Manufacturing Technician</td>\n",
       "      <td>Operate and maintain automated manufacturing e...</td>\n",
       "      <td>7</td>\n",
       "    </tr>\n",
       "    <tr>\n",
       "      <th>30</th>\n",
       "      <td>Japan</td>\n",
       "      <td>Manufacturing</td>\n",
       "      <td>Supply Chain Analyst</td>\n",
       "      <td>Optimize supply chain operations using AI algo...</td>\n",
       "      <td>8</td>\n",
       "    </tr>\n",
       "    <tr>\n",
       "      <th>31</th>\n",
       "      <td>Japan</td>\n",
       "      <td>Information</td>\n",
       "      <td>Data Scientist</td>\n",
       "      <td>Utilizes data analysis and machine learning al...</td>\n",
       "      <td>8</td>\n",
       "    </tr>\n",
       "    <tr>\n",
       "      <th>32</th>\n",
       "      <td>Japan</td>\n",
       "      <td>Information</td>\n",
       "      <td>IT Security Specialist</td>\n",
       "      <td>Protects critical information assets from cybe...</td>\n",
       "      <td>7</td>\n",
       "    </tr>\n",
       "    <tr>\n",
       "      <th>33</th>\n",
       "      <td>Japan</td>\n",
       "      <td>Information</td>\n",
       "      <td>Cloud Engineer</td>\n",
       "      <td>Designs and implements cloud-based solutions f...</td>\n",
       "      <td>9</td>\n",
       "    </tr>\n",
       "    <tr>\n",
       "      <th>34</th>\n",
       "      <td>Japan</td>\n",
       "      <td>Information</td>\n",
       "      <td>AI Solutions Architect</td>\n",
       "      <td>Designs and implements AI solutions to meet bu...</td>\n",
       "      <td>8</td>\n",
       "    </tr>\n",
       "    <tr>\n",
       "      <th>35</th>\n",
       "      <td>Japan</td>\n",
       "      <td>Information</td>\n",
       "      <td>Blockchain Developer</td>\n",
       "      <td>Develops blockchain solutions for secure and t...</td>\n",
       "      <td>7</td>\n",
       "    </tr>\n",
       "    <tr>\n",
       "      <th>36</th>\n",
       "      <td>Japan</td>\n",
       "      <td>Finance and Insurance</td>\n",
       "      <td>Data Analyst</td>\n",
       "      <td>Analyzes complex data to improve business outc...</td>\n",
       "      <td>8</td>\n",
       "    </tr>\n",
       "    <tr>\n",
       "      <th>37</th>\n",
       "      <td>Japan</td>\n",
       "      <td>Finance and Insurance</td>\n",
       "      <td>Risk Analyst</td>\n",
       "      <td>Assesses potential risks and suggests actions ...</td>\n",
       "      <td>7</td>\n",
       "    </tr>\n",
       "    <tr>\n",
       "      <th>38</th>\n",
       "      <td>Japan</td>\n",
       "      <td>Finance and Insurance</td>\n",
       "      <td>Actuary</td>\n",
       "      <td>Analyzes financial risks using mathematics and...</td>\n",
       "      <td>6</td>\n",
       "    </tr>\n",
       "    <tr>\n",
       "      <th>39</th>\n",
       "      <td>Japan</td>\n",
       "      <td>Finance and Insurance</td>\n",
       "      <td>Quantitative Analyst</td>\n",
       "      <td>Uses mathematical models to analyze financial ...</td>\n",
       "      <td>9</td>\n",
       "    </tr>\n",
       "  </tbody>\n",
       "</table>\n",
       "</div>"
      ],
      "text/plain": [
       "          country                 sector                       job_role  \\\n",
       "0         Germany          Manufacturing            Automation Engineer   \n",
       "1         Germany          Manufacturing            Robotics Technician   \n",
       "2         Germany          Manufacturing      Quality Control Inspector   \n",
       "3         Germany          Manufacturing                   Data Analyst   \n",
       "4         Germany             Healthcare          Clinical Data Analyst   \n",
       "5         Germany             Healthcare   Healthcare Robotics Engineer   \n",
       "6         Germany             Healthcare     Medical Research Scientist   \n",
       "7         Germany             Healthcare  Health Informatics Specialist   \n",
       "8         Germany             Healthcare             Nurse Practitioner   \n",
       "9         Germany  Finance and Insurance                   Data Analyst   \n",
       "10        Germany  Finance and Insurance                        Actuary   \n",
       "11        Germany  Finance and Insurance                   Risk Manager   \n",
       "12        Germany  Finance and Insurance              Financial Analyst   \n",
       "13        Germany  Finance and Insurance                    Underwriter   \n",
       "14  United States          Manufacturing            Industrial Engineer   \n",
       "15  United States          Manufacturing            Robotics Technician   \n",
       "16  United States          Manufacturing      Quality Control Inspector   \n",
       "17  United States          Manufacturing             Production Planner   \n",
       "18  United States          Manufacturing           Supply Chain Analyst   \n",
       "19  United States             Healthcare     Medical Records Technician   \n",
       "20  United States             Healthcare       Medical Transcriptionist   \n",
       "21  United States             Healthcare        Radiologic Technologist   \n",
       "22  United States          Food Services             Restaurant Cashier   \n",
       "23  United States          Food Services        Food Preparation Worker   \n",
       "24  United States          Food Services                     Dishwasher   \n",
       "25  United States          Food Services           Food Delivery Driver   \n",
       "26  United States          Food Services               Fast Food Worker   \n",
       "27          Japan          Manufacturing              Robotics Engineer   \n",
       "28          Japan          Manufacturing      Quality Control Inspector   \n",
       "29          Japan          Manufacturing       Manufacturing Technician   \n",
       "30          Japan          Manufacturing           Supply Chain Analyst   \n",
       "31          Japan            Information                 Data Scientist   \n",
       "32          Japan            Information         IT Security Specialist   \n",
       "33          Japan            Information                 Cloud Engineer   \n",
       "34          Japan            Information         AI Solutions Architect   \n",
       "35          Japan            Information           Blockchain Developer   \n",
       "36          Japan  Finance and Insurance                   Data Analyst   \n",
       "37          Japan  Finance and Insurance                   Risk Analyst   \n",
       "38          Japan  Finance and Insurance                        Actuary   \n",
       "39          Japan  Finance and Insurance           Quantitative Analyst   \n",
       "\n",
       "                                      job_description  \\\n",
       "0   Responsible for designing, programming, and ma...   \n",
       "1   Specialist in installing, maintaining, and tro...   \n",
       "2   Ensures products meet quality standards throug...   \n",
       "3   Analyzes manufacturing data to optimize proces...   \n",
       "4   Analyzing and interpreting complex healthcare ...   \n",
       "5   Designing and developing robotic systems for h...   \n",
       "6   Conducting research to improve medical treatme...   \n",
       "7   Managing and analyzing healthcare data to impr...   \n",
       "8   Providing advanced nursing care and treatment ...   \n",
       "9   Analyzing and interpreting complex data sets t...   \n",
       "10  Assessing financial risks and uncertainties us...   \n",
       "11  Identifying and managing potential risks to th...   \n",
       "12  Examining financial data and trends to provide...   \n",
       "13  Assessing insurance applications and determini...   \n",
       "14  Responsible for finding ways to eliminate wast...   \n",
       "15  Maintains and repairs automated machinery and ...   \n",
       "16  Responsible for ensuring products meet quality...   \n",
       "17  Plans and coordinates production schedules to ...   \n",
       "18  Manages and optimizes the flow of materials an...   \n",
       "19  Maintains and organizes medical records and he...   \n",
       "20  Converts voice-recorded reports into written t...   \n",
       "21  Performs diagnostic imaging examinations like ...   \n",
       "22            Manage transactions and greet customers   \n",
       "23          Prepare ingredients and assist in cooking   \n",
       "24                  Clean dishes and kitchen utensils   \n",
       "25                   Deliver food orders to customers   \n",
       "26            Take orders and serve customers quickly   \n",
       "27  Design and develop robotic systems for manufac...   \n",
       "28  Inspect products for defects using automated s...   \n",
       "29  Operate and maintain automated manufacturing e...   \n",
       "30  Optimize supply chain operations using AI algo...   \n",
       "31  Utilizes data analysis and machine learning al...   \n",
       "32  Protects critical information assets from cybe...   \n",
       "33  Designs and implements cloud-based solutions f...   \n",
       "34  Designs and implements AI solutions to meet bu...   \n",
       "35  Develops blockchain solutions for secure and t...   \n",
       "36  Analyzes complex data to improve business outc...   \n",
       "37  Assesses potential risks and suggests actions ...   \n",
       "38  Analyzes financial risks using mathematics and...   \n",
       "39  Uses mathematical models to analyze financial ...   \n",
       "\n",
       "    job_automation_potential  \n",
       "0                          9  \n",
       "1                          8  \n",
       "2                          7  \n",
       "3                          8  \n",
       "4                          7  \n",
       "5                          8  \n",
       "6                          6  \n",
       "7                          8  \n",
       "8                          4  \n",
       "9                          8  \n",
       "10                         7  \n",
       "11                         6  \n",
       "12                         7  \n",
       "13                         6  \n",
       "14                         8  \n",
       "15                         9  \n",
       "16                         7  \n",
       "17                         6  \n",
       "18                         8  \n",
       "19                         8  \n",
       "20                         7  \n",
       "21                         6  \n",
       "22                         8  \n",
       "23                         7  \n",
       "24                         6  \n",
       "25                         5  \n",
       "26                         7  \n",
       "27                         9  \n",
       "28                         8  \n",
       "29                         7  \n",
       "30                         8  \n",
       "31                         8  \n",
       "32                         7  \n",
       "33                         9  \n",
       "34                         8  \n",
       "35                         7  \n",
       "36                         8  \n",
       "37                         7  \n",
       "38                         6  \n",
       "39                         9  "
      ]
     },
     "execution_count": 14,
     "metadata": {},
     "output_type": "execute_result"
    }
   ],
   "source": [
    "responses"
   ]
  }
 ],
 "metadata": {
  "kernelspec": {
   "display_name": ".venv",
   "language": "python",
   "name": "python3"
  },
  "language_info": {
   "codemirror_mode": {
    "name": "ipython",
    "version": 3
   },
   "file_extension": ".py",
   "mimetype": "text/x-python",
   "name": "python",
   "nbconvert_exporter": "python",
   "pygments_lexer": "ipython3",
   "version": "3.11.6"
  }
 },
 "nbformat": 4,
 "nbformat_minor": 5
}
